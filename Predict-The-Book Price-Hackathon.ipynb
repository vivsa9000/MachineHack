{
 "cells": [
  {
   "cell_type": "markdown",
   "metadata": {
    "colab_type": "text",
    "id": "3g6Xb7vS2mfo"
   },
   "source": [
    "### 1. Dataset Description  <a id='columns'>\n",
    "\n",
    "Size of training set: 5961 records\n",
    "\n",
    "Size of test set: 1987 records\n",
    "\n",
    "FEATURES:\n",
    "\n",
    "Qualification: Qualification and degrees held by the doctor\n",
    "\n",
    "Experience: Experience of the doctor in number of years\n",
    "\n",
    "Rating: Rating given by patients\n",
    "\n",
    "Profile: Type of the doctor\n",
    "\n",
    "Miscellaeous_Info: Extra information about the doctor\n",
    "\n",
    "Fees: Fees charged by the doctor\n",
    "\n",
    "Place: Area and the city where the doctor is located.\n",
    "\n",
    "We have all been in situation where we go to a doctor in emergency and find that the consultation fees are too high. As a data scientist we all should do better. What if you have data that records important details about a doctor and you get to build a model to predict the doctor’s consulting fee.? \n",
    "\n"
   ]
  },
  {
   "cell_type": "code",
   "execution_count": 1,
   "metadata": {
    "scrolled": true
   },
   "outputs": [
    {
     "ename": "ModuleNotFoundError",
     "evalue": "No module named 'xgboost'",
     "output_type": "error",
     "traceback": [
      "\u001b[1;31m---------------------------------------------------------------------------\u001b[0m",
      "\u001b[1;31mModuleNotFoundError\u001b[0m                       Traceback (most recent call last)",
      "\u001b[1;32m<ipython-input-1-96b641bfdbc8>\u001b[0m in \u001b[0;36m<module>\u001b[1;34m\u001b[0m\n\u001b[0;32m     18\u001b[0m \u001b[1;32mfrom\u001b[0m \u001b[0msklearn\u001b[0m\u001b[1;33m.\u001b[0m\u001b[0mensemble\u001b[0m \u001b[1;32mimport\u001b[0m \u001b[0mRandomForestClassifier\u001b[0m\u001b[1;33m,\u001b[0m \u001b[0mAdaBoostClassifier\u001b[0m\u001b[1;33m\u001b[0m\u001b[1;33m\u001b[0m\u001b[0m\n\u001b[0;32m     19\u001b[0m \u001b[1;32mfrom\u001b[0m \u001b[0msklearn\u001b[0m\u001b[1;33m.\u001b[0m\u001b[0mnaive_bayes\u001b[0m \u001b[1;32mimport\u001b[0m \u001b[0mGaussianNB\u001b[0m\u001b[1;33m\u001b[0m\u001b[1;33m\u001b[0m\u001b[0m\n\u001b[1;32m---> 20\u001b[1;33m \u001b[1;32mfrom\u001b[0m \u001b[0mxgboost\u001b[0m\u001b[1;33m.\u001b[0m\u001b[0msklearn\u001b[0m \u001b[1;32mimport\u001b[0m \u001b[0mXGBClassifier\u001b[0m\u001b[1;33m\u001b[0m\u001b[1;33m\u001b[0m\u001b[0m\n\u001b[0m\u001b[0;32m     21\u001b[0m \u001b[1;32mfrom\u001b[0m \u001b[0msklearn\u001b[0m\u001b[1;33m.\u001b[0m\u001b[0mensemble\u001b[0m \u001b[1;32mimport\u001b[0m \u001b[0mExtraTreesClassifier\u001b[0m\u001b[1;33m\u001b[0m\u001b[1;33m\u001b[0m\u001b[0m\n\u001b[0;32m     22\u001b[0m \u001b[1;32mfrom\u001b[0m \u001b[0msklearn\u001b[0m\u001b[1;33m.\u001b[0m\u001b[0mmodel_selection\u001b[0m \u001b[1;32mimport\u001b[0m \u001b[0mGridSearchCV\u001b[0m\u001b[1;33m\u001b[0m\u001b[1;33m\u001b[0m\u001b[0m\n",
      "\u001b[1;31mModuleNotFoundError\u001b[0m: No module named 'xgboost'"
     ]
    }
   ],
   "source": [
    "import numpy as np\n",
    "import pandas as pd\n",
    "\n",
    "from matplotlib import pyplot as plt\n",
    "import matplotlib\n",
    "%matplotlib inline\n",
    "import seaborn as sns\n",
    "import pandas_profiling\n",
    "matplotlib.rc('xtick', labelsize=20) \n",
    "matplotlib.rc('ytick', labelsize=20)\n",
    "from sklearn.model_selection import train_test_split\n",
    "from sklearn.linear_model import SGDClassifier\n",
    "from sklearn.metrics import f1_score, log_loss\n",
    "from sklearn.neural_network import MLPClassifier\n",
    "from sklearn.neighbors import KNeighborsClassifier\n",
    "from sklearn.svm import SVC\n",
    "from sklearn.gaussian_process.kernels import RBF\n",
    "from sklearn.ensemble import RandomForestClassifier, AdaBoostClassifier\n",
    "from sklearn.naive_bayes import GaussianNB\n",
    "from xgboost.sklearn import XGBClassifier\n",
    "from sklearn.ensemble import ExtraTreesClassifier\n",
    "from sklearn.model_selection import GridSearchCV\n",
    "from sklearn.ensemble import BaggingClassifier\n",
    "from sklearn.model_selection import KFold\n",
    "from sklearn import metrics\n",
    "import collections\n",
    "import warnings\n",
    "warnings.filterwarnings('ignore')\n",
    "%matplotlib inline\n",
    "from collections import Counter\n"
   ]
  },
  {
   "cell_type": "code",
   "execution_count": 68,
   "metadata": {},
   "outputs": [],
   "source": [
    "from IPython.core.interactiveshell import InteractiveShell\n",
    "InteractiveShell.ast_mode_interactivity = \"all\""
   ]
  },
  {
   "cell_type": "code",
   "execution_count": 69,
   "metadata": {
    "scrolled": false
   },
   "outputs": [],
   "source": [
    "x1=pd.ExcelFile(r'Data_Train.xlsx')\n",
    "x2=pd.ExcelFile(r'Data_Test.xlsx')"
   ]
  },
  {
   "cell_type": "code",
   "execution_count": 70,
   "metadata": {},
   "outputs": [
    {
     "data": {
      "text/plain": [
       "['Sheet1']"
      ]
     },
     "execution_count": 70,
     "metadata": {},
     "output_type": "execute_result"
    }
   ],
   "source": [
    "x1.sheet_names"
   ]
  },
  {
   "cell_type": "markdown",
   "metadata": {},
   "source": [
    "### create a list of six columns\n",
    "\n",
    "1. Qualification\n",
    "2. Experience\n",
    "4. Place3. Rating\n",
    "\n",
    "5. Profile\n",
    "6. Miscellaneous_Info\n",
    "7. Fees"
   ]
  },
  {
   "cell_type": "code",
   "execution_count": 5,
   "metadata": {},
   "outputs": [],
   "source": [
    "# Define the columns to be read"
   ]
  },
  {
   "cell_type": "code",
   "execution_count": 71,
   "metadata": {},
   "outputs": [],
   "source": [
    "columns_read=['Title','Author','Edition','Ratings','Reviews','Synopsis','Genre','BookCategory','Price']\n",
    "columns_readt=['Title','Author','Edition','Ratings','Reviews','Synopsis','Genre','BookCategory']"
   ]
  },
  {
   "cell_type": "markdown",
   "metadata": {},
   "source": [
    "### parse the data and read the six columns present in 7.1 sheet of data and skip first six rows and set skipfooter=14 and the column names as the list defined above"
   ]
  },
  {
   "cell_type": "code",
   "execution_count": 72,
   "metadata": {
    "scrolled": true
   },
   "outputs": [
    {
     "data": {
      "text/html": [
       "<div>\n",
       "<style scoped>\n",
       "    .dataframe tbody tr th:only-of-type {\n",
       "        vertical-align: middle;\n",
       "    }\n",
       "\n",
       "    .dataframe tbody tr th {\n",
       "        vertical-align: top;\n",
       "    }\n",
       "\n",
       "    .dataframe thead th {\n",
       "        text-align: right;\n",
       "    }\n",
       "</style>\n",
       "<table border=\"1\" class=\"dataframe\">\n",
       "  <thead>\n",
       "    <tr style=\"text-align: right;\">\n",
       "      <th></th>\n",
       "      <th>Title</th>\n",
       "      <th>Author</th>\n",
       "      <th>Edition</th>\n",
       "      <th>Ratings</th>\n",
       "      <th>Reviews</th>\n",
       "      <th>Synopsis</th>\n",
       "      <th>Genre</th>\n",
       "      <th>BookCategory</th>\n",
       "      <th>Price</th>\n",
       "    </tr>\n",
       "  </thead>\n",
       "  <tbody>\n",
       "    <tr>\n",
       "      <th>0</th>\n",
       "      <td>The Prisoner's Gold (The Hunters 3)</td>\n",
       "      <td>Chris Kuzneski</td>\n",
       "      <td>Paperback,– 10 Mar 2016</td>\n",
       "      <td>4.0 out of 5 stars</td>\n",
       "      <td>8 customer reviews</td>\n",
       "      <td>THE HUNTERS return in their third brilliant no...</td>\n",
       "      <td>Action &amp; Adventure (Books)</td>\n",
       "      <td>Action &amp; Adventure</td>\n",
       "      <td>220.00</td>\n",
       "    </tr>\n",
       "    <tr>\n",
       "      <th>1</th>\n",
       "      <td>Guru Dutt: A Tragedy in Three Acts</td>\n",
       "      <td>Arun Khopkar</td>\n",
       "      <td>Paperback,– 7 Nov 2012</td>\n",
       "      <td>3.9 out of 5 stars</td>\n",
       "      <td>14 customer reviews</td>\n",
       "      <td>A layered portrait of a troubled genius for wh...</td>\n",
       "      <td>Cinema &amp; Broadcast (Books)</td>\n",
       "      <td>Biographies, Diaries &amp; True Accounts</td>\n",
       "      <td>202.93</td>\n",
       "    </tr>\n",
       "    <tr>\n",
       "      <th>2</th>\n",
       "      <td>Leviathan (Penguin Classics)</td>\n",
       "      <td>Thomas Hobbes</td>\n",
       "      <td>Paperback,– 25 Feb 1982</td>\n",
       "      <td>4.8 out of 5 stars</td>\n",
       "      <td>6 customer reviews</td>\n",
       "      <td>\"During the time men live without a common Pow...</td>\n",
       "      <td>International Relations</td>\n",
       "      <td>Humour</td>\n",
       "      <td>299.00</td>\n",
       "    </tr>\n",
       "    <tr>\n",
       "      <th>3</th>\n",
       "      <td>A Pocket Full of Rye (Miss Marple)</td>\n",
       "      <td>Agatha Christie</td>\n",
       "      <td>Paperback,– 5 Oct 2017</td>\n",
       "      <td>4.1 out of 5 stars</td>\n",
       "      <td>13 customer reviews</td>\n",
       "      <td>A handful of grain is found in the pocket of a...</td>\n",
       "      <td>Contemporary Fiction (Books)</td>\n",
       "      <td>Crime, Thriller &amp; Mystery</td>\n",
       "      <td>180.00</td>\n",
       "    </tr>\n",
       "    <tr>\n",
       "      <th>4</th>\n",
       "      <td>LIFE 70 Years of Extraordinary Photography</td>\n",
       "      <td>Editors of Life</td>\n",
       "      <td>Hardcover,– 10 Oct 2006</td>\n",
       "      <td>5.0 out of 5 stars</td>\n",
       "      <td>1 customer review</td>\n",
       "      <td>For seven decades, \"Life\" has been thrilling t...</td>\n",
       "      <td>Photography Textbooks</td>\n",
       "      <td>Arts, Film &amp; Photography</td>\n",
       "      <td>965.62</td>\n",
       "    </tr>\n",
       "  </tbody>\n",
       "</table>\n",
       "</div>"
      ],
      "text/plain": [
       "                                        Title           Author  \\\n",
       "0         The Prisoner's Gold (The Hunters 3)   Chris Kuzneski   \n",
       "1          Guru Dutt: A Tragedy in Three Acts     Arun Khopkar   \n",
       "2                Leviathan (Penguin Classics)    Thomas Hobbes   \n",
       "3          A Pocket Full of Rye (Miss Marple)  Agatha Christie   \n",
       "4  LIFE 70 Years of Extraordinary Photography  Editors of Life   \n",
       "\n",
       "                   Edition             Ratings              Reviews  \\\n",
       "0  Paperback,– 10 Mar 2016  4.0 out of 5 stars   8 customer reviews   \n",
       "1   Paperback,– 7 Nov 2012  3.9 out of 5 stars  14 customer reviews   \n",
       "2  Paperback,– 25 Feb 1982  4.8 out of 5 stars   6 customer reviews   \n",
       "3   Paperback,– 5 Oct 2017  4.1 out of 5 stars  13 customer reviews   \n",
       "4  Hardcover,– 10 Oct 2006  5.0 out of 5 stars    1 customer review   \n",
       "\n",
       "                                            Synopsis  \\\n",
       "0  THE HUNTERS return in their third brilliant no...   \n",
       "1  A layered portrait of a troubled genius for wh...   \n",
       "2  \"During the time men live without a common Pow...   \n",
       "3  A handful of grain is found in the pocket of a...   \n",
       "4  For seven decades, \"Life\" has been thrilling t...   \n",
       "\n",
       "                          Genre                          BookCategory   Price  \n",
       "0    Action & Adventure (Books)                    Action & Adventure  220.00  \n",
       "1    Cinema & Broadcast (Books)  Biographies, Diaries & True Accounts  202.93  \n",
       "2       International Relations                                Humour  299.00  \n",
       "3  Contemporary Fiction (Books)             Crime, Thriller & Mystery  180.00  \n",
       "4         Photography Textbooks              Arts, Film & Photography  965.62  "
      ]
     },
     "execution_count": 72,
     "metadata": {},
     "output_type": "execute_result"
    }
   ],
   "source": [
    "ds_input = x1.parse(u'Sheet1',names=columns_read)\n",
    "ds_input.head()"
   ]
  },
  {
   "cell_type": "code",
   "execution_count": 73,
   "metadata": {},
   "outputs": [
    {
     "data": {
      "text/html": [
       "<div>\n",
       "<style scoped>\n",
       "    .dataframe tbody tr th:only-of-type {\n",
       "        vertical-align: middle;\n",
       "    }\n",
       "\n",
       "    .dataframe tbody tr th {\n",
       "        vertical-align: top;\n",
       "    }\n",
       "\n",
       "    .dataframe thead th {\n",
       "        text-align: right;\n",
       "    }\n",
       "</style>\n",
       "<table border=\"1\" class=\"dataframe\">\n",
       "  <thead>\n",
       "    <tr style=\"text-align: right;\">\n",
       "      <th></th>\n",
       "      <th>Title</th>\n",
       "      <th>Author</th>\n",
       "      <th>Edition</th>\n",
       "      <th>Ratings</th>\n",
       "      <th>Reviews</th>\n",
       "      <th>Synopsis</th>\n",
       "      <th>Genre</th>\n",
       "      <th>BookCategory</th>\n",
       "    </tr>\n",
       "  </thead>\n",
       "  <tbody>\n",
       "    <tr>\n",
       "      <th>0</th>\n",
       "      <td>The Complete Sherlock Holmes: 2 Boxes sets</td>\n",
       "      <td>Sir Arthur Conan Doyle</td>\n",
       "      <td>Mass Market Paperback,– 1 Oct 1986</td>\n",
       "      <td>4.4 out of 5 stars</td>\n",
       "      <td>960 customer reviews</td>\n",
       "      <td>A collection of entire body of work of the She...</td>\n",
       "      <td>Short Stories (Books)</td>\n",
       "      <td>Crime, Thriller &amp; Mystery</td>\n",
       "    </tr>\n",
       "    <tr>\n",
       "      <th>1</th>\n",
       "      <td>Learn Docker - Fundamentals of Docker 18.x: Ev...</td>\n",
       "      <td>Gabriel N. Schenker</td>\n",
       "      <td>Paperback,– Import, 26 Apr 2018</td>\n",
       "      <td>5.0 out of 5 stars</td>\n",
       "      <td>1 customer review</td>\n",
       "      <td>Enhance your software deployment workflow usin...</td>\n",
       "      <td>Operating Systems Textbooks</td>\n",
       "      <td>Computing, Internet &amp; Digital Media</td>\n",
       "    </tr>\n",
       "    <tr>\n",
       "      <th>2</th>\n",
       "      <td>Big Girl</td>\n",
       "      <td>Danielle Steel</td>\n",
       "      <td>Paperback,– 17 Mar 2011</td>\n",
       "      <td>5.0 out of 5 stars</td>\n",
       "      <td>4 customer reviews</td>\n",
       "      <td>'Watch out, world. Here I come!'\\nFor Victoria...</td>\n",
       "      <td>Romance (Books)</td>\n",
       "      <td>Romance</td>\n",
       "    </tr>\n",
       "    <tr>\n",
       "      <th>3</th>\n",
       "      <td>Think Python: How to Think Like a Computer Sci...</td>\n",
       "      <td>Allen B. Downey</td>\n",
       "      <td>Paperback,– 2016</td>\n",
       "      <td>4.1 out of 5 stars</td>\n",
       "      <td>11 customer reviews</td>\n",
       "      <td>If you want to learn how to program, working w...</td>\n",
       "      <td>Programming &amp; Software Development (Books)</td>\n",
       "      <td>Computing, Internet &amp; Digital Media</td>\n",
       "    </tr>\n",
       "    <tr>\n",
       "      <th>4</th>\n",
       "      <td>Oxford Word Skills: Advanced - Idioms &amp; Phrasa...</td>\n",
       "      <td>Redman Gairns</td>\n",
       "      <td>Paperback,– 26 Dec 2011</td>\n",
       "      <td>4.4 out of 5 stars</td>\n",
       "      <td>9 customer reviews</td>\n",
       "      <td>Learn and practise the verbs, prepositions and...</td>\n",
       "      <td>Linguistics (Books)</td>\n",
       "      <td>Language, Linguistics &amp; Writing</td>\n",
       "    </tr>\n",
       "  </tbody>\n",
       "</table>\n",
       "</div>"
      ],
      "text/plain": [
       "                                               Title                  Author  \\\n",
       "0         The Complete Sherlock Holmes: 2 Boxes sets  Sir Arthur Conan Doyle   \n",
       "1  Learn Docker - Fundamentals of Docker 18.x: Ev...     Gabriel N. Schenker   \n",
       "2                                           Big Girl          Danielle Steel   \n",
       "3  Think Python: How to Think Like a Computer Sci...         Allen B. Downey   \n",
       "4  Oxford Word Skills: Advanced - Idioms & Phrasa...           Redman Gairns   \n",
       "\n",
       "                              Edition             Ratings  \\\n",
       "0  Mass Market Paperback,– 1 Oct 1986  4.4 out of 5 stars   \n",
       "1     Paperback,– Import, 26 Apr 2018  5.0 out of 5 stars   \n",
       "2             Paperback,– 17 Mar 2011  5.0 out of 5 stars   \n",
       "3                    Paperback,– 2016  4.1 out of 5 stars   \n",
       "4             Paperback,– 26 Dec 2011  4.4 out of 5 stars   \n",
       "\n",
       "                Reviews                                           Synopsis  \\\n",
       "0  960 customer reviews  A collection of entire body of work of the She...   \n",
       "1     1 customer review  Enhance your software deployment workflow usin...   \n",
       "2    4 customer reviews  'Watch out, world. Here I come!'\\nFor Victoria...   \n",
       "3   11 customer reviews  If you want to learn how to program, working w...   \n",
       "4    9 customer reviews  Learn and practise the verbs, prepositions and...   \n",
       "\n",
       "                                        Genre  \\\n",
       "0                       Short Stories (Books)   \n",
       "1                 Operating Systems Textbooks   \n",
       "2                             Romance (Books)   \n",
       "3  Programming & Software Development (Books)   \n",
       "4                         Linguistics (Books)   \n",
       "\n",
       "                          BookCategory  \n",
       "0            Crime, Thriller & Mystery  \n",
       "1  Computing, Internet & Digital Media  \n",
       "2                              Romance  \n",
       "3  Computing, Internet & Digital Media  \n",
       "4      Language, Linguistics & Writing  "
      ]
     },
     "execution_count": 73,
     "metadata": {},
     "output_type": "execute_result"
    }
   ],
   "source": [
    "dst_input = x2.parse(u'Sheet1',names=columns_readt)\n",
    "dst_input.head()"
   ]
  },
  {
   "cell_type": "code",
   "execution_count": 9,
   "metadata": {
    "scrolled": true
   },
   "outputs": [],
   "source": [
    "#report = pandas_profiling.ProfileReport(ds_input)\n",
    "#covert profile report as html file\n",
    "#report.to_file(\"ds_input.html\")"
   ]
  },
  {
   "cell_type": "code",
   "execution_count": 74,
   "metadata": {
    "scrolled": true
   },
   "outputs": [
    {
     "name": "stdout",
     "output_type": "stream",
     "text": [
      "<class 'pandas.core.frame.DataFrame'>\n",
      "RangeIndex: 6237 entries, 0 to 6236\n",
      "Data columns (total 9 columns):\n",
      "Title           6237 non-null object\n",
      "Author          6237 non-null object\n",
      "Edition         6237 non-null object\n",
      "Ratings         6237 non-null object\n",
      "Reviews         6237 non-null object\n",
      "Synopsis        6237 non-null object\n",
      "Genre           6237 non-null object\n",
      "BookCategory    6237 non-null object\n",
      "Price           6237 non-null float64\n",
      "dtypes: float64(1), object(8)\n",
      "memory usage: 438.6+ KB\n"
     ]
    }
   ],
   "source": [
    " ds_input.info()"
   ]
  },
  {
   "cell_type": "code",
   "execution_count": 75,
   "metadata": {},
   "outputs": [
    {
     "name": "stdout",
     "output_type": "stream",
     "text": [
      "<class 'pandas.core.frame.DataFrame'>\n",
      "RangeIndex: 1560 entries, 0 to 1559\n",
      "Data columns (total 8 columns):\n",
      "Title           1560 non-null object\n",
      "Author          1560 non-null object\n",
      "Edition         1560 non-null object\n",
      "Ratings         1560 non-null object\n",
      "Reviews         1560 non-null object\n",
      "Synopsis        1560 non-null object\n",
      "Genre           1560 non-null object\n",
      "BookCategory    1560 non-null object\n",
      "dtypes: object(8)\n",
      "memory usage: 97.6+ KB\n"
     ]
    }
   ],
   "source": [
    "dst_input.info()"
   ]
  },
  {
   "cell_type": "code",
   "execution_count": 76,
   "metadata": {
    "scrolled": false
   },
   "outputs": [
    {
     "name": "stdout",
     "output_type": "stream",
     "text": [
      "<class 'pandas.core.frame.DataFrame'>\n",
      "RangeIndex: 6237 entries, 0 to 6236\n",
      "Data columns (total 9 columns):\n",
      "Title           6237 non-null object\n",
      "Author          6237 non-null object\n",
      "Edition         6237 non-null object\n",
      "Ratings         6237 non-null object\n",
      "Reviews         6237 non-null object\n",
      "Synopsis        6237 non-null object\n",
      "Genre           6237 non-null object\n",
      "BookCategory    6237 non-null object\n",
      "Price           6237 non-null float64\n",
      "dtypes: float64(1), object(8)\n",
      "memory usage: 438.6+ KB\n"
     ]
    }
   ],
   "source": [
    " ds_input.info()"
   ]
  },
  {
   "cell_type": "code",
   "execution_count": 77,
   "metadata": {
    "scrolled": true
   },
   "outputs": [
    {
     "name": "stdout",
     "output_type": "stream",
     "text": [
      "<class 'pandas.core.frame.DataFrame'>\n",
      "RangeIndex: 1560 entries, 0 to 1559\n",
      "Data columns (total 8 columns):\n",
      "Title           1560 non-null object\n",
      "Author          1560 non-null object\n",
      "Edition         1560 non-null object\n",
      "Ratings         1560 non-null object\n",
      "Reviews         1560 non-null object\n",
      "Synopsis        1560 non-null object\n",
      "Genre           1560 non-null object\n",
      "BookCategory    1560 non-null object\n",
      "dtypes: object(8)\n",
      "memory usage: 97.6+ KB\n"
     ]
    }
   ],
   "source": [
    "dst_input.info()"
   ]
  },
  {
   "cell_type": "code",
   "execution_count": 78,
   "metadata": {
    "scrolled": true
   },
   "outputs": [
    {
     "data": {
      "text/html": [
       "<div>\n",
       "<style scoped>\n",
       "    .dataframe tbody tr th:only-of-type {\n",
       "        vertical-align: middle;\n",
       "    }\n",
       "\n",
       "    .dataframe tbody tr th {\n",
       "        vertical-align: top;\n",
       "    }\n",
       "\n",
       "    .dataframe thead th {\n",
       "        text-align: right;\n",
       "    }\n",
       "</style>\n",
       "<table border=\"1\" class=\"dataframe\">\n",
       "  <thead>\n",
       "    <tr style=\"text-align: right;\">\n",
       "      <th></th>\n",
       "      <th>Title</th>\n",
       "      <th>Author</th>\n",
       "      <th>Edition</th>\n",
       "      <th>Ratings</th>\n",
       "      <th>Reviews</th>\n",
       "      <th>Synopsis</th>\n",
       "      <th>Genre</th>\n",
       "      <th>BookCategory</th>\n",
       "    </tr>\n",
       "  </thead>\n",
       "  <tbody>\n",
       "    <tr>\n",
       "      <th>0</th>\n",
       "      <td>The Complete Sherlock Holmes: 2 Boxes sets</td>\n",
       "      <td>Sir Arthur Conan Doyle</td>\n",
       "      <td>Mass Market Paperback,– 1 Oct 1986</td>\n",
       "      <td>4.4 out of 5 stars</td>\n",
       "      <td>960 customer reviews</td>\n",
       "      <td>A collection of entire body of work of the She...</td>\n",
       "      <td>Short Stories (Books)</td>\n",
       "      <td>Crime, Thriller &amp; Mystery</td>\n",
       "    </tr>\n",
       "    <tr>\n",
       "      <th>1</th>\n",
       "      <td>Learn Docker - Fundamentals of Docker 18.x: Ev...</td>\n",
       "      <td>Gabriel N. Schenker</td>\n",
       "      <td>Paperback,– Import, 26 Apr 2018</td>\n",
       "      <td>5.0 out of 5 stars</td>\n",
       "      <td>1 customer review</td>\n",
       "      <td>Enhance your software deployment workflow usin...</td>\n",
       "      <td>Operating Systems Textbooks</td>\n",
       "      <td>Computing, Internet &amp; Digital Media</td>\n",
       "    </tr>\n",
       "    <tr>\n",
       "      <th>2</th>\n",
       "      <td>Big Girl</td>\n",
       "      <td>Danielle Steel</td>\n",
       "      <td>Paperback,– 17 Mar 2011</td>\n",
       "      <td>5.0 out of 5 stars</td>\n",
       "      <td>4 customer reviews</td>\n",
       "      <td>'Watch out, world. Here I come!'\\nFor Victoria...</td>\n",
       "      <td>Romance (Books)</td>\n",
       "      <td>Romance</td>\n",
       "    </tr>\n",
       "    <tr>\n",
       "      <th>3</th>\n",
       "      <td>Think Python: How to Think Like a Computer Sci...</td>\n",
       "      <td>Allen B. Downey</td>\n",
       "      <td>Paperback,– 2016</td>\n",
       "      <td>4.1 out of 5 stars</td>\n",
       "      <td>11 customer reviews</td>\n",
       "      <td>If you want to learn how to program, working w...</td>\n",
       "      <td>Programming &amp; Software Development (Books)</td>\n",
       "      <td>Computing, Internet &amp; Digital Media</td>\n",
       "    </tr>\n",
       "    <tr>\n",
       "      <th>4</th>\n",
       "      <td>Oxford Word Skills: Advanced - Idioms &amp; Phrasa...</td>\n",
       "      <td>Redman Gairns</td>\n",
       "      <td>Paperback,– 26 Dec 2011</td>\n",
       "      <td>4.4 out of 5 stars</td>\n",
       "      <td>9 customer reviews</td>\n",
       "      <td>Learn and practise the verbs, prepositions and...</td>\n",
       "      <td>Linguistics (Books)</td>\n",
       "      <td>Language, Linguistics &amp; Writing</td>\n",
       "    </tr>\n",
       "  </tbody>\n",
       "</table>\n",
       "</div>"
      ],
      "text/plain": [
       "                                               Title                  Author  \\\n",
       "0         The Complete Sherlock Holmes: 2 Boxes sets  Sir Arthur Conan Doyle   \n",
       "1  Learn Docker - Fundamentals of Docker 18.x: Ev...     Gabriel N. Schenker   \n",
       "2                                           Big Girl          Danielle Steel   \n",
       "3  Think Python: How to Think Like a Computer Sci...         Allen B. Downey   \n",
       "4  Oxford Word Skills: Advanced - Idioms & Phrasa...           Redman Gairns   \n",
       "\n",
       "                              Edition             Ratings  \\\n",
       "0  Mass Market Paperback,– 1 Oct 1986  4.4 out of 5 stars   \n",
       "1     Paperback,– Import, 26 Apr 2018  5.0 out of 5 stars   \n",
       "2             Paperback,– 17 Mar 2011  5.0 out of 5 stars   \n",
       "3                    Paperback,– 2016  4.1 out of 5 stars   \n",
       "4             Paperback,– 26 Dec 2011  4.4 out of 5 stars   \n",
       "\n",
       "                Reviews                                           Synopsis  \\\n",
       "0  960 customer reviews  A collection of entire body of work of the She...   \n",
       "1     1 customer review  Enhance your software deployment workflow usin...   \n",
       "2    4 customer reviews  'Watch out, world. Here I come!'\\nFor Victoria...   \n",
       "3   11 customer reviews  If you want to learn how to program, working w...   \n",
       "4    9 customer reviews  Learn and practise the verbs, prepositions and...   \n",
       "\n",
       "                                        Genre  \\\n",
       "0                       Short Stories (Books)   \n",
       "1                 Operating Systems Textbooks   \n",
       "2                             Romance (Books)   \n",
       "3  Programming & Software Development (Books)   \n",
       "4                         Linguistics (Books)   \n",
       "\n",
       "                          BookCategory  \n",
       "0            Crime, Thriller & Mystery  \n",
       "1  Computing, Internet & Digital Media  \n",
       "2                              Romance  \n",
       "3  Computing, Internet & Digital Media  \n",
       "4      Language, Linguistics & Writing  "
      ]
     },
     "execution_count": 78,
     "metadata": {},
     "output_type": "execute_result"
    }
   ],
   "source": [
    "dst_input.head()"
   ]
  },
  {
   "cell_type": "code",
   "execution_count": 83,
   "metadata": {},
   "outputs": [],
   "source": [
    "#combining the train and test \n",
    "y_train = ds_input['Price']\n",
    "train_nomissing = ds_input.drop('Price',axis=1)\n",
    "test_nomissing = dst_input\n",
    "combined_set = pd.concat([train_nomissing, test_nomissing], axis = 0) # Stacks them vertically"
   ]
  },
  {
   "cell_type": "code",
   "execution_count": 84,
   "metadata": {
    "scrolled": false
   },
   "outputs": [
    {
     "name": "stdout",
     "output_type": "stream",
     "text": [
      "<class 'pandas.core.frame.DataFrame'>\n",
      "Int64Index: 7797 entries, 0 to 1559\n",
      "Data columns (total 8 columns):\n",
      "Title           7797 non-null object\n",
      "Author          7797 non-null object\n",
      "Edition         7797 non-null object\n",
      "Ratings         7797 non-null object\n",
      "Reviews         7797 non-null object\n",
      "Synopsis        7797 non-null object\n",
      "Genre           7797 non-null object\n",
      "BookCategory    7797 non-null object\n",
      "dtypes: object(8)\n",
      "memory usage: 548.2+ KB\n"
     ]
    }
   ],
   "source": [
    " combined_set.info()"
   ]
  },
  {
   "cell_type": "code",
   "execution_count": 85,
   "metadata": {},
   "outputs": [],
   "source": [
    "#report = pandas_profiling.ProfileReport(combined_set)\n",
    "#covert profile report as html file\n",
    "#report.to_file(\"ds_combined.html\")"
   ]
  },
  {
   "cell_type": "code",
   "execution_count": 89,
   "metadata": {},
   "outputs": [
    {
     "data": {
      "text/html": [
       "<div>\n",
       "<style scoped>\n",
       "    .dataframe tbody tr th:only-of-type {\n",
       "        vertical-align: middle;\n",
       "    }\n",
       "\n",
       "    .dataframe tbody tr th {\n",
       "        vertical-align: top;\n",
       "    }\n",
       "\n",
       "    .dataframe thead th {\n",
       "        text-align: right;\n",
       "    }\n",
       "</style>\n",
       "<table border=\"1\" class=\"dataframe\">\n",
       "  <thead>\n",
       "    <tr style=\"text-align: right;\">\n",
       "      <th></th>\n",
       "      <th>Title</th>\n",
       "      <th>Author</th>\n",
       "      <th>Edition</th>\n",
       "      <th>Ratings</th>\n",
       "      <th>Reviews</th>\n",
       "      <th>Synopsis</th>\n",
       "      <th>Genre</th>\n",
       "      <th>BookCategory</th>\n",
       "      <th>Ratings_N</th>\n",
       "    </tr>\n",
       "  </thead>\n",
       "  <tbody>\n",
       "    <tr>\n",
       "      <th>0</th>\n",
       "      <td>The Prisoner's Gold (The Hunters 3)</td>\n",
       "      <td>Chris Kuzneski</td>\n",
       "      <td>Paperback,– 10 Mar 2016</td>\n",
       "      <td>4.0 out of 5 stars</td>\n",
       "      <td>8 customer reviews</td>\n",
       "      <td>THE HUNTERS return in their third brilliant no...</td>\n",
       "      <td>Action &amp; Adventure (Books)</td>\n",
       "      <td>Action &amp; Adventure</td>\n",
       "      <td>4.0</td>\n",
       "    </tr>\n",
       "    <tr>\n",
       "      <th>1</th>\n",
       "      <td>Guru Dutt: A Tragedy in Three Acts</td>\n",
       "      <td>Arun Khopkar</td>\n",
       "      <td>Paperback,– 7 Nov 2012</td>\n",
       "      <td>3.9 out of 5 stars</td>\n",
       "      <td>14 customer reviews</td>\n",
       "      <td>A layered portrait of a troubled genius for wh...</td>\n",
       "      <td>Cinema &amp; Broadcast (Books)</td>\n",
       "      <td>Biographies, Diaries &amp; True Accounts</td>\n",
       "      <td>3.9</td>\n",
       "    </tr>\n",
       "    <tr>\n",
       "      <th>2</th>\n",
       "      <td>Leviathan (Penguin Classics)</td>\n",
       "      <td>Thomas Hobbes</td>\n",
       "      <td>Paperback,– 25 Feb 1982</td>\n",
       "      <td>4.8 out of 5 stars</td>\n",
       "      <td>6 customer reviews</td>\n",
       "      <td>\"During the time men live without a common Pow...</td>\n",
       "      <td>International Relations</td>\n",
       "      <td>Humour</td>\n",
       "      <td>4.8</td>\n",
       "    </tr>\n",
       "    <tr>\n",
       "      <th>3</th>\n",
       "      <td>A Pocket Full of Rye (Miss Marple)</td>\n",
       "      <td>Agatha Christie</td>\n",
       "      <td>Paperback,– 5 Oct 2017</td>\n",
       "      <td>4.1 out of 5 stars</td>\n",
       "      <td>13 customer reviews</td>\n",
       "      <td>A handful of grain is found in the pocket of a...</td>\n",
       "      <td>Contemporary Fiction (Books)</td>\n",
       "      <td>Crime, Thriller &amp; Mystery</td>\n",
       "      <td>4.1</td>\n",
       "    </tr>\n",
       "    <tr>\n",
       "      <th>4</th>\n",
       "      <td>LIFE 70 Years of Extraordinary Photography</td>\n",
       "      <td>Editors of Life</td>\n",
       "      <td>Hardcover,– 10 Oct 2006</td>\n",
       "      <td>5.0 out of 5 stars</td>\n",
       "      <td>1 customer review</td>\n",
       "      <td>For seven decades, \"Life\" has been thrilling t...</td>\n",
       "      <td>Photography Textbooks</td>\n",
       "      <td>Arts, Film &amp; Photography</td>\n",
       "      <td>5.0</td>\n",
       "    </tr>\n",
       "  </tbody>\n",
       "</table>\n",
       "</div>"
      ],
      "text/plain": [
       "                                        Title           Author  \\\n",
       "0         The Prisoner's Gold (The Hunters 3)   Chris Kuzneski   \n",
       "1          Guru Dutt: A Tragedy in Three Acts     Arun Khopkar   \n",
       "2                Leviathan (Penguin Classics)    Thomas Hobbes   \n",
       "3          A Pocket Full of Rye (Miss Marple)  Agatha Christie   \n",
       "4  LIFE 70 Years of Extraordinary Photography  Editors of Life   \n",
       "\n",
       "                   Edition             Ratings              Reviews  \\\n",
       "0  Paperback,– 10 Mar 2016  4.0 out of 5 stars   8 customer reviews   \n",
       "1   Paperback,– 7 Nov 2012  3.9 out of 5 stars  14 customer reviews   \n",
       "2  Paperback,– 25 Feb 1982  4.8 out of 5 stars   6 customer reviews   \n",
       "3   Paperback,– 5 Oct 2017  4.1 out of 5 stars  13 customer reviews   \n",
       "4  Hardcover,– 10 Oct 2006  5.0 out of 5 stars    1 customer review   \n",
       "\n",
       "                                            Synopsis  \\\n",
       "0  THE HUNTERS return in their third brilliant no...   \n",
       "1  A layered portrait of a troubled genius for wh...   \n",
       "2  \"During the time men live without a common Pow...   \n",
       "3  A handful of grain is found in the pocket of a...   \n",
       "4  For seven decades, \"Life\" has been thrilling t...   \n",
       "\n",
       "                          Genre                          BookCategory  \\\n",
       "0    Action & Adventure (Books)                    Action & Adventure   \n",
       "1    Cinema & Broadcast (Books)  Biographies, Diaries & True Accounts   \n",
       "2       International Relations                                Humour   \n",
       "3  Contemporary Fiction (Books)             Crime, Thriller & Mystery   \n",
       "4         Photography Textbooks              Arts, Film & Photography   \n",
       "\n",
       "   Ratings_N  \n",
       "0        4.0  \n",
       "1        3.9  \n",
       "2        4.8  \n",
       "3        4.1  \n",
       "4        5.0  "
      ]
     },
     "execution_count": 89,
     "metadata": {},
     "output_type": "execute_result"
    }
   ],
   "source": [
    "#Extracting Ratings\n",
    "ds_ratings = combined_set[\"Ratings\"].str.split(\" \",n=1,expand=True)\n",
    "combined_set[\"Ratings_N\"]= ds_ratings[0]\n",
    "combined_set[\"Ratings_N\"] = combined_set[\"Ratings_N\"].astype(str).astype(float)\n",
    "combined_set.head()"
   ]
  },
  {
   "cell_type": "code",
   "execution_count": 97,
   "metadata": {},
   "outputs": [
    {
     "data": {
      "text/plain": [
       "0     8 customer reviews\n",
       "1    14 customer reviews\n",
       "2     6 customer reviews\n",
       "3    13 customer reviews\n",
       "4      1 customer review\n",
       "Name: Reviews, dtype: object"
      ]
     },
     "execution_count": 97,
     "metadata": {},
     "output_type": "execute_result"
    }
   ],
   "source": [
    "combined_set['Reviews'] = combined_set['Reviews'].str.replace('[^\\w\\s]','')\n",
    "combined_set['Reviews'].head()"
   ]
  },
  {
   "cell_type": "code",
   "execution_count": 99,
   "metadata": {
    "scrolled": true
   },
   "outputs": [
    {
     "data": {
      "text/html": [
       "<div>\n",
       "<style scoped>\n",
       "    .dataframe tbody tr th:only-of-type {\n",
       "        vertical-align: middle;\n",
       "    }\n",
       "\n",
       "    .dataframe tbody tr th {\n",
       "        vertical-align: top;\n",
       "    }\n",
       "\n",
       "    .dataframe thead th {\n",
       "        text-align: right;\n",
       "    }\n",
       "</style>\n",
       "<table border=\"1\" class=\"dataframe\">\n",
       "  <thead>\n",
       "    <tr style=\"text-align: right;\">\n",
       "      <th></th>\n",
       "      <th>Title</th>\n",
       "      <th>Author</th>\n",
       "      <th>Edition</th>\n",
       "      <th>Ratings</th>\n",
       "      <th>Reviews</th>\n",
       "      <th>Synopsis</th>\n",
       "      <th>Genre</th>\n",
       "      <th>BookCategory</th>\n",
       "      <th>Ratings_N</th>\n",
       "      <th>Reviews_N</th>\n",
       "    </tr>\n",
       "  </thead>\n",
       "  <tbody>\n",
       "    <tr>\n",
       "      <th>0</th>\n",
       "      <td>The Prisoner's Gold (The Hunters 3)</td>\n",
       "      <td>Chris Kuzneski</td>\n",
       "      <td>Paperback,– 10 Mar 2016</td>\n",
       "      <td>4.0 out of 5 stars</td>\n",
       "      <td>8 customer reviews</td>\n",
       "      <td>THE HUNTERS return in their third brilliant no...</td>\n",
       "      <td>Action &amp; Adventure (Books)</td>\n",
       "      <td>Action &amp; Adventure</td>\n",
       "      <td>4.0</td>\n",
       "      <td>8</td>\n",
       "    </tr>\n",
       "    <tr>\n",
       "      <th>1</th>\n",
       "      <td>Guru Dutt: A Tragedy in Three Acts</td>\n",
       "      <td>Arun Khopkar</td>\n",
       "      <td>Paperback,– 7 Nov 2012</td>\n",
       "      <td>3.9 out of 5 stars</td>\n",
       "      <td>14 customer reviews</td>\n",
       "      <td>A layered portrait of a troubled genius for wh...</td>\n",
       "      <td>Cinema &amp; Broadcast (Books)</td>\n",
       "      <td>Biographies, Diaries &amp; True Accounts</td>\n",
       "      <td>3.9</td>\n",
       "      <td>14</td>\n",
       "    </tr>\n",
       "    <tr>\n",
       "      <th>2</th>\n",
       "      <td>Leviathan (Penguin Classics)</td>\n",
       "      <td>Thomas Hobbes</td>\n",
       "      <td>Paperback,– 25 Feb 1982</td>\n",
       "      <td>4.8 out of 5 stars</td>\n",
       "      <td>6 customer reviews</td>\n",
       "      <td>\"During the time men live without a common Pow...</td>\n",
       "      <td>International Relations</td>\n",
       "      <td>Humour</td>\n",
       "      <td>4.8</td>\n",
       "      <td>6</td>\n",
       "    </tr>\n",
       "    <tr>\n",
       "      <th>3</th>\n",
       "      <td>A Pocket Full of Rye (Miss Marple)</td>\n",
       "      <td>Agatha Christie</td>\n",
       "      <td>Paperback,– 5 Oct 2017</td>\n",
       "      <td>4.1 out of 5 stars</td>\n",
       "      <td>13 customer reviews</td>\n",
       "      <td>A handful of grain is found in the pocket of a...</td>\n",
       "      <td>Contemporary Fiction (Books)</td>\n",
       "      <td>Crime, Thriller &amp; Mystery</td>\n",
       "      <td>4.1</td>\n",
       "      <td>13</td>\n",
       "    </tr>\n",
       "    <tr>\n",
       "      <th>4</th>\n",
       "      <td>LIFE 70 Years of Extraordinary Photography</td>\n",
       "      <td>Editors of Life</td>\n",
       "      <td>Hardcover,– 10 Oct 2006</td>\n",
       "      <td>5.0 out of 5 stars</td>\n",
       "      <td>1 customer review</td>\n",
       "      <td>For seven decades, \"Life\" has been thrilling t...</td>\n",
       "      <td>Photography Textbooks</td>\n",
       "      <td>Arts, Film &amp; Photography</td>\n",
       "      <td>5.0</td>\n",
       "      <td>1</td>\n",
       "    </tr>\n",
       "  </tbody>\n",
       "</table>\n",
       "</div>"
      ],
      "text/plain": [
       "                                        Title           Author  \\\n",
       "0         The Prisoner's Gold (The Hunters 3)   Chris Kuzneski   \n",
       "1          Guru Dutt: A Tragedy in Three Acts     Arun Khopkar   \n",
       "2                Leviathan (Penguin Classics)    Thomas Hobbes   \n",
       "3          A Pocket Full of Rye (Miss Marple)  Agatha Christie   \n",
       "4  LIFE 70 Years of Extraordinary Photography  Editors of Life   \n",
       "\n",
       "                   Edition             Ratings              Reviews  \\\n",
       "0  Paperback,– 10 Mar 2016  4.0 out of 5 stars   8 customer reviews   \n",
       "1   Paperback,– 7 Nov 2012  3.9 out of 5 stars  14 customer reviews   \n",
       "2  Paperback,– 25 Feb 1982  4.8 out of 5 stars   6 customer reviews   \n",
       "3   Paperback,– 5 Oct 2017  4.1 out of 5 stars  13 customer reviews   \n",
       "4  Hardcover,– 10 Oct 2006  5.0 out of 5 stars    1 customer review   \n",
       "\n",
       "                                            Synopsis  \\\n",
       "0  THE HUNTERS return in their third brilliant no...   \n",
       "1  A layered portrait of a troubled genius for wh...   \n",
       "2  \"During the time men live without a common Pow...   \n",
       "3  A handful of grain is found in the pocket of a...   \n",
       "4  For seven decades, \"Life\" has been thrilling t...   \n",
       "\n",
       "                          Genre                          BookCategory  \\\n",
       "0    Action & Adventure (Books)                    Action & Adventure   \n",
       "1    Cinema & Broadcast (Books)  Biographies, Diaries & True Accounts   \n",
       "2       International Relations                                Humour   \n",
       "3  Contemporary Fiction (Books)             Crime, Thriller & Mystery   \n",
       "4         Photography Textbooks              Arts, Film & Photography   \n",
       "\n",
       "   Ratings_N  Reviews_N  \n",
       "0        4.0          8  \n",
       "1        3.9         14  \n",
       "2        4.8          6  \n",
       "3        4.1         13  \n",
       "4        5.0          1  "
      ]
     },
     "execution_count": 99,
     "metadata": {},
     "output_type": "execute_result"
    }
   ],
   "source": [
    "#Extracting Reviews\n",
    "ds_reviews = combined_set[\"Reviews\"].str.split(\" \",n=1,expand=True)\n",
    "combined_set[\"Reviews_N\"]= ds_reviews[0].astype(str).astype(int)\n",
    "combined_set.head()"
   ]
  },
  {
   "cell_type": "code",
   "execution_count": 100,
   "metadata": {
    "scrolled": true
   },
   "outputs": [
    {
     "name": "stdout",
     "output_type": "stream",
     "text": [
      "<class 'pandas.core.frame.DataFrame'>\n",
      "Int64Index: 7797 entries, 0 to 1559\n",
      "Data columns (total 10 columns):\n",
      "Title           7797 non-null object\n",
      "Author          7797 non-null object\n",
      "Edition         7797 non-null object\n",
      "Ratings         7797 non-null object\n",
      "Reviews         7797 non-null object\n",
      "Synopsis        7797 non-null object\n",
      "Genre           7797 non-null object\n",
      "BookCategory    7797 non-null object\n",
      "Ratings_N       7797 non-null float64\n",
      "Reviews_N       7797 non-null int32\n",
      "dtypes: float64(1), int32(1), object(8)\n",
      "memory usage: 639.6+ KB\n"
     ]
    }
   ],
   "source": [
    " combined_set.info()"
   ]
  },
  {
   "cell_type": "markdown",
   "metadata": {},
   "source": [
    "### Data exploration"
   ]
  },
  {
   "cell_type": "code",
   "execution_count": 35,
   "metadata": {},
   "outputs": [],
   "source": [
    "df_train =  pd.concat([combined_set[:train_nomissing.shape[0]],y_train], axis=1) # Up to the last initial training set row\n",
    "dst_input = combined_set[train_nomissing.shape[0]:]"
   ]
  },
  {
   "cell_type": "code",
   "execution_count": 1359,
   "metadata": {},
   "outputs": [],
   "source": [
    "#spliting misc for fees\n",
    "ds_fees = dst_input[\"Miscellaneous_Info\"].str.split(\"₹\",n=1,expand=True)\n",
    "ds_fees1= ds_fees[1].str.split(\" \",n=1,expand=True)\n",
    "ds_fees1[0]=ds_fees1[0].str.replace(\",\",'')\n",
    "ds_fees1[0].fillna(0,inplace=True)"
   ]
  },
  {
   "cell_type": "code",
   "execution_count": 1360,
   "metadata": {
    "scrolled": true
   },
   "outputs": [],
   "source": [
    "dst_input['misc_fees']= ds_fees1[0].astype(str).astype(int)\n",
    "dst_input['misc_fees']=dst_input['misc_fees'].apply(lambda misc_fees: 100 if misc_fees>999 else misc_fees )"
   ]
  },
  {
   "cell_type": "code",
   "execution_count": 1276,
   "metadata": {
    "scrolled": false
   },
   "outputs": [
    {
     "data": {
      "image/png": "[encoded data removed]",
      "text/plain": [
       "<Figure size 2016x504 with 1 Axes>"
      ]
     },
     "metadata": {},
     "output_type": "display_data"
    }
   ],
   "source": [
    "mx = sns.factorplot(x=\"Exp\",y=\"Fees\", data=df_train, kind=\"box\", size=7,aspect=4)\n",
    "mx.set(ylabel='Fees ')\n",
    "plt.title('Exp Vs Fees ');\n",
    "plt.show()"
   ]
  },
  {
   "cell_type": "code",
   "execution_count": 1277,
   "metadata": {},
   "outputs": [],
   "source": [
    "df_train =df_train.drop(df_train.loc[(df_train['Exp']==0) & (df_train['Fees']>390) ].index.tolist()).reset_index(drop=True)\n",
    "df_train =df_train.drop(df_train.loc[(df_train['Exp']==3) & (df_train['Fees']>600) ].index.tolist()).reset_index(drop=True)\n",
    "df_train =df_train.drop(df_train.loc[(df_train['Exp']==4) & (df_train['Fees']>600) ].index.tolist()).reset_index(drop=True)\n",
    "df_train =df_train.drop(df_train.loc[(df_train['Exp']==6) & (df_train['Fees']>790) ].index.tolist()).reset_index(drop=True)\n",
    "df_train =df_train.drop(df_train.loc[(df_train['Exp']==7) & (df_train['Fees']>700) ].index.tolist()).reset_index(drop=True)\n",
    "df_train =df_train.drop(df_train.loc[(df_train['Exp']==8) & (df_train['Fees']>790) ].index.tolist()).reset_index(drop=True)\n",
    "df_train =df_train.drop(df_train.loc[(df_train['Exp']==9) & (df_train['Fees']>790) ].index.tolist()).reset_index(drop=True)\n",
    "df_train =df_train.drop(df_train.loc[(df_train['Exp']==39) & (df_train['Fees']>800) ].index.tolist()).reset_index(drop=True)\n",
    "df_train =df_train.drop(df_train.loc[(df_train['Exp']==41) & (df_train['Fees']>600) ].index.tolist()).reset_index(drop=True)\n",
    "df_train =df_train.drop(df_train.loc[(df_train['Exp']==42) & (df_train['Fees']>600) ].index.tolist()).reset_index(drop=True)\n",
    "df_train =df_train.drop(df_train.loc[(df_train['Exp']==43) & (df_train['Fees']>600) ].index.tolist()).reset_index(drop=True)\n",
    "df_train =df_train.drop(df_train.loc[(df_train['Exp']==44) & (df_train['Fees']>500) ].index.tolist()).reset_index(drop=True)\n",
    "df_train =df_train.drop(df_train.loc[(df_train['Exp']==45) & (df_train['Fees']>400) ].index.tolist()).reset_index(drop=True)\n",
    "df_train =df_train.drop(df_train.loc[(df_train['Exp']==46) & (df_train['Fees']>400) ].index.tolist()).reset_index(drop=True)\n",
    "df_train =df_train.drop(df_train.loc[(df_train['Exp']==48) & (df_train['Fees']<100) ].index.tolist()).reset_index(drop=True)\n",
    "df_train =df_train.drop(df_train.loc[(df_train['Exp']==48) & (df_train['Fees']>100) ].index.tolist()).reset_index(drop=True)\n",
    "df_train =df_train.drop(df_train.loc[(df_train['Exp']==54) & (df_train['Fees']==100) ].index.tolist()).reset_index(drop=True)\n",
    "df_train =df_train.drop(df_train.loc[(df_train['Exp']==54) & (df_train['Fees']>200) ].index.tolist()).reset_index(drop=True)\n",
    "\n"
   ]
  },
  {
   "cell_type": "code",
   "execution_count": 1278,
   "metadata": {
    "scrolled": true
   },
   "outputs": [
    {
     "data": {
      "text/plain": [
       "<Figure size 360x144 with 0 Axes>"
      ]
     },
     "metadata": {},
     "output_type": "display_data"
    },
    {
     "data": {
      "image/png": "[encoded data removed]",
      "text/plain": [
       "<Figure size 2016x504 with 1 Axes>"
      ]
     },
     "metadata": {},
     "output_type": "display_data"
    }
   ],
   "source": [
    "plt.figure(figsize=(5,2))\n",
    "mx = sns.factorplot(x=\"city\", y=\"Fees\", data=df_train, kind=\"box\", size=7 ,aspect=4)\n",
    "mx.set(xlabel='city')\n",
    "mx.set(ylabel= 'Fees')\n",
    "plt.title('city Vs Fees');\n",
    "plt.show()"
   ]
  },
  {
   "cell_type": "code",
   "execution_count": 1279,
   "metadata": {},
   "outputs": [],
   "source": [
    "#df_train =df_train.drop(df_train.loc[(df_train['city']==\"Bangalore\") & (df_train['Fees']>800) ].index.tolist()).reset_index(drop=True)\n",
    "df_train =df_train.drop(df_train.loc[(df_train['city']==\"Chennai\") & (df_train['Fees']>790) ].index.tolist()).reset_index(drop=True)\n",
    "df_train =df_train.drop(df_train.loc[(df_train['city']==\"Ernakulam\") & (df_train['Fees']>390) ].index.tolist()).reset_index(drop=True)\n",
    "df_train =df_train.drop(df_train.loc[(df_train['city']==\"Hyderabad\") & (df_train['Fees']>700) ].index.tolist()).reset_index(drop=True)\n",
    "df_train =df_train.drop(df_train.loc[(df_train['city']==\"Coimbatore\") & (df_train['Fees']>400) ].index.tolist()).reset_index(drop=True)\n",
    "df_train =df_train.drop(df_train.loc[(df_train['city']==\"Thiruvananthapuram\") & (df_train['Fees']>400) ].index.tolist()).reset_index(drop=True)\n",
    "df_train =df_train.drop(df_train.loc[(df_train['city']==\"others\")].index.tolist()).reset_index(drop=True)\n"
   ]
  },
  {
   "cell_type": "code",
   "execution_count": 1280,
   "metadata": {
    "scrolled": true
   },
   "outputs": [
    {
     "data": {
      "text/plain": [
       "<Figure size 360x144 with 0 Axes>"
      ]
     },
     "metadata": {},
     "output_type": "display_data"
    },
    {
     "data": {
      "image/png": "[encoded data removed]",
      "text/plain": [
       "<Figure size 2016x504 with 1 Axes>"
      ]
     },
     "metadata": {},
     "output_type": "display_data"
    }
   ],
   "source": [
    "plt.figure(figsize=(5,2))\n",
    "mx = sns.factorplot(x=\"Profile\", y=\"Fees\", data=df_train, kind=\"box\", size=7 ,aspect=4)\n",
    "mx.set(xlabel='Profile')\n",
    "mx.set(ylabel= 'Fees')\n",
    "plt.title('Profile Vs Fees');\n",
    "plt.show()"
   ]
  },
  {
   "cell_type": "code",
   "execution_count": 1281,
   "metadata": {},
   "outputs": [],
   "source": [
    "df_train =df_train.drop(df_train.loc[(df_train['Profile']==\"Ayurveda\") & (df_train['Fees']>600) ].index.tolist()).reset_index(drop=True)\n",
    "#df_train =df_train.drop(df_train.loc[(df_train['Profile']==\"ENT Specialist\") & (df_train['Fees']>800) ].index.tolist()).reset_index(drop=True)\n",
    "df_train =df_train.drop(df_train.loc[(df_train['Profile']==\"Dentist\") & (df_train['Fees']>600) ].index.tolist()).reset_index(drop=True)\n",
    "df_train =df_train.drop(df_train.loc[(df_train['Profile']==\"Dermatologists\") & (df_train['Fees']>790) ].index.tolist()).reset_index(drop=True)\n"
   ]
  },
  {
   "cell_type": "code",
   "execution_count": 1282,
   "metadata": {},
   "outputs": [
    {
     "data": {
      "image/png": "[encoded data removed]",
      "text/plain": [
       "<Figure size 1440x1440 with 1 Axes>"
      ]
     },
     "metadata": {},
     "output_type": "display_data"
    }
   ],
   "source": [
    "#plt.figure(figsize=(5,2))\n",
    "mx = sns.factorplot(y=\"area\", x=\"Fees\", data=df_train.loc[(df_train['city']==\"Delhi\")], kind=\"box\", size=20 ,aspect=1)\n",
    "mx.set(xlabel='Area')\n",
    "mx.set(ylabel= 'Fees')\n",
    "plt.title('Area Vs Fees');\n",
    "plt.show()"
   ]
  },
  {
   "cell_type": "code",
   "execution_count": 46,
   "metadata": {},
   "outputs": [],
   "source": [
    "import numpy as np\n",
    "\n",
    "def detect_outliers(df,n,features,area_list):\n",
    "    outlier_indices = []\n",
    "    \n",
    "    for col in features:\n",
    "        for ar in area_list:\n",
    "            \n",
    "            Q1 = np.percentile(df['Fees'][df[col]==ar], 25)\n",
    "            Q3 = np.percentile(df['Fees'][df[col]==ar],75)\n",
    "            IQR = Q3 - Q1\n",
    "                    \n",
    "            # outlier step\n",
    "            outlier_step = 1.5 * IQR\n",
    "        \n",
    "            # Determine a list of indices of outliers for feature col\n",
    "            b = (df['Fees'][df[col]==ar] < Q1 - outlier_step) | (df['Fees'][df[col]==ar] > Q3 + outlier_step )\n",
    "            c = b.index.tolist()\n",
    "            d = b.tolist()\n",
    "            for i in range(len(c)-1):\n",
    "                if d[i]==True:\n",
    "                    outlier_list_col = c[i]\n",
    "                    # append the found outlier indices for col to the list of outlier indices \n",
    "                    outlier_indices.extend([outlier_list_col])\n",
    "        outlier_indices = collections.Counter(outlier_indices)        \n",
    "        multiple_outliers = list( k for k, v in outlier_indices.items() if v > n )\n",
    "    \n",
    "    return multiple_outliers   \n",
    "\n",
    "# detect outliers from Age, SibSp , Parch and Fare\n",
    "area_list=df_train[\"area\"].values\n",
    "Outliers_to_drop = detect_outliers(df_train,4,[\"area\"],area_list)"
   ]
  },
  {
   "cell_type": "code",
   "execution_count": 47,
   "metadata": {
    "scrolled": false
   },
   "outputs": [
    {
     "data": {
      "text/plain": [
       "174"
      ]
     },
     "execution_count": 47,
     "metadata": {},
     "output_type": "execute_result"
    }
   ],
   "source": [
    "len(Outliers_to_drop )                     "
   ]
  },
  {
   "cell_type": "code",
   "execution_count": 634,
   "metadata": {},
   "outputs": [
    {
     "ename": "NameError",
     "evalue": "name 'Outliers_to_drop' is not defined",
     "output_type": "error",
     "traceback": [
      "\u001b[1;31m---------------------------------------------------------------------------\u001b[0m",
      "\u001b[1;31mNameError\u001b[0m                                 Traceback (most recent call last)",
      "\u001b[1;32m<ipython-input-634-c7db85ea26ba>\u001b[0m in \u001b[0;36m<module>\u001b[1;34m()\u001b[0m\n\u001b[1;32m----> 1\u001b[1;33m \u001b[0mdf_train\u001b[0m \u001b[1;33m=\u001b[0m \u001b[0mdf_train\u001b[0m\u001b[1;33m.\u001b[0m\u001b[0mdrop\u001b[0m\u001b[1;33m(\u001b[0m\u001b[0mOutliers_to_drop\u001b[0m\u001b[1;33m,\u001b[0m \u001b[0maxis\u001b[0m \u001b[1;33m=\u001b[0m \u001b[1;36m0\u001b[0m\u001b[1;33m)\u001b[0m\u001b[1;33m.\u001b[0m\u001b[0mreset_index\u001b[0m\u001b[1;33m(\u001b[0m\u001b[0mdrop\u001b[0m\u001b[1;33m=\u001b[0m\u001b[1;32mTrue\u001b[0m\u001b[1;33m)\u001b[0m\u001b[1;33m\u001b[0m\u001b[0m\n\u001b[0m\u001b[0;32m      2\u001b[0m \u001b[0mdf_train\u001b[0m\u001b[1;33m.\u001b[0m\u001b[0minfo\u001b[0m\u001b[1;33m(\u001b[0m\u001b[1;33m)\u001b[0m\u001b[1;33m\u001b[0m\u001b[0m\n",
      "\u001b[1;31mNameError\u001b[0m: name 'Outliers_to_drop' is not defined"
     ]
    }
   ],
   "source": [
    "df_train = df_train.drop(Outliers_to_drop, axis = 0).reset_index(drop=True)\n",
    "df_train.info()"
   ]
  },
  {
   "cell_type": "code",
   "execution_count": 1283,
   "metadata": {},
   "outputs": [],
   "source": [
    "#combining the train and test \n",
    "ds_input = df_train\n",
    "y_train = ds_input['Fees']\n",
    "train_nomissing = ds_input.drop('Fees',axis=1)\n",
    "test_nomissing = dst_input.drop('misc_fees',axis=1)\n",
    "combined_set = pd.concat([train_nomissing, test_nomissing], axis = 0) # Stacks them vertically"
   ]
  },
  {
   "cell_type": "markdown",
   "metadata": {
    "scrolled": true
   },
   "source": [
    "sns.lmplot( 'Fees','misc_feedback', data= df_train, fit_reg=False,col=\"city\",hue=\"area\", size=5,aspect=1)\n",
    "\n",
    "plt.title('Scatterplot of people grouped by Feedback and Fees across city')"
   ]
  },
  {
   "cell_type": "code",
   "execution_count": 1284,
   "metadata": {},
   "outputs": [],
   "source": [
    "fee_df_train = pd.DataFrame(ds_input)"
   ]
  },
  {
   "cell_type": "code",
   "execution_count": 1285,
   "metadata": {
    "colab": {},
    "colab_type": "code",
    "id": "WCs9o0xt3Zfi"
   },
   "outputs": [],
   "source": [
    "#fee_df_train.to_excel('fee_df_train.xlsx')"
   ]
  },
  {
   "cell_type": "markdown",
   "metadata": {
    "colab_type": "text",
    "id": "S44QmB3I2mg5"
   },
   "source": [
    "### 4. Feature Engineering  <a id='feature'>"
   ]
  },
  {
   "cell_type": "code",
   "execution_count": 1286,
   "metadata": {},
   "outputs": [],
   "source": [
    "# agegroup below 30 and above 59 as a categorical feature\n",
    "def Profile_output(pro):\n",
    "    if(pro in [\"Dermatologists\",\"ENT Specialist\"]):\n",
    "        pro='profile_1'\n",
    "    elif (pro in [\"Homeopath\",\"General Medicine\"]):\n",
    "        pro='profile_2'\n",
    "    else:\n",
    "        pro='profile_3'\n",
    "    return pro\n",
    "      \n",
    "combined_set['is_profile'] = combined_set['Profile'].apply(Profile_output)"
   ]
  },
  {
   "cell_type": "code",
   "execution_count": 1287,
   "metadata": {},
   "outputs": [],
   "source": [
    "# agegroup below 30 and above 59 as a categorical feature\n",
    "def Exp_output(Ex):\n",
    "    if ((Ex>7 and Ex<23) or (Ex>25 and Ex<31)):\n",
    "        Ex='Ex_1'\n",
    "    elif Ex>52:\n",
    "        Ex='Ex_2'\n",
    "    return Ex\n",
    "      \n",
    "combined_set['is_Exp'] = combined_set['Exp'].apply(Exp_output)"
   ]
  },
  {
   "cell_type": "code",
   "execution_count": 1288,
   "metadata": {},
   "outputs": [],
   "source": [
    "# agegroup below 30 and above 59 as a categorical feature\n",
    "def area_output(Ex):\n",
    "    if (Ex in [\"Old Rajendra Nagar\",\"Pusa Road\",\"Sarita Vihar\",\"Saket\",\"Greater Kailash Part 1\",\"Shalimar Bagh\",\"Vasant Kunj\",\n",
    "               \"Safdarjung Enclave\",\"Panchsheel Park\"]):\n",
    "        Ex='100D'\n",
    "    elif (Ex in [\"Dwarka\",\"Janak Puri\",\"Paschim Vihar\",\"Green Park\",\"Vasant Vihar\",\"Rajouri Garden\",\n",
    "               \"Lajpat Nagar\"]):\n",
    "        Ex='500D'\n",
    "    return Ex\n",
    "      \n",
    "combined_set['area1'] = combined_set['area'].apply(area_output)"
   ]
  },
  {
   "cell_type": "markdown",
   "metadata": {},
   "source": [
    "def upd_loc(loc):\n",
    "    if(loc in [\"Bengaluru\",\"Hyderabad\",\"Delhi\",\"sector 5,Delhi\",\"Mumbai\",\"Chennai\"]):\n",
    "        loc='Tier_1'      \n",
    "    else:\n",
    "        loc=\"Tier_2\"\n",
    "    return loc\n",
    "\n",
    "combined_set[\"city_new\"]= combined_set['city'].apply(upd_loc)"
   ]
  },
  {
   "cell_type": "code",
   "execution_count": 1289,
   "metadata": {},
   "outputs": [],
   "source": [
    "#city_dummies = pd.get_dummies(combined_set.city, prefix='city')\n",
    "#combined_set = pd.concat([combined_set,city_dummies], axis=1)\n",
    "#area_dummies = pd.get_dummies(combined_set.area1, prefix='area')\n",
    "#combined_set = pd.concat([combined_set,area_dummies], axis=1)\n",
    "Profile_dummies = pd.get_dummies(combined_set.is_profile, prefix='Profile')\n",
    "combined_set = pd.concat([combined_set,Profile_dummies], axis=1)\n",
    "Exp_dummies = pd.get_dummies(combined_set.is_Exp, prefix='Exp')\n",
    "combined_set = pd.concat([combined_set,Exp_dummies], axis=1)\n"
   ]
  },
  {
   "cell_type": "code",
   "execution_count": 1290,
   "metadata": {},
   "outputs": [],
   "source": [
    "# Merge job_desig+ job_type +key_skills\n",
    "#combined_set[\"combined\"] = combined_set[\"Qualification\"]+ ' '+combined_set[\"Miscellaneous_Info\"]"
   ]
  },
  {
   "cell_type": "code",
   "execution_count": 1291,
   "metadata": {},
   "outputs": [],
   "source": [
    "dummy1_combined_set=combined_set"
   ]
  },
  {
   "cell_type": "code",
   "execution_count": 1292,
   "metadata": {},
   "outputs": [],
   "source": [
    "#combined_set=dummy1_combined_set"
   ]
  },
  {
   "cell_type": "code",
   "execution_count": 1293,
   "metadata": {
    "scrolled": false
   },
   "outputs": [
    {
     "data": {
      "text/html": [
       "<div>\n",
       "<style scoped>\n",
       "    .dataframe tbody tr th:only-of-type {\n",
       "        vertical-align: middle;\n",
       "    }\n",
       "\n",
       "    .dataframe tbody tr th {\n",
       "        vertical-align: top;\n",
       "    }\n",
       "\n",
       "    .dataframe thead th {\n",
       "        text-align: right;\n",
       "    }\n",
       "</style>\n",
       "<table border=\"1\" class=\"dataframe\">\n",
       "  <thead>\n",
       "    <tr style=\"text-align: right;\">\n",
       "      <th></th>\n",
       "      <th>Qualification</th>\n",
       "      <th>Experience</th>\n",
       "      <th>Rating</th>\n",
       "      <th>Place</th>\n",
       "      <th>Profile</th>\n",
       "      <th>Miscellaneous_Info</th>\n",
       "      <th>misc_feedback</th>\n",
       "      <th>Exp</th>\n",
       "      <th>area</th>\n",
       "      <th>city</th>\n",
       "      <th>...</th>\n",
       "      <th>Exp_45</th>\n",
       "      <th>Exp_46</th>\n",
       "      <th>Exp_47</th>\n",
       "      <th>Exp_48</th>\n",
       "      <th>Exp_49</th>\n",
       "      <th>Exp_50</th>\n",
       "      <th>Exp_51</th>\n",
       "      <th>Exp_52</th>\n",
       "      <th>Exp_Ex_1</th>\n",
       "      <th>Exp_Ex_2</th>\n",
       "    </tr>\n",
       "  </thead>\n",
       "  <tbody>\n",
       "    <tr>\n",
       "      <th>0</th>\n",
       "      <td>BHMS, MD - Homeopathy</td>\n",
       "      <td>24 years experience</td>\n",
       "      <td>100.0</td>\n",
       "      <td>Kakkanad, Ernakulam</td>\n",
       "      <td>Homeopath</td>\n",
       "      <td>100% 16 Feedback Kakkanad, Ernakulam</td>\n",
       "      <td>16</td>\n",
       "      <td>24</td>\n",
       "      <td>Kakkanad</td>\n",
       "      <td>Ernakulam</td>\n",
       "      <td>...</td>\n",
       "      <td>0</td>\n",
       "      <td>0</td>\n",
       "      <td>0</td>\n",
       "      <td>0</td>\n",
       "      <td>0</td>\n",
       "      <td>0</td>\n",
       "      <td>0</td>\n",
       "      <td>0</td>\n",
       "      <td>0</td>\n",
       "      <td>0</td>\n",
       "    </tr>\n",
       "    <tr>\n",
       "      <th>1</th>\n",
       "      <td>BAMS, MD - Ayurveda Medicine</td>\n",
       "      <td>12 years experience</td>\n",
       "      <td>98.0</td>\n",
       "      <td>Whitefield, Bangalore</td>\n",
       "      <td>Ayurveda</td>\n",
       "      <td>98% 76 Feedback Whitefield, Bangalore</td>\n",
       "      <td>76</td>\n",
       "      <td>12</td>\n",
       "      <td>Whitefield</td>\n",
       "      <td>Bangalore</td>\n",
       "      <td>...</td>\n",
       "      <td>0</td>\n",
       "      <td>0</td>\n",
       "      <td>0</td>\n",
       "      <td>0</td>\n",
       "      <td>0</td>\n",
       "      <td>0</td>\n",
       "      <td>0</td>\n",
       "      <td>0</td>\n",
       "      <td>1</td>\n",
       "      <td>0</td>\n",
       "    </tr>\n",
       "    <tr>\n",
       "      <th>2</th>\n",
       "      <td>MBBS, MS - Otorhinolaryngology</td>\n",
       "      <td>9 years experience</td>\n",
       "      <td>15.0</td>\n",
       "      <td>Mathikere - BEL, Bangalore</td>\n",
       "      <td>ENT Specialist</td>\n",
       "      <td>Others</td>\n",
       "      <td>11</td>\n",
       "      <td>9</td>\n",
       "      <td>Mathikere - BEL</td>\n",
       "      <td>Bangalore</td>\n",
       "      <td>...</td>\n",
       "      <td>0</td>\n",
       "      <td>0</td>\n",
       "      <td>0</td>\n",
       "      <td>0</td>\n",
       "      <td>0</td>\n",
       "      <td>0</td>\n",
       "      <td>0</td>\n",
       "      <td>0</td>\n",
       "      <td>1</td>\n",
       "      <td>0</td>\n",
       "    </tr>\n",
       "    <tr>\n",
       "      <th>3</th>\n",
       "      <td>BSc - Zoology, BAMS</td>\n",
       "      <td>12 years experience</td>\n",
       "      <td>15.0</td>\n",
       "      <td>Bannerghatta Road, Bangalore</td>\n",
       "      <td>Ayurveda</td>\n",
       "      <td>Bannerghatta Road, Bangalore ₹250 Available on...</td>\n",
       "      <td>4</td>\n",
       "      <td>12</td>\n",
       "      <td>Bannerghatta Road</td>\n",
       "      <td>Bangalore</td>\n",
       "      <td>...</td>\n",
       "      <td>0</td>\n",
       "      <td>0</td>\n",
       "      <td>0</td>\n",
       "      <td>0</td>\n",
       "      <td>0</td>\n",
       "      <td>0</td>\n",
       "      <td>0</td>\n",
       "      <td>0</td>\n",
       "      <td>1</td>\n",
       "      <td>0</td>\n",
       "    </tr>\n",
       "    <tr>\n",
       "      <th>4</th>\n",
       "      <td>BAMS</td>\n",
       "      <td>20 years experience</td>\n",
       "      <td>100.0</td>\n",
       "      <td>Keelkattalai, Chennai</td>\n",
       "      <td>Ayurveda</td>\n",
       "      <td>100% 4 Feedback Keelkattalai, Chennai</td>\n",
       "      <td>4</td>\n",
       "      <td>20</td>\n",
       "      <td>Keelkattalai</td>\n",
       "      <td>Chennai</td>\n",
       "      <td>...</td>\n",
       "      <td>0</td>\n",
       "      <td>0</td>\n",
       "      <td>0</td>\n",
       "      <td>0</td>\n",
       "      <td>0</td>\n",
       "      <td>0</td>\n",
       "      <td>0</td>\n",
       "      <td>0</td>\n",
       "      <td>1</td>\n",
       "      <td>0</td>\n",
       "    </tr>\n",
       "  </tbody>\n",
       "</table>\n",
       "<p>5 rows × 50 columns</p>\n",
       "</div>"
      ],
      "text/plain": [
       "                    Qualification           Experience  Rating  \\\n",
       "0           BHMS, MD - Homeopathy  24 years experience   100.0   \n",
       "1    BAMS, MD - Ayurveda Medicine  12 years experience    98.0   \n",
       "2  MBBS, MS - Otorhinolaryngology   9 years experience    15.0   \n",
       "3             BSc - Zoology, BAMS  12 years experience    15.0   \n",
       "4                            BAMS  20 years experience   100.0   \n",
       "\n",
       "                          Place         Profile  \\\n",
       "0           Kakkanad, Ernakulam       Homeopath   \n",
       "1         Whitefield, Bangalore        Ayurveda   \n",
       "2    Mathikere - BEL, Bangalore  ENT Specialist   \n",
       "3  Bannerghatta Road, Bangalore        Ayurveda   \n",
       "4         Keelkattalai, Chennai        Ayurveda   \n",
       "\n",
       "                                  Miscellaneous_Info  misc_feedback  Exp  \\\n",
       "0               100% 16 Feedback Kakkanad, Ernakulam             16   24   \n",
       "1              98% 76 Feedback Whitefield, Bangalore             76   12   \n",
       "2                                             Others             11    9   \n",
       "3  Bannerghatta Road, Bangalore ₹250 Available on...              4   12   \n",
       "4              100% 4 Feedback Keelkattalai, Chennai              4   20   \n",
       "\n",
       "                area       city    ...    Exp_45 Exp_46 Exp_47  Exp_48  \\\n",
       "0           Kakkanad  Ernakulam    ...         0      0      0       0   \n",
       "1         Whitefield  Bangalore    ...         0      0      0       0   \n",
       "2    Mathikere - BEL  Bangalore    ...         0      0      0       0   \n",
       "3  Bannerghatta Road  Bangalore    ...         0      0      0       0   \n",
       "4       Keelkattalai    Chennai    ...         0      0      0       0   \n",
       "\n",
       "   Exp_49  Exp_50  Exp_51  Exp_52  Exp_Ex_1  Exp_Ex_2  \n",
       "0       0       0       0       0         0         0  \n",
       "1       0       0       0       0         1         0  \n",
       "2       0       0       0       0         1         0  \n",
       "3       0       0       0       0         1         0  \n",
       "4       0       0       0       0         1         0  \n",
       "\n",
       "[5 rows x 50 columns]"
      ]
     },
     "execution_count": 1293,
     "metadata": {},
     "output_type": "execute_result"
    }
   ],
   "source": [
    "combined_set.head()"
   ]
  },
  {
   "cell_type": "markdown",
   "metadata": {},
   "source": [
    "bangl_counts = combined_set['loc_Bengaluru'].loc[combined_set['loc_Bengaluru']==1].groupby(combined_set['salary']).count()\n",
    "bangl_counts/len(combined_set)"
   ]
  },
  {
   "cell_type": "markdown",
   "metadata": {},
   "source": [
    "Hydl_counts = combined_set['loc_Hyderabad'].loc[combined_set['loc_Hyderabad']==1].groupby(combined_set['salary']).count()\n",
    "Hydl_counts/len(combined_set)"
   ]
  },
  {
   "cell_type": "markdown",
   "metadata": {},
   "source": [
    "muml_counts = combined_set['loc_Mumbai'].loc[combined_set['loc_Mumbai']==1].groupby(combined_set['salary']).count()\n",
    "muml_counts/len(combined_set)"
   ]
  },
  {
   "cell_type": "code",
   "execution_count": 1294,
   "metadata": {},
   "outputs": [],
   "source": [
    "combined_set=combined_set.drop(['Experience','Profile','Exp','is_Exp','is_profile'],axis=1)"
   ]
  },
  {
   "cell_type": "code",
   "execution_count": 1295,
   "metadata": {
    "scrolled": true
   },
   "outputs": [
    {
     "data": {
      "text/html": [
       "<div>\n",
       "<style scoped>\n",
       "    .dataframe tbody tr th:only-of-type {\n",
       "        vertical-align: middle;\n",
       "    }\n",
       "\n",
       "    .dataframe tbody tr th {\n",
       "        vertical-align: top;\n",
       "    }\n",
       "\n",
       "    .dataframe thead th {\n",
       "        text-align: right;\n",
       "    }\n",
       "</style>\n",
       "<table border=\"1\" class=\"dataframe\">\n",
       "  <thead>\n",
       "    <tr style=\"text-align: right;\">\n",
       "      <th></th>\n",
       "      <th>Qualification</th>\n",
       "      <th>Rating</th>\n",
       "      <th>Place</th>\n",
       "      <th>Miscellaneous_Info</th>\n",
       "      <th>misc_feedback</th>\n",
       "      <th>area</th>\n",
       "      <th>city</th>\n",
       "      <th>area1</th>\n",
       "      <th>Profile_profile_1</th>\n",
       "      <th>Profile_profile_2</th>\n",
       "      <th>...</th>\n",
       "      <th>Exp_45</th>\n",
       "      <th>Exp_46</th>\n",
       "      <th>Exp_47</th>\n",
       "      <th>Exp_48</th>\n",
       "      <th>Exp_49</th>\n",
       "      <th>Exp_50</th>\n",
       "      <th>Exp_51</th>\n",
       "      <th>Exp_52</th>\n",
       "      <th>Exp_Ex_1</th>\n",
       "      <th>Exp_Ex_2</th>\n",
       "    </tr>\n",
       "  </thead>\n",
       "  <tbody>\n",
       "    <tr>\n",
       "      <th>0</th>\n",
       "      <td>BHMS, MD - Homeopathy</td>\n",
       "      <td>100.0</td>\n",
       "      <td>Kakkanad, Ernakulam</td>\n",
       "      <td>100% 16 Feedback Kakkanad, Ernakulam</td>\n",
       "      <td>16</td>\n",
       "      <td>Kakkanad</td>\n",
       "      <td>Ernakulam</td>\n",
       "      <td>Kakkanad</td>\n",
       "      <td>0</td>\n",
       "      <td>1</td>\n",
       "      <td>...</td>\n",
       "      <td>0</td>\n",
       "      <td>0</td>\n",
       "      <td>0</td>\n",
       "      <td>0</td>\n",
       "      <td>0</td>\n",
       "      <td>0</td>\n",
       "      <td>0</td>\n",
       "      <td>0</td>\n",
       "      <td>0</td>\n",
       "      <td>0</td>\n",
       "    </tr>\n",
       "    <tr>\n",
       "      <th>1</th>\n",
       "      <td>BAMS, MD - Ayurveda Medicine</td>\n",
       "      <td>98.0</td>\n",
       "      <td>Whitefield, Bangalore</td>\n",
       "      <td>98% 76 Feedback Whitefield, Bangalore</td>\n",
       "      <td>76</td>\n",
       "      <td>Whitefield</td>\n",
       "      <td>Bangalore</td>\n",
       "      <td>Whitefield</td>\n",
       "      <td>0</td>\n",
       "      <td>0</td>\n",
       "      <td>...</td>\n",
       "      <td>0</td>\n",
       "      <td>0</td>\n",
       "      <td>0</td>\n",
       "      <td>0</td>\n",
       "      <td>0</td>\n",
       "      <td>0</td>\n",
       "      <td>0</td>\n",
       "      <td>0</td>\n",
       "      <td>1</td>\n",
       "      <td>0</td>\n",
       "    </tr>\n",
       "    <tr>\n",
       "      <th>2</th>\n",
       "      <td>MBBS, MS - Otorhinolaryngology</td>\n",
       "      <td>15.0</td>\n",
       "      <td>Mathikere - BEL, Bangalore</td>\n",
       "      <td>Others</td>\n",
       "      <td>11</td>\n",
       "      <td>Mathikere - BEL</td>\n",
       "      <td>Bangalore</td>\n",
       "      <td>Mathikere - BEL</td>\n",
       "      <td>1</td>\n",
       "      <td>0</td>\n",
       "      <td>...</td>\n",
       "      <td>0</td>\n",
       "      <td>0</td>\n",
       "      <td>0</td>\n",
       "      <td>0</td>\n",
       "      <td>0</td>\n",
       "      <td>0</td>\n",
       "      <td>0</td>\n",
       "      <td>0</td>\n",
       "      <td>1</td>\n",
       "      <td>0</td>\n",
       "    </tr>\n",
       "    <tr>\n",
       "      <th>3</th>\n",
       "      <td>BSc - Zoology, BAMS</td>\n",
       "      <td>15.0</td>\n",
       "      <td>Bannerghatta Road, Bangalore</td>\n",
       "      <td>Bannerghatta Road, Bangalore ₹250 Available on...</td>\n",
       "      <td>4</td>\n",
       "      <td>Bannerghatta Road</td>\n",
       "      <td>Bangalore</td>\n",
       "      <td>Bannerghatta Road</td>\n",
       "      <td>0</td>\n",
       "      <td>0</td>\n",
       "      <td>...</td>\n",
       "      <td>0</td>\n",
       "      <td>0</td>\n",
       "      <td>0</td>\n",
       "      <td>0</td>\n",
       "      <td>0</td>\n",
       "      <td>0</td>\n",
       "      <td>0</td>\n",
       "      <td>0</td>\n",
       "      <td>1</td>\n",
       "      <td>0</td>\n",
       "    </tr>\n",
       "    <tr>\n",
       "      <th>4</th>\n",
       "      <td>BAMS</td>\n",
       "      <td>100.0</td>\n",
       "      <td>Keelkattalai, Chennai</td>\n",
       "      <td>100% 4 Feedback Keelkattalai, Chennai</td>\n",
       "      <td>4</td>\n",
       "      <td>Keelkattalai</td>\n",
       "      <td>Chennai</td>\n",
       "      <td>Keelkattalai</td>\n",
       "      <td>0</td>\n",
       "      <td>0</td>\n",
       "      <td>...</td>\n",
       "      <td>0</td>\n",
       "      <td>0</td>\n",
       "      <td>0</td>\n",
       "      <td>0</td>\n",
       "      <td>0</td>\n",
       "      <td>0</td>\n",
       "      <td>0</td>\n",
       "      <td>0</td>\n",
       "      <td>1</td>\n",
       "      <td>0</td>\n",
       "    </tr>\n",
       "  </tbody>\n",
       "</table>\n",
       "<p>5 rows × 45 columns</p>\n",
       "</div>"
      ],
      "text/plain": [
       "                    Qualification  Rating                         Place  \\\n",
       "0           BHMS, MD - Homeopathy   100.0           Kakkanad, Ernakulam   \n",
       "1    BAMS, MD - Ayurveda Medicine    98.0         Whitefield, Bangalore   \n",
       "2  MBBS, MS - Otorhinolaryngology    15.0    Mathikere - BEL, Bangalore   \n",
       "3             BSc - Zoology, BAMS    15.0  Bannerghatta Road, Bangalore   \n",
       "4                            BAMS   100.0         Keelkattalai, Chennai   \n",
       "\n",
       "                                  Miscellaneous_Info  misc_feedback  \\\n",
       "0               100% 16 Feedback Kakkanad, Ernakulam             16   \n",
       "1              98% 76 Feedback Whitefield, Bangalore             76   \n",
       "2                                             Others             11   \n",
       "3  Bannerghatta Road, Bangalore ₹250 Available on...              4   \n",
       "4              100% 4 Feedback Keelkattalai, Chennai              4   \n",
       "\n",
       "                area       city              area1  Profile_profile_1  \\\n",
       "0           Kakkanad  Ernakulam           Kakkanad                  0   \n",
       "1         Whitefield  Bangalore         Whitefield                  0   \n",
       "2    Mathikere - BEL  Bangalore    Mathikere - BEL                  1   \n",
       "3  Bannerghatta Road  Bangalore  Bannerghatta Road                  0   \n",
       "4       Keelkattalai    Chennai       Keelkattalai                  0   \n",
       "\n",
       "   Profile_profile_2    ...     Exp_45  Exp_46  Exp_47  Exp_48  Exp_49  \\\n",
       "0                  1    ...          0       0       0       0       0   \n",
       "1                  0    ...          0       0       0       0       0   \n",
       "2                  0    ...          0       0       0       0       0   \n",
       "3                  0    ...          0       0       0       0       0   \n",
       "4                  0    ...          0       0       0       0       0   \n",
       "\n",
       "   Exp_50  Exp_51  Exp_52  Exp_Ex_1  Exp_Ex_2  \n",
       "0       0       0       0         0         0  \n",
       "1       0       0       0         1         0  \n",
       "2       0       0       0         1         0  \n",
       "3       0       0       0         1         0  \n",
       "4       0       0       0         1         0  \n",
       "\n",
       "[5 rows x 45 columns]"
      ]
     },
     "execution_count": 1295,
     "metadata": {},
     "output_type": "execute_result"
    }
   ],
   "source": [
    "combined_set.head()"
   ]
  },
  {
   "cell_type": "markdown",
   "metadata": {
    "colab_type": "text",
    "id": "k_xIVtgi3ZhG"
   },
   "source": [
    "### NLP"
   ]
  },
  {
   "cell_type": "markdown",
   "metadata": {
    "colab_type": "text",
    "id": "DPsbC3zV3Zf4"
   },
   "source": [
    "###  Lower case   <a id='erf'>"
   ]
  },
  {
   "cell_type": "code",
   "execution_count": 101,
   "metadata": {
    "scrolled": false
   },
   "outputs": [
    {
     "data": {
      "text/plain": [
       "0                      action & adventure\n",
       "1    biographies, diaries & true accounts\n",
       "2                                  humour\n",
       "3               crime, thriller & mystery\n",
       "4                arts, film & photography\n",
       "Name: BookCategory, dtype: object"
      ]
     },
     "execution_count": 101,
     "metadata": {},
     "output_type": "execute_result"
    }
   ],
   "source": [
    "combined_set['BookCategory'] = combined_set['BookCategory'].apply(lambda x: \" \".join(x.lower() for x in x.split()))\n",
    "combined_set['BookCategory'].head()"
   ]
  },
  {
   "cell_type": "markdown",
   "metadata": {
    "colab_type": "text",
    "id": "DPsbC3zV3Zf4"
   },
   "source": [
    "### Removing Punctuation  <a id='erf'>"
   ]
  },
  {
   "cell_type": "code",
   "execution_count": 102,
   "metadata": {},
   "outputs": [
    {
     "data": {
      "text/plain": [
       "0                     action  adventure\n",
       "1    biographies diaries  true accounts\n",
       "2                                humour\n",
       "3               crime thriller  mystery\n",
       "4                arts film  photography\n",
       "Name: BookCategory, dtype: object"
      ]
     },
     "execution_count": 102,
     "metadata": {},
     "output_type": "execute_result"
    }
   ],
   "source": [
    "combined_set['BookCategory'] = combined_set['BookCategory'].str.replace('[^\\w\\s]','')\n",
    "combined_set['BookCategory'].head()"
   ]
  },
  {
   "cell_type": "markdown",
   "metadata": {
    "colab_type": "text",
    "id": "DPsbC3zV3Zf4"
   },
   "source": [
    "### Removal of Stop Words <a id='erf'>"
   ]
  },
  {
   "cell_type": "code",
   "execution_count": 103,
   "metadata": {
    "scrolled": true
   },
   "outputs": [
    {
     "name": "stderr",
     "output_type": "stream",
     "text": [
      "[nltk_data] Downloading package stopwords to C:\\Users\\Richa\n",
      "[nltk_data]     Tripathi\\AppData\\Roaming\\nltk_data...\n",
      "[nltk_data]   Package stopwords is already up-to-date!\n"
     ]
    },
    {
     "data": {
      "text/plain": [
       "0                     action adventure\n",
       "1    biographies diaries true accounts\n",
       "2                               humour\n",
       "3               crime thriller mystery\n",
       "4                arts film photography\n",
       "Name: BookCategory, dtype: object"
      ]
     },
     "execution_count": 103,
     "metadata": {},
     "output_type": "execute_result"
    }
   ],
   "source": [
    "import nltk.corpus\n",
    "from nltk.corpus import stopwords\n",
    "nltk.download('stopwords')\n",
    "stop = stopwords.words('english')\n",
    "combined_set['BookCategory'] = combined_set['BookCategory'].apply(lambda x: \" \".join(x for x in x.split() if x not in stop))\n",
    "combined_set['BookCategory'].head()"
   ]
  },
  {
   "cell_type": "code",
   "execution_count": 104,
   "metadata": {
    "scrolled": true
   },
   "outputs": [
    {
     "ename": "ModuleNotFoundError",
     "evalue": "No module named 'textblob'",
     "output_type": "error",
     "traceback": [
      "\u001b[1;31m---------------------------------------------------------------------------\u001b[0m",
      "\u001b[1;31mModuleNotFoundError\u001b[0m                       Traceback (most recent call last)",
      "\u001b[1;32m<ipython-input-104-c64c3a64bff3>\u001b[0m in \u001b[0;36m<module>\u001b[1;34m\u001b[0m\n\u001b[1;32m----> 1\u001b[1;33m \u001b[1;32mfrom\u001b[0m \u001b[0mtextblob\u001b[0m \u001b[1;32mimport\u001b[0m \u001b[0mTextBlob\u001b[0m\u001b[1;33m\u001b[0m\u001b[1;33m\u001b[0m\u001b[0m\n\u001b[0m\u001b[0;32m      2\u001b[0m \u001b[0mcombined_set\u001b[0m\u001b[1;33m[\u001b[0m\u001b[1;34m'BookCategory'\u001b[0m\u001b[1;33m]\u001b[0m\u001b[1;33m[\u001b[0m\u001b[1;33m:\u001b[0m\u001b[1;36m5\u001b[0m\u001b[1;33m]\u001b[0m\u001b[1;33m.\u001b[0m\u001b[0mapply\u001b[0m\u001b[1;33m(\u001b[0m\u001b[1;32mlambda\u001b[0m \u001b[0mx\u001b[0m\u001b[1;33m:\u001b[0m \u001b[0mstr\u001b[0m\u001b[1;33m(\u001b[0m\u001b[0mTextBlob\u001b[0m\u001b[1;33m(\u001b[0m\u001b[0mx\u001b[0m\u001b[1;33m)\u001b[0m\u001b[1;33m.\u001b[0m\u001b[0mcorrect\u001b[0m\u001b[1;33m(\u001b[0m\u001b[1;33m)\u001b[0m\u001b[1;33m)\u001b[0m\u001b[1;33m)\u001b[0m\u001b[1;33m\u001b[0m\u001b[1;33m\u001b[0m\u001b[0m\n",
      "\u001b[1;31mModuleNotFoundError\u001b[0m: No module named 'textblob'"
     ]
    }
   ],
   "source": [
    "from textblob import TextBlob\n",
    "combined_set['BookCategory'][:5].apply(lambda x: str(TextBlob(x).correct()))"
   ]
  },
  {
   "cell_type": "markdown",
   "metadata": {
    "colab_type": "text",
    "id": "DPsbC3zV3Zf4"
   },
   "source": [
    "### Stemming<a id='erf'>"
   ]
  },
  {
   "cell_type": "code",
   "execution_count": 105,
   "metadata": {},
   "outputs": [
    {
     "data": {
      "text/plain": [
       "0                 action adventur\n",
       "1    biographi diari true account\n",
       "2                          humour\n",
       "3          crime thriller mysteri\n",
       "4            art film photographi\n",
       "Name: BookCategory, dtype: object"
      ]
     },
     "execution_count": 105,
     "metadata": {},
     "output_type": "execute_result"
    }
   ],
   "source": [
    "from nltk.stem import PorterStemmer\n",
    "st = PorterStemmer()\n",
    "combined_set['BookCategory'][:5].apply(lambda x: \" \".join([st.stem(word) for word in x.split()]))"
   ]
  },
  {
   "cell_type": "markdown",
   "metadata": {
    "colab_type": "text",
    "id": "DPsbC3zV3Zf4"
   },
   "source": [
    "### Lemmatization<a id='erf'>"
   ]
  },
  {
   "cell_type": "code",
   "execution_count": 106,
   "metadata": {
    "scrolled": false
   },
   "outputs": [
    {
     "name": "stderr",
     "output_type": "stream",
     "text": [
      "[nltk_data] Downloading package wordnet to C:\\Users\\Richa\n",
      "[nltk_data]     Tripathi\\AppData\\Roaming\\nltk_data...\n",
      "[nltk_data]   Package wordnet is already up-to-date!\n"
     ]
    },
    {
     "data": {
      "text/plain": [
       "0                action adventure\n",
       "1    biography diary true account\n",
       "2                          humour\n",
       "3          crime thriller mystery\n",
       "4            art film photography\n",
       "Name: BookCategory, dtype: object"
      ]
     },
     "execution_count": 106,
     "metadata": {},
     "output_type": "execute_result"
    }
   ],
   "source": [
    "#from textblob import Word\n",
    "from nltk.stem import WordNetLemmatizer\n",
    "nltk.download('wordnet')\n",
    "lemmatizer = nltk.stem.WordNetLemmatizer()\n",
    "combined_set['BookCategory'] = combined_set['BookCategory'].apply(lambda x: \" \".join([lemmatizer.lemmatize(word) for word in x.split()]))\n",
    "combined_set['BookCategory'].head()"
   ]
  },
  {
   "cell_type": "markdown",
   "metadata": {
    "colab_type": "text",
    "id": "DPsbC3zV3Zf4"
   },
   "source": [
    "###  Lower case   <a id='erf'>"
   ]
  },
  {
   "cell_type": "code",
   "execution_count": 107,
   "metadata": {},
   "outputs": [
    {
     "ename": "KeyError",
     "evalue": "'Miscellaneous_Info'",
     "output_type": "error",
     "traceback": [
      "\u001b[1;31m---------------------------------------------------------------------------\u001b[0m",
      "\u001b[1;31mKeyError\u001b[0m                                  Traceback (most recent call last)",
      "\u001b[1;32m~\\Anaconda3\\lib\\site-packages\\pandas\\core\\indexes\\base.py\u001b[0m in \u001b[0;36mget_loc\u001b[1;34m(self, key, method, tolerance)\u001b[0m\n\u001b[0;32m   3077\u001b[0m             \u001b[1;32mtry\u001b[0m\u001b[1;33m:\u001b[0m\u001b[1;33m\u001b[0m\u001b[1;33m\u001b[0m\u001b[0m\n\u001b[1;32m-> 3078\u001b[1;33m                 \u001b[1;32mreturn\u001b[0m \u001b[0mself\u001b[0m\u001b[1;33m.\u001b[0m\u001b[0m_engine\u001b[0m\u001b[1;33m.\u001b[0m\u001b[0mget_loc\u001b[0m\u001b[1;33m(\u001b[0m\u001b[0mkey\u001b[0m\u001b[1;33m)\u001b[0m\u001b[1;33m\u001b[0m\u001b[1;33m\u001b[0m\u001b[0m\n\u001b[0m\u001b[0;32m   3079\u001b[0m             \u001b[1;32mexcept\u001b[0m \u001b[0mKeyError\u001b[0m\u001b[1;33m:\u001b[0m\u001b[1;33m\u001b[0m\u001b[1;33m\u001b[0m\u001b[0m\n",
      "\u001b[1;32mpandas\\_libs\\index.pyx\u001b[0m in \u001b[0;36mpandas._libs.index.IndexEngine.get_loc\u001b[1;34m()\u001b[0m\n",
      "\u001b[1;32mpandas\\_libs\\index.pyx\u001b[0m in \u001b[0;36mpandas._libs.index.IndexEngine.get_loc\u001b[1;34m()\u001b[0m\n",
      "\u001b[1;32mpandas\\_libs\\hashtable_class_helper.pxi\u001b[0m in \u001b[0;36mpandas._libs.hashtable.PyObjectHashTable.get_item\u001b[1;34m()\u001b[0m\n",
      "\u001b[1;32mpandas\\_libs\\hashtable_class_helper.pxi\u001b[0m in \u001b[0;36mpandas._libs.hashtable.PyObjectHashTable.get_item\u001b[1;34m()\u001b[0m\n",
      "\u001b[1;31mKeyError\u001b[0m: 'Miscellaneous_Info'",
      "\nDuring handling of the above exception, another exception occurred:\n",
      "\u001b[1;31mKeyError\u001b[0m                                  Traceback (most recent call last)",
      "\u001b[1;32m<ipython-input-107-6d98c9e46258>\u001b[0m in \u001b[0;36m<module>\u001b[1;34m\u001b[0m\n\u001b[1;32m----> 1\u001b[1;33m \u001b[0mcombined_set\u001b[0m\u001b[1;33m[\u001b[0m\u001b[1;34m'Miscellaneous_Info'\u001b[0m\u001b[1;33m]\u001b[0m\u001b[1;33m=\u001b[0m \u001b[0mcombined_set\u001b[0m\u001b[1;33m[\u001b[0m\u001b[1;34m'Miscellaneous_Info'\u001b[0m\u001b[1;33m]\u001b[0m\u001b[1;33m.\u001b[0m\u001b[0mstr\u001b[0m\u001b[1;33m.\u001b[0m\u001b[0mreplace\u001b[0m\u001b[1;33m(\u001b[0m\u001b[1;34m'\\d+'\u001b[0m\u001b[1;33m,\u001b[0m\u001b[1;34m''\u001b[0m\u001b[1;33m)\u001b[0m\u001b[1;33m\u001b[0m\u001b[1;33m\u001b[0m\u001b[0m\n\u001b[0m\u001b[0;32m      2\u001b[0m \u001b[0mcombined_set\u001b[0m\u001b[1;33m[\u001b[0m\u001b[1;34m'Miscellaneous_Info'\u001b[0m\u001b[1;33m]\u001b[0m\u001b[1;33m=\u001b[0m\u001b[0mcombined_set\u001b[0m\u001b[1;33m[\u001b[0m\u001b[1;34m'Miscellaneous_Info'\u001b[0m\u001b[1;33m]\u001b[0m\u001b[1;33m.\u001b[0m\u001b[0mstr\u001b[0m\u001b[1;33m.\u001b[0m\u001b[0mreplace\u001b[0m\u001b[1;33m(\u001b[0m\u001b[1;34m'%'\u001b[0m\u001b[1;33m,\u001b[0m\u001b[1;34m''\u001b[0m\u001b[1;33m)\u001b[0m\u001b[1;33m\u001b[0m\u001b[1;33m\u001b[0m\u001b[0m\n\u001b[0;32m      3\u001b[0m \u001b[0mcombined_set\u001b[0m\u001b[1;33m[\u001b[0m\u001b[1;34m'Miscellaneous_Info'\u001b[0m\u001b[1;33m]\u001b[0m\u001b[1;33m=\u001b[0m\u001b[0mcombined_set\u001b[0m\u001b[1;33m[\u001b[0m\u001b[1;34m'Miscellaneous_Info'\u001b[0m\u001b[1;33m]\u001b[0m\u001b[1;33m.\u001b[0m\u001b[0mstr\u001b[0m\u001b[1;33m.\u001b[0m\u001b[0mreplace\u001b[0m\u001b[1;33m(\u001b[0m\u001b[1;34m' ₹'\u001b[0m\u001b[1;33m,\u001b[0m\u001b[1;34m''\u001b[0m\u001b[1;33m)\u001b[0m\u001b[1;33m\u001b[0m\u001b[1;33m\u001b[0m\u001b[0m\n",
      "\u001b[1;32m~\\Anaconda3\\lib\\site-packages\\pandas\\core\\frame.py\u001b[0m in \u001b[0;36m__getitem__\u001b[1;34m(self, key)\u001b[0m\n\u001b[0;32m   2686\u001b[0m             \u001b[1;32mreturn\u001b[0m \u001b[0mself\u001b[0m\u001b[1;33m.\u001b[0m\u001b[0m_getitem_multilevel\u001b[0m\u001b[1;33m(\u001b[0m\u001b[0mkey\u001b[0m\u001b[1;33m)\u001b[0m\u001b[1;33m\u001b[0m\u001b[1;33m\u001b[0m\u001b[0m\n\u001b[0;32m   2687\u001b[0m         \u001b[1;32melse\u001b[0m\u001b[1;33m:\u001b[0m\u001b[1;33m\u001b[0m\u001b[1;33m\u001b[0m\u001b[0m\n\u001b[1;32m-> 2688\u001b[1;33m             \u001b[1;32mreturn\u001b[0m \u001b[0mself\u001b[0m\u001b[1;33m.\u001b[0m\u001b[0m_getitem_column\u001b[0m\u001b[1;33m(\u001b[0m\u001b[0mkey\u001b[0m\u001b[1;33m)\u001b[0m\u001b[1;33m\u001b[0m\u001b[1;33m\u001b[0m\u001b[0m\n\u001b[0m\u001b[0;32m   2689\u001b[0m \u001b[1;33m\u001b[0m\u001b[0m\n\u001b[0;32m   2690\u001b[0m     \u001b[1;32mdef\u001b[0m \u001b[0m_getitem_column\u001b[0m\u001b[1;33m(\u001b[0m\u001b[0mself\u001b[0m\u001b[1;33m,\u001b[0m \u001b[0mkey\u001b[0m\u001b[1;33m)\u001b[0m\u001b[1;33m:\u001b[0m\u001b[1;33m\u001b[0m\u001b[1;33m\u001b[0m\u001b[0m\n",
      "\u001b[1;32m~\\Anaconda3\\lib\\site-packages\\pandas\\core\\frame.py\u001b[0m in \u001b[0;36m_getitem_column\u001b[1;34m(self, key)\u001b[0m\n\u001b[0;32m   2693\u001b[0m         \u001b[1;31m# get column\u001b[0m\u001b[1;33m\u001b[0m\u001b[1;33m\u001b[0m\u001b[1;33m\u001b[0m\u001b[0m\n\u001b[0;32m   2694\u001b[0m         \u001b[1;32mif\u001b[0m \u001b[0mself\u001b[0m\u001b[1;33m.\u001b[0m\u001b[0mcolumns\u001b[0m\u001b[1;33m.\u001b[0m\u001b[0mis_unique\u001b[0m\u001b[1;33m:\u001b[0m\u001b[1;33m\u001b[0m\u001b[1;33m\u001b[0m\u001b[0m\n\u001b[1;32m-> 2695\u001b[1;33m             \u001b[1;32mreturn\u001b[0m \u001b[0mself\u001b[0m\u001b[1;33m.\u001b[0m\u001b[0m_get_item_cache\u001b[0m\u001b[1;33m(\u001b[0m\u001b[0mkey\u001b[0m\u001b[1;33m)\u001b[0m\u001b[1;33m\u001b[0m\u001b[1;33m\u001b[0m\u001b[0m\n\u001b[0m\u001b[0;32m   2696\u001b[0m \u001b[1;33m\u001b[0m\u001b[0m\n\u001b[0;32m   2697\u001b[0m         \u001b[1;31m# duplicate columns & possible reduce dimensionality\u001b[0m\u001b[1;33m\u001b[0m\u001b[1;33m\u001b[0m\u001b[1;33m\u001b[0m\u001b[0m\n",
      "\u001b[1;32m~\\Anaconda3\\lib\\site-packages\\pandas\\core\\generic.py\u001b[0m in \u001b[0;36m_get_item_cache\u001b[1;34m(self, item)\u001b[0m\n\u001b[0;32m   2487\u001b[0m         \u001b[0mres\u001b[0m \u001b[1;33m=\u001b[0m \u001b[0mcache\u001b[0m\u001b[1;33m.\u001b[0m\u001b[0mget\u001b[0m\u001b[1;33m(\u001b[0m\u001b[0mitem\u001b[0m\u001b[1;33m)\u001b[0m\u001b[1;33m\u001b[0m\u001b[1;33m\u001b[0m\u001b[0m\n\u001b[0;32m   2488\u001b[0m         \u001b[1;32mif\u001b[0m \u001b[0mres\u001b[0m \u001b[1;32mis\u001b[0m \u001b[1;32mNone\u001b[0m\u001b[1;33m:\u001b[0m\u001b[1;33m\u001b[0m\u001b[1;33m\u001b[0m\u001b[0m\n\u001b[1;32m-> 2489\u001b[1;33m             \u001b[0mvalues\u001b[0m \u001b[1;33m=\u001b[0m \u001b[0mself\u001b[0m\u001b[1;33m.\u001b[0m\u001b[0m_data\u001b[0m\u001b[1;33m.\u001b[0m\u001b[0mget\u001b[0m\u001b[1;33m(\u001b[0m\u001b[0mitem\u001b[0m\u001b[1;33m)\u001b[0m\u001b[1;33m\u001b[0m\u001b[1;33m\u001b[0m\u001b[0m\n\u001b[0m\u001b[0;32m   2490\u001b[0m             \u001b[0mres\u001b[0m \u001b[1;33m=\u001b[0m \u001b[0mself\u001b[0m\u001b[1;33m.\u001b[0m\u001b[0m_box_item_values\u001b[0m\u001b[1;33m(\u001b[0m\u001b[0mitem\u001b[0m\u001b[1;33m,\u001b[0m \u001b[0mvalues\u001b[0m\u001b[1;33m)\u001b[0m\u001b[1;33m\u001b[0m\u001b[1;33m\u001b[0m\u001b[0m\n\u001b[0;32m   2491\u001b[0m             \u001b[0mcache\u001b[0m\u001b[1;33m[\u001b[0m\u001b[0mitem\u001b[0m\u001b[1;33m]\u001b[0m \u001b[1;33m=\u001b[0m \u001b[0mres\u001b[0m\u001b[1;33m\u001b[0m\u001b[1;33m\u001b[0m\u001b[0m\n",
      "\u001b[1;32m~\\Anaconda3\\lib\\site-packages\\pandas\\core\\internals.py\u001b[0m in \u001b[0;36mget\u001b[1;34m(self, item, fastpath)\u001b[0m\n\u001b[0;32m   4113\u001b[0m \u001b[1;33m\u001b[0m\u001b[0m\n\u001b[0;32m   4114\u001b[0m             \u001b[1;32mif\u001b[0m \u001b[1;32mnot\u001b[0m \u001b[0misna\u001b[0m\u001b[1;33m(\u001b[0m\u001b[0mitem\u001b[0m\u001b[1;33m)\u001b[0m\u001b[1;33m:\u001b[0m\u001b[1;33m\u001b[0m\u001b[1;33m\u001b[0m\u001b[0m\n\u001b[1;32m-> 4115\u001b[1;33m                 \u001b[0mloc\u001b[0m \u001b[1;33m=\u001b[0m \u001b[0mself\u001b[0m\u001b[1;33m.\u001b[0m\u001b[0mitems\u001b[0m\u001b[1;33m.\u001b[0m\u001b[0mget_loc\u001b[0m\u001b[1;33m(\u001b[0m\u001b[0mitem\u001b[0m\u001b[1;33m)\u001b[0m\u001b[1;33m\u001b[0m\u001b[1;33m\u001b[0m\u001b[0m\n\u001b[0m\u001b[0;32m   4116\u001b[0m             \u001b[1;32melse\u001b[0m\u001b[1;33m:\u001b[0m\u001b[1;33m\u001b[0m\u001b[1;33m\u001b[0m\u001b[0m\n\u001b[0;32m   4117\u001b[0m                 \u001b[0mindexer\u001b[0m \u001b[1;33m=\u001b[0m \u001b[0mnp\u001b[0m\u001b[1;33m.\u001b[0m\u001b[0marange\u001b[0m\u001b[1;33m(\u001b[0m\u001b[0mlen\u001b[0m\u001b[1;33m(\u001b[0m\u001b[0mself\u001b[0m\u001b[1;33m.\u001b[0m\u001b[0mitems\u001b[0m\u001b[1;33m)\u001b[0m\u001b[1;33m)\u001b[0m\u001b[1;33m[\u001b[0m\u001b[0misna\u001b[0m\u001b[1;33m(\u001b[0m\u001b[0mself\u001b[0m\u001b[1;33m.\u001b[0m\u001b[0mitems\u001b[0m\u001b[1;33m)\u001b[0m\u001b[1;33m]\u001b[0m\u001b[1;33m\u001b[0m\u001b[1;33m\u001b[0m\u001b[0m\n",
      "\u001b[1;32m~\\Anaconda3\\lib\\site-packages\\pandas\\core\\indexes\\base.py\u001b[0m in \u001b[0;36mget_loc\u001b[1;34m(self, key, method, tolerance)\u001b[0m\n\u001b[0;32m   3078\u001b[0m                 \u001b[1;32mreturn\u001b[0m \u001b[0mself\u001b[0m\u001b[1;33m.\u001b[0m\u001b[0m_engine\u001b[0m\u001b[1;33m.\u001b[0m\u001b[0mget_loc\u001b[0m\u001b[1;33m(\u001b[0m\u001b[0mkey\u001b[0m\u001b[1;33m)\u001b[0m\u001b[1;33m\u001b[0m\u001b[1;33m\u001b[0m\u001b[0m\n\u001b[0;32m   3079\u001b[0m             \u001b[1;32mexcept\u001b[0m \u001b[0mKeyError\u001b[0m\u001b[1;33m:\u001b[0m\u001b[1;33m\u001b[0m\u001b[1;33m\u001b[0m\u001b[0m\n\u001b[1;32m-> 3080\u001b[1;33m                 \u001b[1;32mreturn\u001b[0m \u001b[0mself\u001b[0m\u001b[1;33m.\u001b[0m\u001b[0m_engine\u001b[0m\u001b[1;33m.\u001b[0m\u001b[0mget_loc\u001b[0m\u001b[1;33m(\u001b[0m\u001b[0mself\u001b[0m\u001b[1;33m.\u001b[0m\u001b[0m_maybe_cast_indexer\u001b[0m\u001b[1;33m(\u001b[0m\u001b[0mkey\u001b[0m\u001b[1;33m)\u001b[0m\u001b[1;33m)\u001b[0m\u001b[1;33m\u001b[0m\u001b[1;33m\u001b[0m\u001b[0m\n\u001b[0m\u001b[0;32m   3081\u001b[0m \u001b[1;33m\u001b[0m\u001b[0m\n\u001b[0;32m   3082\u001b[0m         \u001b[0mindexer\u001b[0m \u001b[1;33m=\u001b[0m \u001b[0mself\u001b[0m\u001b[1;33m.\u001b[0m\u001b[0mget_indexer\u001b[0m\u001b[1;33m(\u001b[0m\u001b[1;33m[\u001b[0m\u001b[0mkey\u001b[0m\u001b[1;33m]\u001b[0m\u001b[1;33m,\u001b[0m \u001b[0mmethod\u001b[0m\u001b[1;33m=\u001b[0m\u001b[0mmethod\u001b[0m\u001b[1;33m,\u001b[0m \u001b[0mtolerance\u001b[0m\u001b[1;33m=\u001b[0m\u001b[0mtolerance\u001b[0m\u001b[1;33m)\u001b[0m\u001b[1;33m\u001b[0m\u001b[1;33m\u001b[0m\u001b[0m\n",
      "\u001b[1;32mpandas\\_libs\\index.pyx\u001b[0m in \u001b[0;36mpandas._libs.index.IndexEngine.get_loc\u001b[1;34m()\u001b[0m\n",
      "\u001b[1;32mpandas\\_libs\\index.pyx\u001b[0m in \u001b[0;36mpandas._libs.index.IndexEngine.get_loc\u001b[1;34m()\u001b[0m\n",
      "\u001b[1;32mpandas\\_libs\\hashtable_class_helper.pxi\u001b[0m in \u001b[0;36mpandas._libs.hashtable.PyObjectHashTable.get_item\u001b[1;34m()\u001b[0m\n",
      "\u001b[1;32mpandas\\_libs\\hashtable_class_helper.pxi\u001b[0m in \u001b[0;36mpandas._libs.hashtable.PyObjectHashTable.get_item\u001b[1;34m()\u001b[0m\n",
      "\u001b[1;31mKeyError\u001b[0m: 'Miscellaneous_Info'"
     ]
    }
   ],
   "source": [
    "combined_set['Miscellaneous_Info']= combined_set['Miscellaneous_Info'].str.replace('\\d+','')\n",
    "combined_set['Miscellaneous_Info']=combined_set['Miscellaneous_Info'].str.replace('%','')\n",
    "combined_set['Miscellaneous_Info']=combined_set['Miscellaneous_Info'].str.replace(' ₹','')"
   ]
  },
  {
   "cell_type": "code",
   "execution_count": 1303,
   "metadata": {},
   "outputs": [],
   "source": [
    "ds_1 = combined_set['area'].str.split(\" \",n=1,expand=True)\n",
    "ds_1[1] = ds_1[1].fillna(value='')\n",
    "ds_1[0] = ds_1[0].apply(lambda x: \" \".join(x.lower() for x in x.split()))\n",
    "ds_1[1] = ds_1[1].apply(lambda x: \" \".join(x.lower() for x in x.split()))\n",
    "ds_1[1] = ds_1[1].str.replace('[^\\w\\s]','')"
   ]
  },
  {
   "cell_type": "code",
   "execution_count": 1304,
   "metadata": {},
   "outputs": [],
   "source": [
    "final_list =  ds_1[0].tolist() + ds_1[1].tolist() + combined_set['city'].apply(lambda x: \" \".join(x.lower() for x in x.split())).tolist()"
   ]
  },
  {
   "cell_type": "code",
   "execution_count": 1305,
   "metadata": {
    "scrolled": true
   },
   "outputs": [
    {
     "data": {
      "text/plain": [
       "0                         feedback kakkanad, ernakulam\n",
       "1                       feedback whitefield, bangalore\n",
       "2                                               others\n",
       "3    bannerghatta road, bangalore available on sun,...\n",
       "4                       feedback keelkattalai, chennai\n",
       "Name: Miscellaneous_Info, dtype: object"
      ]
     },
     "execution_count": 1305,
     "metadata": {},
     "output_type": "execute_result"
    }
   ],
   "source": [
    "combined_set['Miscellaneous_Info'] = combined_set['Miscellaneous_Info'].apply(lambda x: \" \".join(x.lower() for x in x.split()))\n",
    "combined_set['Miscellaneous_Info'].head()"
   ]
  },
  {
   "cell_type": "markdown",
   "metadata": {
    "colab_type": "text",
    "id": "DPsbC3zV3Zf4"
   },
   "source": [
    "### Removing Punctuation  <a id='erf'>"
   ]
  },
  {
   "cell_type": "code",
   "execution_count": 1306,
   "metadata": {},
   "outputs": [
    {
     "data": {
      "text/plain": [
       "0                         feedback kakkanad ernakulam\n",
       "1                       feedback whitefield bangalore\n",
       "2                                              others\n",
       "3    bannerghatta road bangalore available on sun feb\n",
       "4                       feedback keelkattalai chennai\n",
       "Name: Miscellaneous_Info, dtype: object"
      ]
     },
     "execution_count": 1306,
     "metadata": {},
     "output_type": "execute_result"
    }
   ],
   "source": [
    "combined_set['Miscellaneous_Info'] = combined_set['Miscellaneous_Info'].str.replace('[^\\w\\s]','')\n",
    "combined_set['Miscellaneous_Info'].head()"
   ]
  },
  {
   "cell_type": "markdown",
   "metadata": {
    "colab_type": "text",
    "id": "DPsbC3zV3Zf4"
   },
   "source": [
    "### Removal of Stop Words <a id='erf'>"
   ]
  },
  {
   "cell_type": "code",
   "execution_count": 1307,
   "metadata": {
    "scrolled": true
   },
   "outputs": [
    {
     "name": "stdout",
     "output_type": "stream",
     "text": [
      "[nltk_data] Error loading stopwords: <urlopen error [WinError 10065] A\n",
      "[nltk_data]     socket operation was attempted to an unreachable host>\n"
     ]
    },
    {
     "data": {
      "text/plain": [
       "0                      feedback kakkanad ernakulam\n",
       "1                    feedback whitefield bangalore\n",
       "2                                           others\n",
       "3    bannerghatta road bangalore available sun feb\n",
       "4                    feedback keelkattalai chennai\n",
       "Name: Miscellaneous_Info, dtype: object"
      ]
     },
     "execution_count": 1307,
     "metadata": {},
     "output_type": "execute_result"
    }
   ],
   "source": [
    "import nltk.corpus\n",
    "from nltk.corpus import stopwords\n",
    "nltk.download('stopwords')\n",
    "stop = stopwords.words('english')\n",
    "combined_set['Miscellaneous_Info']= combined_set['Miscellaneous_Info'].apply(lambda x: \" \".join(x for x in x.split() if x not in stop))\n",
    "combined_set['Miscellaneous_Info'].head()"
   ]
  },
  {
   "cell_type": "code",
   "execution_count": 1308,
   "metadata": {
    "scrolled": true
   },
   "outputs": [
    {
     "data": {
      "text/plain": [
       "0                      feedback kakkanad ernakulam\n",
       "1                    feedback whitefield bangalore\n",
       "2                                           others\n",
       "3    bannerghatta road bangalore available sun feb\n",
       "4                    feedback keelkattalai chennai\n",
       "Name: Miscellaneous_Info, dtype: object"
      ]
     },
     "execution_count": 1308,
     "metadata": {},
     "output_type": "execute_result"
    }
   ],
   "source": [
    "from textblob import TextBlob\n",
    "combined_set['Miscellaneous_Info'][:5].apply(lambda x: str(TextBlob(x).correct()))"
   ]
  },
  {
   "cell_type": "markdown",
   "metadata": {
    "colab_type": "text",
    "id": "DPsbC3zV3Zf4"
   },
   "source": [
    "### Stemming<a id='erf'>"
   ]
  },
  {
   "cell_type": "code",
   "execution_count": 1309,
   "metadata": {},
   "outputs": [
    {
     "data": {
      "text/plain": [
       "0                 feedback kakkanad ernakulam\n",
       "1                feedback whitefield bangalor\n",
       "2                                       other\n",
       "3    bannerghatta road bangalor avail sun feb\n",
       "4               feedback keelkattalai chennai\n",
       "Name: Miscellaneous_Info, dtype: object"
      ]
     },
     "execution_count": 1309,
     "metadata": {},
     "output_type": "execute_result"
    }
   ],
   "source": [
    "from nltk.stem import PorterStemmer\n",
    "st = PorterStemmer()\n",
    "combined_set['Miscellaneous_Info'][:5].apply(lambda x: \" \".join([st.stem(word) for word in x.split()]))"
   ]
  },
  {
   "cell_type": "markdown",
   "metadata": {
    "colab_type": "text",
    "id": "DPsbC3zV3Zf4"
   },
   "source": [
    "### Lemmatization<a id='erf'>"
   ]
  },
  {
   "cell_type": "code",
   "execution_count": 1310,
   "metadata": {
    "scrolled": true
   },
   "outputs": [
    {
     "name": "stdout",
     "output_type": "stream",
     "text": [
      "[nltk_data] Error loading wordnet: <urlopen error [WinError 10065] A\n",
      "[nltk_data]     socket operation was attempted to an unreachable host>\n"
     ]
    },
    {
     "data": {
      "text/plain": [
       "0                      feedback kakkanad ernakulam\n",
       "1                    feedback whitefield bangalore\n",
       "2                                           others\n",
       "3    bannerghatta road bangalore available sun feb\n",
       "4                    feedback keelkattalai chennai\n",
       "Name: Miscellaneous_Info, dtype: object"
      ]
     },
     "execution_count": 1310,
     "metadata": {},
     "output_type": "execute_result"
    }
   ],
   "source": [
    "from textblob import Word\n",
    "nltk.download('wordnet')\n",
    "combined_set['Miscellaneous_Info'] = combined_set['Miscellaneous_Info'].apply(lambda x: \" \".join([Word(word).lemmatize() for word in x.split()]))\n",
    "combined_set['Miscellaneous_Info'].head()"
   ]
  },
  {
   "cell_type": "markdown",
   "metadata": {
    "colab_type": "text",
    "id": "DPsbC3zV3Zf4"
   },
   "source": [
    "### Removal of selective words <a id='erf'>"
   ]
  },
  {
   "cell_type": "code",
   "execution_count": 1311,
   "metadata": {
    "scrolled": true
   },
   "outputs": [
    {
     "data": {
      "text/plain": [
       "0         feedback\n",
       "1         feedback\n",
       "2                 \n",
       "3    available feb\n",
       "4         feedback\n",
       "Name: Miscellaneous_Info, dtype: object"
      ]
     },
     "execution_count": 1311,
     "metadata": {},
     "output_type": "execute_result"
    }
   ],
   "source": [
    "#sel = ['bds','bams','dermatology','mbbs','general','medicine','bhms']\n",
    "combined_set['Miscellaneous_Info'] = combined_set['Miscellaneous_Info'].apply(lambda x: \" \".join(x for x in x.split() if x not in final_list))\n",
    "combined_set['Miscellaneous_Info'].head()"
   ]
  },
  {
   "cell_type": "markdown",
   "metadata": {
    "colab_type": "text",
    "id": "DPsbC3zV3Zf4"
   },
   "source": [
    "###  Lower case   <a id='erf'>"
   ]
  },
  {
   "cell_type": "code",
   "execution_count": 1312,
   "metadata": {
    "scrolled": false
   },
   "outputs": [
    {
     "data": {
      "text/plain": [
       "0             kakkanad, ernakulam\n",
       "1           whitefield, bangalore\n",
       "2      mathikere - bel, bangalore\n",
       "3    bannerghatta road, bangalore\n",
       "4           keelkattalai, chennai\n",
       "Name: Place, dtype: object"
      ]
     },
     "execution_count": 1312,
     "metadata": {},
     "output_type": "execute_result"
    }
   ],
   "source": [
    "combined_set['Place'] = combined_set['Place'].apply(lambda x: \" \".join(x.lower() for x in x.split()))\n",
    "combined_set['Place'].head()"
   ]
  },
  {
   "cell_type": "markdown",
   "metadata": {
    "colab_type": "text",
    "id": "DPsbC3zV3Zf4"
   },
   "source": [
    "### Removing Punctuation  <a id='erf'>"
   ]
  },
  {
   "cell_type": "code",
   "execution_count": 1313,
   "metadata": {},
   "outputs": [
    {
     "data": {
      "text/plain": [
       "0             kakkanad ernakulam\n",
       "1           whitefield bangalore\n",
       "2       mathikere  bel bangalore\n",
       "3    bannerghatta road bangalore\n",
       "4           keelkattalai chennai\n",
       "Name: Place, dtype: object"
      ]
     },
     "execution_count": 1313,
     "metadata": {},
     "output_type": "execute_result"
    }
   ],
   "source": [
    "combined_set['Place'] = combined_set['Place'].str.replace('[^\\w\\s]','')\n",
    "combined_set['Place'].head()"
   ]
  },
  {
   "cell_type": "markdown",
   "metadata": {
    "colab_type": "text",
    "id": "DPsbC3zV3Zf4"
   },
   "source": [
    "### Removal of Stop Words <a id='erf'>"
   ]
  },
  {
   "cell_type": "code",
   "execution_count": 1314,
   "metadata": {
    "scrolled": true
   },
   "outputs": [
    {
     "name": "stdout",
     "output_type": "stream",
     "text": [
      "[nltk_data] Error loading stopwords: <urlopen error [WinError 10065] A\n",
      "[nltk_data]     socket operation was attempted to an unreachable host>\n"
     ]
    },
    {
     "data": {
      "text/plain": [
       "0             kakkanad ernakulam\n",
       "1           whitefield bangalore\n",
       "2        mathikere bel bangalore\n",
       "3    bannerghatta road bangalore\n",
       "4           keelkattalai chennai\n",
       "Name: Place, dtype: object"
      ]
     },
     "execution_count": 1314,
     "metadata": {},
     "output_type": "execute_result"
    }
   ],
   "source": [
    "import nltk.corpus\n",
    "from nltk.corpus import stopwords\n",
    "nltk.download('stopwords')\n",
    "stop = stopwords.words('english')\n",
    "combined_set['Place'] = combined_set['Place'].apply(lambda x: \" \".join(x for x in x.split() if x not in stop))\n",
    "combined_set['Place'].head()"
   ]
  },
  {
   "cell_type": "code",
   "execution_count": 1315,
   "metadata": {
    "scrolled": true
   },
   "outputs": [
    {
     "data": {
      "text/plain": [
       "0             kakkanad ernakulam\n",
       "1           whitefield bangalore\n",
       "2         mathikere be bangalore\n",
       "3    bannerghatta road bangalore\n",
       "4           keelkattalai chennai\n",
       "Name: Place, dtype: object"
      ]
     },
     "execution_count": 1315,
     "metadata": {},
     "output_type": "execute_result"
    }
   ],
   "source": [
    "from textblob import TextBlob\n",
    "combined_set['Place'][:5].apply(lambda x: str(TextBlob(x).correct()))"
   ]
  },
  {
   "cell_type": "markdown",
   "metadata": {
    "colab_type": "text",
    "id": "DPsbC3zV3Zf4"
   },
   "source": [
    "### Removal of selective words <a id='erf'>"
   ]
  },
  {
   "cell_type": "markdown",
   "metadata": {},
   "source": [
    "sel = ['bds','bams','dermatology','mbbs','general','medicine','bhms']\n",
    "combined_set['Qualification'] = combined_set['Qualification'].apply(lambda x: \" \".join(x for x in x.split() if x not in sel))\n",
    "combined_set['Qualification'].head()"
   ]
  },
  {
   "cell_type": "markdown",
   "metadata": {
    "colab_type": "text",
    "id": "DPsbC3zV3Zf4"
   },
   "source": [
    "### All these pre-processing steps are essential and help us in reducing our vocabulary clutter so that the features produced in the end are more effective. <a id='erf'>"
   ]
  },
  {
   "cell_type": "markdown",
   "metadata": {
    "colab_type": "text",
    "id": "DPsbC3zV3Zf4"
   },
   "source": [
    "### TF-IDFTF-IDF<a id='erf'>"
   ]
  },
  {
   "cell_type": "code",
   "execution_count": 108,
   "metadata": {},
   "outputs": [],
   "source": [
    "#df_train = combined_set[:train_nomissing.shape[0]] # Up to the last initial training set row\n",
    "#df_test = combined_set[train_nomissing.shape[0]:] # Past the last initial training set row\n",
    "combined_set_dummy = combined_set"
   ]
  },
  {
   "cell_type": "code",
   "execution_count": 109,
   "metadata": {},
   "outputs": [],
   "source": [
    "combined_set = combined_set_dummy"
   ]
  },
  {
   "cell_type": "code",
   "execution_count": 110,
   "metadata": {},
   "outputs": [],
   "source": [
    "from sklearn.feature_extraction.text import TfidfVectorizer\n",
    "tfidf = TfidfVectorizer(max_features=300, lowercase=True, analyzer='word',\n",
    " stop_words= 'english',ngram_range=(1,1))\n",
    "train_vect = tfidf.fit_transform(combined_set['BookCategory'])"
   ]
  },
  {
   "cell_type": "markdown",
   "metadata": {},
   "source": [
    "tfidf_vect = pd.DataFrame(\n",
    "    (count, word) for word, count in zip(\n",
    "    train_vect.toarray().tolist()[0],   \n",
    "    tfidf.get_feature_names()))\n",
    "tfidf_vect.columns = ['Word', 'Count']\n",
    "tfidf_vect.sort_values('Count', ascending=False, inplace=True)\n"
   ]
  },
  {
   "cell_type": "markdown",
   "metadata": {},
   "source": [
    "tfidf_vect[tfidf_vect['Word']=='singapore']"
   ]
  },
  {
   "cell_type": "code",
   "execution_count": 1319,
   "metadata": {},
   "outputs": [],
   "source": [
    "tfidf_misc = TfidfVectorizer(max_features=1000, lowercase=True, analyzer='word',\n",
    " stop_words= 'english',ngram_range=(1,1))\n",
    "train_vect_misc = tfidf_misc.fit_transform(combined_set['Miscellaneous_Info'])"
   ]
  },
  {
   "cell_type": "code",
   "execution_count": 1320,
   "metadata": {},
   "outputs": [],
   "source": [
    "tfidf_place = TfidfVectorizer(max_features=None, lowercase=True, analyzer='word',\n",
    " stop_words= 'english',ngram_range=(1,1))\n",
    "train_vect_place = tfidf_place.fit_transform(combined_set['Place'])"
   ]
  },
  {
   "cell_type": "code",
   "execution_count": 111,
   "metadata": {
    "scrolled": true
   },
   "outputs": [],
   "source": [
    "dfs=pd.DataFrame(train_vect.toarray().tolist(),columns= tfidf.get_feature_names())\n",
    "#dfs_misc=pd.DataFrame(train_vect_misc.toarray().tolist(),columns= tfidf_misc.get_feature_names())\n",
    "#dfs_place=pd.DataFrame(train_vect_place.toarray().tolist(),columns= tfidf_place.get_feature_names())"
   ]
  },
  {
   "cell_type": "code",
   "execution_count": 112,
   "metadata": {},
   "outputs": [],
   "source": [
    "dfs.values[dfs.values > 0] = 1\n",
    "#dfs_misc.values[dfs_misc.values > 0] = 1\n",
    "#dfs_place.values[dfs_place.values > 0] = 1"
   ]
  },
  {
   "cell_type": "code",
   "execution_count": 113,
   "metadata": {},
   "outputs": [],
   "source": [
    "combined_set.reset_index(drop=True,inplace=True)"
   ]
  },
  {
   "cell_type": "code",
   "execution_count": 114,
   "metadata": {},
   "outputs": [],
   "source": [
    "dfs.reset_index(drop=True,inplace=True)\n",
    "#dfs_misc.reset_index(drop=True,inplace=True)\n",
    "#dfs_place.reset_index(drop=True,inplace=True)"
   ]
  },
  {
   "cell_type": "markdown",
   "metadata": {},
   "source": [
    "dfs_place=dfs_place[dfs_place.columns[~dfs_place.columns.isin(dfs.columns)]]\n",
    "dfs_misc=dfs_misc[dfs_misc.columns[~dfs_misc.columns.isin(dfs.columns)]]\n",
    "dfs_misc=dfs_misc[dfs_misc.columns[~dfs_misc.columns.isin(dfs_place.columns)]]"
   ]
  },
  {
   "cell_type": "code",
   "execution_count": 115,
   "metadata": {},
   "outputs": [],
   "source": [
    "#combined_set= pd.concat([combined_set,dfs,dfs_misc,dfs_place], axis=1)\n",
    "combined_set= pd.concat([combined_set,dfs], axis=1)"
   ]
  },
  {
   "cell_type": "code",
   "execution_count": 116,
   "metadata": {},
   "outputs": [
    {
     "data": {
      "text/html": [
       "<div>\n",
       "<style scoped>\n",
       "    .dataframe tbody tr th:only-of-type {\n",
       "        vertical-align: middle;\n",
       "    }\n",
       "\n",
       "    .dataframe tbody tr th {\n",
       "        vertical-align: top;\n",
       "    }\n",
       "\n",
       "    .dataframe thead th {\n",
       "        text-align: right;\n",
       "    }\n",
       "</style>\n",
       "<table border=\"1\" class=\"dataframe\">\n",
       "  <thead>\n",
       "    <tr style=\"text-align: right;\">\n",
       "      <th></th>\n",
       "      <th>Title</th>\n",
       "      <th>Author</th>\n",
       "      <th>Edition</th>\n",
       "      <th>Ratings</th>\n",
       "      <th>Reviews</th>\n",
       "      <th>Synopsis</th>\n",
       "      <th>Genre</th>\n",
       "      <th>BookCategory</th>\n",
       "      <th>Ratings_N</th>\n",
       "      <th>Reviews_N</th>\n",
       "      <th>...</th>\n",
       "      <th>mangas</th>\n",
       "      <th>medium</th>\n",
       "      <th>mystery</th>\n",
       "      <th>photography</th>\n",
       "      <th>politics</th>\n",
       "      <th>romance</th>\n",
       "      <th>sport</th>\n",
       "      <th>thriller</th>\n",
       "      <th>true</th>\n",
       "      <th>writing</th>\n",
       "    </tr>\n",
       "  </thead>\n",
       "  <tbody>\n",
       "    <tr>\n",
       "      <th>0</th>\n",
       "      <td>The Prisoner's Gold (The Hunters 3)</td>\n",
       "      <td>Chris Kuzneski</td>\n",
       "      <td>Paperback,– 10 Mar 2016</td>\n",
       "      <td>4.0 out of 5 stars</td>\n",
       "      <td>8 customer reviews</td>\n",
       "      <td>THE HUNTERS return in their third brilliant no...</td>\n",
       "      <td>Action &amp; Adventure (Books)</td>\n",
       "      <td>action adventure</td>\n",
       "      <td>4.0</td>\n",
       "      <td>8</td>\n",
       "      <td>...</td>\n",
       "      <td>0.0</td>\n",
       "      <td>0.0</td>\n",
       "      <td>0.0</td>\n",
       "      <td>0.0</td>\n",
       "      <td>0.0</td>\n",
       "      <td>0.0</td>\n",
       "      <td>0.0</td>\n",
       "      <td>0.0</td>\n",
       "      <td>0.0</td>\n",
       "      <td>0.0</td>\n",
       "    </tr>\n",
       "    <tr>\n",
       "      <th>1</th>\n",
       "      <td>Guru Dutt: A Tragedy in Three Acts</td>\n",
       "      <td>Arun Khopkar</td>\n",
       "      <td>Paperback,– 7 Nov 2012</td>\n",
       "      <td>3.9 out of 5 stars</td>\n",
       "      <td>14 customer reviews</td>\n",
       "      <td>A layered portrait of a troubled genius for wh...</td>\n",
       "      <td>Cinema &amp; Broadcast (Books)</td>\n",
       "      <td>biography diary true account</td>\n",
       "      <td>3.9</td>\n",
       "      <td>14</td>\n",
       "      <td>...</td>\n",
       "      <td>0.0</td>\n",
       "      <td>0.0</td>\n",
       "      <td>0.0</td>\n",
       "      <td>0.0</td>\n",
       "      <td>0.0</td>\n",
       "      <td>0.0</td>\n",
       "      <td>0.0</td>\n",
       "      <td>0.0</td>\n",
       "      <td>1.0</td>\n",
       "      <td>0.0</td>\n",
       "    </tr>\n",
       "    <tr>\n",
       "      <th>2</th>\n",
       "      <td>Leviathan (Penguin Classics)</td>\n",
       "      <td>Thomas Hobbes</td>\n",
       "      <td>Paperback,– 25 Feb 1982</td>\n",
       "      <td>4.8 out of 5 stars</td>\n",
       "      <td>6 customer reviews</td>\n",
       "      <td>\"During the time men live without a common Pow...</td>\n",
       "      <td>International Relations</td>\n",
       "      <td>humour</td>\n",
       "      <td>4.8</td>\n",
       "      <td>6</td>\n",
       "      <td>...</td>\n",
       "      <td>0.0</td>\n",
       "      <td>0.0</td>\n",
       "      <td>0.0</td>\n",
       "      <td>0.0</td>\n",
       "      <td>0.0</td>\n",
       "      <td>0.0</td>\n",
       "      <td>0.0</td>\n",
       "      <td>0.0</td>\n",
       "      <td>0.0</td>\n",
       "      <td>0.0</td>\n",
       "    </tr>\n",
       "    <tr>\n",
       "      <th>3</th>\n",
       "      <td>A Pocket Full of Rye (Miss Marple)</td>\n",
       "      <td>Agatha Christie</td>\n",
       "      <td>Paperback,– 5 Oct 2017</td>\n",
       "      <td>4.1 out of 5 stars</td>\n",
       "      <td>13 customer reviews</td>\n",
       "      <td>A handful of grain is found in the pocket of a...</td>\n",
       "      <td>Contemporary Fiction (Books)</td>\n",
       "      <td>crime thriller mystery</td>\n",
       "      <td>4.1</td>\n",
       "      <td>13</td>\n",
       "      <td>...</td>\n",
       "      <td>0.0</td>\n",
       "      <td>0.0</td>\n",
       "      <td>1.0</td>\n",
       "      <td>0.0</td>\n",
       "      <td>0.0</td>\n",
       "      <td>0.0</td>\n",
       "      <td>0.0</td>\n",
       "      <td>1.0</td>\n",
       "      <td>0.0</td>\n",
       "      <td>0.0</td>\n",
       "    </tr>\n",
       "    <tr>\n",
       "      <th>4</th>\n",
       "      <td>LIFE 70 Years of Extraordinary Photography</td>\n",
       "      <td>Editors of Life</td>\n",
       "      <td>Hardcover,– 10 Oct 2006</td>\n",
       "      <td>5.0 out of 5 stars</td>\n",
       "      <td>1 customer review</td>\n",
       "      <td>For seven decades, \"Life\" has been thrilling t...</td>\n",
       "      <td>Photography Textbooks</td>\n",
       "      <td>art film photography</td>\n",
       "      <td>5.0</td>\n",
       "      <td>1</td>\n",
       "      <td>...</td>\n",
       "      <td>0.0</td>\n",
       "      <td>0.0</td>\n",
       "      <td>0.0</td>\n",
       "      <td>1.0</td>\n",
       "      <td>0.0</td>\n",
       "      <td>0.0</td>\n",
       "      <td>0.0</td>\n",
       "      <td>0.0</td>\n",
       "      <td>0.0</td>\n",
       "      <td>0.0</td>\n",
       "    </tr>\n",
       "    <tr>\n",
       "      <th>5</th>\n",
       "      <td>ChiRunning: A Revolutionary Approach to Effort...</td>\n",
       "      <td>Danny Dreyer</td>\n",
       "      <td>Paperback,– 5 May 2009</td>\n",
       "      <td>4.5 out of 5 stars</td>\n",
       "      <td>8 customer reviews</td>\n",
       "      <td>The revised edition of the bestselling ChiRunn...</td>\n",
       "      <td>Healthy Living &amp; Wellness (Books)</td>\n",
       "      <td>sport</td>\n",
       "      <td>4.5</td>\n",
       "      <td>8</td>\n",
       "      <td>...</td>\n",
       "      <td>0.0</td>\n",
       "      <td>0.0</td>\n",
       "      <td>0.0</td>\n",
       "      <td>0.0</td>\n",
       "      <td>0.0</td>\n",
       "      <td>0.0</td>\n",
       "      <td>1.0</td>\n",
       "      <td>0.0</td>\n",
       "      <td>0.0</td>\n",
       "      <td>0.0</td>\n",
       "    </tr>\n",
       "    <tr>\n",
       "      <th>6</th>\n",
       "      <td>Death on the Nile (Poirot)</td>\n",
       "      <td>Agatha Christie</td>\n",
       "      <td>Paperback,– 5 Oct 2017</td>\n",
       "      <td>4.4 out of 5 stars</td>\n",
       "      <td>72 customer reviews</td>\n",
       "      <td>Agatha Christie’s most exotic murder mystery\\n...</td>\n",
       "      <td>Crime, Thriller &amp; Mystery (Books)</td>\n",
       "      <td>crime thriller mystery</td>\n",
       "      <td>4.4</td>\n",
       "      <td>72</td>\n",
       "      <td>...</td>\n",
       "      <td>0.0</td>\n",
       "      <td>0.0</td>\n",
       "      <td>1.0</td>\n",
       "      <td>0.0</td>\n",
       "      <td>0.0</td>\n",
       "      <td>0.0</td>\n",
       "      <td>0.0</td>\n",
       "      <td>1.0</td>\n",
       "      <td>0.0</td>\n",
       "      <td>0.0</td>\n",
       "    </tr>\n",
       "    <tr>\n",
       "      <th>7</th>\n",
       "      <td>Yoga Your Home Practice Companion: A Complete ...</td>\n",
       "      <td>Sivananda Yoga Vedanta Centre</td>\n",
       "      <td>Hardcover,– Import, 1 Mar 2018</td>\n",
       "      <td>4.7 out of 5 stars</td>\n",
       "      <td>16 customer reviews</td>\n",
       "      <td>Achieve a healthy body, mental alertness, and ...</td>\n",
       "      <td>Sports Training &amp; Coaching (Books)</td>\n",
       "      <td>sport</td>\n",
       "      <td>4.7</td>\n",
       "      <td>16</td>\n",
       "      <td>...</td>\n",
       "      <td>0.0</td>\n",
       "      <td>0.0</td>\n",
       "      <td>0.0</td>\n",
       "      <td>0.0</td>\n",
       "      <td>0.0</td>\n",
       "      <td>0.0</td>\n",
       "      <td>1.0</td>\n",
       "      <td>0.0</td>\n",
       "      <td>0.0</td>\n",
       "      <td>0.0</td>\n",
       "    </tr>\n",
       "    <tr>\n",
       "      <th>8</th>\n",
       "      <td>Karmayogi: A Biography of E. Sreedharan</td>\n",
       "      <td>M S Ashokan</td>\n",
       "      <td>Paperback,– 15 Dec 2015</td>\n",
       "      <td>4.2 out of 5 stars</td>\n",
       "      <td>111 customer reviews</td>\n",
       "      <td>Karmayogi is the dramatic and inspiring story ...</td>\n",
       "      <td>Biographies &amp; Autobiographies (Books)</td>\n",
       "      <td>biography diary true account</td>\n",
       "      <td>4.2</td>\n",
       "      <td>111</td>\n",
       "      <td>...</td>\n",
       "      <td>0.0</td>\n",
       "      <td>0.0</td>\n",
       "      <td>0.0</td>\n",
       "      <td>0.0</td>\n",
       "      <td>0.0</td>\n",
       "      <td>0.0</td>\n",
       "      <td>0.0</td>\n",
       "      <td>0.0</td>\n",
       "      <td>1.0</td>\n",
       "      <td>0.0</td>\n",
       "    </tr>\n",
       "    <tr>\n",
       "      <th>9</th>\n",
       "      <td>The Iron King (The Accursed Kings, Book 1)</td>\n",
       "      <td>Maurice Druon</td>\n",
       "      <td>Paperback,– 26 Mar 2013</td>\n",
       "      <td>4.0 out of 5 stars</td>\n",
       "      <td>1 customer review</td>\n",
       "      <td>‘This is the original game of thrones’ George ...</td>\n",
       "      <td>Action &amp; Adventure (Books)</td>\n",
       "      <td>action adventure</td>\n",
       "      <td>4.0</td>\n",
       "      <td>1</td>\n",
       "      <td>...</td>\n",
       "      <td>0.0</td>\n",
       "      <td>0.0</td>\n",
       "      <td>0.0</td>\n",
       "      <td>0.0</td>\n",
       "      <td>0.0</td>\n",
       "      <td>0.0</td>\n",
       "      <td>0.0</td>\n",
       "      <td>0.0</td>\n",
       "      <td>0.0</td>\n",
       "      <td>0.0</td>\n",
       "    </tr>\n",
       "    <tr>\n",
       "      <th>10</th>\n",
       "      <td>Battle for Sanskrit: Is Sanskrit Political or ...</td>\n",
       "      <td>Rajiv Malhotra</td>\n",
       "      <td>Paperback,– 20 Jan 2017</td>\n",
       "      <td>4.9 out of 5 stars</td>\n",
       "      <td>132 customer reviews</td>\n",
       "      <td>There is a new awakening in India that is chal...</td>\n",
       "      <td>Asian History</td>\n",
       "      <td>language linguistics writing</td>\n",
       "      <td>4.9</td>\n",
       "      <td>132</td>\n",
       "      <td>...</td>\n",
       "      <td>0.0</td>\n",
       "      <td>0.0</td>\n",
       "      <td>0.0</td>\n",
       "      <td>0.0</td>\n",
       "      <td>0.0</td>\n",
       "      <td>0.0</td>\n",
       "      <td>0.0</td>\n",
       "      <td>0.0</td>\n",
       "      <td>0.0</td>\n",
       "      <td>1.0</td>\n",
       "    </tr>\n",
       "    <tr>\n",
       "      <th>11</th>\n",
       "      <td>Blockchain Revolution: How the Technology Behi...</td>\n",
       "      <td>Don Tapscott, Alex Tapscott</td>\n",
       "      <td>Paperback,– Import, 14 Jun 2018</td>\n",
       "      <td>3.5 out of 5 stars</td>\n",
       "      <td>17 customer reviews</td>\n",
       "      <td>THE DEFINITIVE BOOK ON HOW THE TECHNOLOGY BEHI...</td>\n",
       "      <td>Banks &amp; Banking</td>\n",
       "      <td>computing internet digital medium</td>\n",
       "      <td>3.5</td>\n",
       "      <td>17</td>\n",
       "      <td>...</td>\n",
       "      <td>0.0</td>\n",
       "      <td>1.0</td>\n",
       "      <td>0.0</td>\n",
       "      <td>0.0</td>\n",
       "      <td>0.0</td>\n",
       "      <td>0.0</td>\n",
       "      <td>0.0</td>\n",
       "      <td>0.0</td>\n",
       "      <td>0.0</td>\n",
       "      <td>0.0</td>\n",
       "    </tr>\n",
       "    <tr>\n",
       "      <th>12</th>\n",
       "      <td>Tai-Pan: The Second Novel of the Asian Saga</td>\n",
       "      <td>James Clavell</td>\n",
       "      <td>Paperback,– 1 Jul 1999</td>\n",
       "      <td>4.1 out of 5 stars</td>\n",
       "      <td>4 customer reviews</td>\n",
       "      <td>Set in the turbulent days of the founding of H...</td>\n",
       "      <td>Action &amp; Adventure (Books)</td>\n",
       "      <td>action adventure</td>\n",
       "      <td>4.1</td>\n",
       "      <td>4</td>\n",
       "      <td>...</td>\n",
       "      <td>0.0</td>\n",
       "      <td>0.0</td>\n",
       "      <td>0.0</td>\n",
       "      <td>0.0</td>\n",
       "      <td>0.0</td>\n",
       "      <td>0.0</td>\n",
       "      <td>0.0</td>\n",
       "      <td>0.0</td>\n",
       "      <td>0.0</td>\n",
       "      <td>0.0</td>\n",
       "    </tr>\n",
       "    <tr>\n",
       "      <th>13</th>\n",
       "      <td>The Art of Shaolin Kung Fu: The Secrets of Kun...</td>\n",
       "      <td>Wong Kiew Kit</td>\n",
       "      <td>Paperback,– 15 Nov 2002</td>\n",
       "      <td>5.0 out of 5 stars</td>\n",
       "      <td>3 customer reviews</td>\n",
       "      <td>The Art of Shaolin Kung Fu is the ultimate gui...</td>\n",
       "      <td>Asian History</td>\n",
       "      <td>sport</td>\n",
       "      <td>5.0</td>\n",
       "      <td>3</td>\n",
       "      <td>...</td>\n",
       "      <td>0.0</td>\n",
       "      <td>0.0</td>\n",
       "      <td>0.0</td>\n",
       "      <td>0.0</td>\n",
       "      <td>0.0</td>\n",
       "      <td>0.0</td>\n",
       "      <td>1.0</td>\n",
       "      <td>0.0</td>\n",
       "      <td>0.0</td>\n",
       "      <td>0.0</td>\n",
       "    </tr>\n",
       "    <tr>\n",
       "      <th>14</th>\n",
       "      <td>Anil's Ghost</td>\n",
       "      <td>Michael Ondaatje</td>\n",
       "      <td>Paperback,– 1 Sep 2011</td>\n",
       "      <td>3.8 out of 5 stars</td>\n",
       "      <td>5 customer reviews</td>\n",
       "      <td>Anil's Ghost transports us to Sri Lanka, a cou...</td>\n",
       "      <td>Action &amp; Adventure (Books)</td>\n",
       "      <td>romance</td>\n",
       "      <td>3.8</td>\n",
       "      <td>5</td>\n",
       "      <td>...</td>\n",
       "      <td>0.0</td>\n",
       "      <td>0.0</td>\n",
       "      <td>0.0</td>\n",
       "      <td>0.0</td>\n",
       "      <td>0.0</td>\n",
       "      <td>1.0</td>\n",
       "      <td>0.0</td>\n",
       "      <td>0.0</td>\n",
       "      <td>0.0</td>\n",
       "      <td>0.0</td>\n",
       "    </tr>\n",
       "    <tr>\n",
       "      <th>15</th>\n",
       "      <td>Superman: An Origin Story (DC Comics Super Her...</td>\n",
       "      <td>Matthew K Manning</td>\n",
       "      <td>Paperback,– 26 Feb 2015</td>\n",
       "      <td>5.0 out of 5 stars</td>\n",
       "      <td>2 customer reviews</td>\n",
       "      <td>One day, an alien orphan crash-lands on Earth ...</td>\n",
       "      <td>Comics &amp; Mangas (Books)</td>\n",
       "      <td>comic mangas</td>\n",
       "      <td>5.0</td>\n",
       "      <td>2</td>\n",
       "      <td>...</td>\n",
       "      <td>1.0</td>\n",
       "      <td>0.0</td>\n",
       "      <td>0.0</td>\n",
       "      <td>0.0</td>\n",
       "      <td>0.0</td>\n",
       "      <td>0.0</td>\n",
       "      <td>0.0</td>\n",
       "      <td>0.0</td>\n",
       "      <td>0.0</td>\n",
       "      <td>0.0</td>\n",
       "    </tr>\n",
       "    <tr>\n",
       "      <th>16</th>\n",
       "      <td>My First Book of London</td>\n",
       "      <td>Charlotte Guillain, Roland Dry</td>\n",
       "      <td>Hardcover,– 8 Mar 2018</td>\n",
       "      <td>5.0 out of 5 stars</td>\n",
       "      <td>1 customer review</td>\n",
       "      <td>London is one of the most exciting cities in t...</td>\n",
       "      <td>Children's Mysteries &amp; Curiosities (Books)</td>\n",
       "      <td>crime thriller mystery</td>\n",
       "      <td>5.0</td>\n",
       "      <td>1</td>\n",
       "      <td>...</td>\n",
       "      <td>0.0</td>\n",
       "      <td>0.0</td>\n",
       "      <td>1.0</td>\n",
       "      <td>0.0</td>\n",
       "      <td>0.0</td>\n",
       "      <td>0.0</td>\n",
       "      <td>0.0</td>\n",
       "      <td>1.0</td>\n",
       "      <td>0.0</td>\n",
       "      <td>0.0</td>\n",
       "    </tr>\n",
       "    <tr>\n",
       "      <th>17</th>\n",
       "      <td>Naruto: Itachi's Story, Vol. 1: Daylight</td>\n",
       "      <td>Takashi Yano</td>\n",
       "      <td>Paperback,– 1 Nov 2016</td>\n",
       "      <td>4.9 out of 5 stars</td>\n",
       "      <td>23 customer reviews</td>\n",
       "      <td>A new series of prose novels, straight from th...</td>\n",
       "      <td>Mangas</td>\n",
       "      <td>comic mangas</td>\n",
       "      <td>4.9</td>\n",
       "      <td>23</td>\n",
       "      <td>...</td>\n",
       "      <td>1.0</td>\n",
       "      <td>0.0</td>\n",
       "      <td>0.0</td>\n",
       "      <td>0.0</td>\n",
       "      <td>0.0</td>\n",
       "      <td>0.0</td>\n",
       "      <td>0.0</td>\n",
       "      <td>0.0</td>\n",
       "      <td>0.0</td>\n",
       "      <td>0.0</td>\n",
       "    </tr>\n",
       "    <tr>\n",
       "      <th>18</th>\n",
       "      <td>The Story of Philosophy</td>\n",
       "      <td>Will Durant</td>\n",
       "      <td>Mass Market Paperback,– 1 Jan 1991</td>\n",
       "      <td>4.5 out of 5 stars</td>\n",
       "      <td>76 customer reviews</td>\n",
       "      <td>A brilliant and concise account of the lives a...</td>\n",
       "      <td>Biographies &amp; Autobiographies (Books)</td>\n",
       "      <td>biography diary true account</td>\n",
       "      <td>4.5</td>\n",
       "      <td>76</td>\n",
       "      <td>...</td>\n",
       "      <td>0.0</td>\n",
       "      <td>0.0</td>\n",
       "      <td>0.0</td>\n",
       "      <td>0.0</td>\n",
       "      <td>0.0</td>\n",
       "      <td>0.0</td>\n",
       "      <td>0.0</td>\n",
       "      <td>0.0</td>\n",
       "      <td>1.0</td>\n",
       "      <td>0.0</td>\n",
       "    </tr>\n",
       "    <tr>\n",
       "      <th>19</th>\n",
       "      <td>Introducing Data Science: Big Data, Machine Le...</td>\n",
       "      <td>Davy Cielen, Arno D.B. Meysman, Mohamed Ali</td>\n",
       "      <td>Paperback,– 2016</td>\n",
       "      <td>4.3 out of 5 stars</td>\n",
       "      <td>5 customer reviews</td>\n",
       "      <td>Introducing Data Science explains vital data s...</td>\n",
       "      <td>Artificial Intelligence</td>\n",
       "      <td>computing internet digital medium</td>\n",
       "      <td>4.3</td>\n",
       "      <td>5</td>\n",
       "      <td>...</td>\n",
       "      <td>0.0</td>\n",
       "      <td>1.0</td>\n",
       "      <td>0.0</td>\n",
       "      <td>0.0</td>\n",
       "      <td>0.0</td>\n",
       "      <td>0.0</td>\n",
       "      <td>0.0</td>\n",
       "      <td>0.0</td>\n",
       "      <td>0.0</td>\n",
       "      <td>0.0</td>\n",
       "    </tr>\n",
       "    <tr>\n",
       "      <th>20</th>\n",
       "      <td>The Travelling Cat Chronicles</td>\n",
       "      <td>Hiro Arikawa</td>\n",
       "      <td>Hardcover,– 24 Nov 2018</td>\n",
       "      <td>4.9 out of 5 stars</td>\n",
       "      <td>10 customer reviews</td>\n",
       "      <td>A stunning hardback edition of this surprise h...</td>\n",
       "      <td>Action &amp; Adventure (Books)</td>\n",
       "      <td>action adventure</td>\n",
       "      <td>4.9</td>\n",
       "      <td>10</td>\n",
       "      <td>...</td>\n",
       "      <td>0.0</td>\n",
       "      <td>0.0</td>\n",
       "      <td>0.0</td>\n",
       "      <td>0.0</td>\n",
       "      <td>0.0</td>\n",
       "      <td>0.0</td>\n",
       "      <td>0.0</td>\n",
       "      <td>0.0</td>\n",
       "      <td>0.0</td>\n",
       "      <td>0.0</td>\n",
       "    </tr>\n",
       "    <tr>\n",
       "      <th>21</th>\n",
       "      <td>Messi: Updated Edition (Luca Caioli)</td>\n",
       "      <td>Luca Caioli</td>\n",
       "      <td>Paperback,– Import, 4 Oct 2018</td>\n",
       "      <td>5.0 out of 5 stars</td>\n",
       "      <td>2 customer reviews</td>\n",
       "      <td>FROM THE BESTSELLING AUTHOR OF RONALDO AND NEY...</td>\n",
       "      <td>Biographies &amp; Autobiographies (Books)</td>\n",
       "      <td>sport</td>\n",
       "      <td>5.0</td>\n",
       "      <td>2</td>\n",
       "      <td>...</td>\n",
       "      <td>0.0</td>\n",
       "      <td>0.0</td>\n",
       "      <td>0.0</td>\n",
       "      <td>0.0</td>\n",
       "      <td>0.0</td>\n",
       "      <td>0.0</td>\n",
       "      <td>1.0</td>\n",
       "      <td>0.0</td>\n",
       "      <td>0.0</td>\n",
       "      <td>0.0</td>\n",
       "    </tr>\n",
       "    <tr>\n",
       "      <th>22</th>\n",
       "      <td>The Dark Arena</td>\n",
       "      <td>Mario Puzo</td>\n",
       "      <td>Paperback,– 5 Jul 2012</td>\n",
       "      <td>3.1 out of 5 stars</td>\n",
       "      <td>2 customer reviews</td>\n",
       "      <td>MARIO PUZO'S FIRST ACCLAIMED NOVEL, BEFORE HIS...</td>\n",
       "      <td>Action &amp; Adventure (Books)</td>\n",
       "      <td>action adventure</td>\n",
       "      <td>3.1</td>\n",
       "      <td>2</td>\n",
       "      <td>...</td>\n",
       "      <td>0.0</td>\n",
       "      <td>0.0</td>\n",
       "      <td>0.0</td>\n",
       "      <td>0.0</td>\n",
       "      <td>0.0</td>\n",
       "      <td>0.0</td>\n",
       "      <td>0.0</td>\n",
       "      <td>0.0</td>\n",
       "      <td>0.0</td>\n",
       "      <td>0.0</td>\n",
       "    </tr>\n",
       "    <tr>\n",
       "      <th>23</th>\n",
       "      <td>Sap Fico Beginner's Handbook: Step By Step Acr...</td>\n",
       "      <td>Murugesan Ramaswamy</td>\n",
       "      <td>Paperback,– 1 Nov 2014</td>\n",
       "      <td>3.1 out of 5 stars</td>\n",
       "      <td>10 customer reviews</td>\n",
       "      <td>Step by Step Screenshots Guided Handholding Ap...</td>\n",
       "      <td>Software &amp; Business Applications (Books)</td>\n",
       "      <td>computing internet digital medium</td>\n",
       "      <td>3.1</td>\n",
       "      <td>10</td>\n",
       "      <td>...</td>\n",
       "      <td>0.0</td>\n",
       "      <td>1.0</td>\n",
       "      <td>0.0</td>\n",
       "      <td>0.0</td>\n",
       "      <td>0.0</td>\n",
       "      <td>0.0</td>\n",
       "      <td>0.0</td>\n",
       "      <td>0.0</td>\n",
       "      <td>0.0</td>\n",
       "      <td>0.0</td>\n",
       "    </tr>\n",
       "    <tr>\n",
       "      <th>24</th>\n",
       "      <td>German Grammar You Really Need To Know: Teach ...</td>\n",
       "      <td>Jenny Russ</td>\n",
       "      <td>Paperback,– 31 Aug 2012</td>\n",
       "      <td>4.8 out of 5 stars</td>\n",
       "      <td>9 customer reviews</td>\n",
       "      <td>Comprehensive and clear explanations of key gr...</td>\n",
       "      <td>German</td>\n",
       "      <td>language linguistics writing</td>\n",
       "      <td>4.8</td>\n",
       "      <td>9</td>\n",
       "      <td>...</td>\n",
       "      <td>0.0</td>\n",
       "      <td>0.0</td>\n",
       "      <td>0.0</td>\n",
       "      <td>0.0</td>\n",
       "      <td>0.0</td>\n",
       "      <td>0.0</td>\n",
       "      <td>0.0</td>\n",
       "      <td>0.0</td>\n",
       "      <td>0.0</td>\n",
       "      <td>1.0</td>\n",
       "    </tr>\n",
       "    <tr>\n",
       "      <th>25</th>\n",
       "      <td>Stealth of Nations: The Global Rise of the Inf...</td>\n",
       "      <td>Robert Neuwirth</td>\n",
       "      <td>Hardcover,– Deckle Edge, 18 Oct 2011</td>\n",
       "      <td>4.0 out of 5 stars</td>\n",
       "      <td>1 customer review</td>\n",
       "      <td>• Thousands of Africans head to China each yea...</td>\n",
       "      <td>International Business</td>\n",
       "      <td>politics</td>\n",
       "      <td>4.0</td>\n",
       "      <td>1</td>\n",
       "      <td>...</td>\n",
       "      <td>0.0</td>\n",
       "      <td>0.0</td>\n",
       "      <td>0.0</td>\n",
       "      <td>0.0</td>\n",
       "      <td>1.0</td>\n",
       "      <td>0.0</td>\n",
       "      <td>0.0</td>\n",
       "      <td>0.0</td>\n",
       "      <td>0.0</td>\n",
       "      <td>0.0</td>\n",
       "    </tr>\n",
       "    <tr>\n",
       "      <th>26</th>\n",
       "      <td>Fixed!: Cash and Corruption in Cricket</td>\n",
       "      <td>Shantanu Guha Ray</td>\n",
       "      <td>Paperback,– 1 Mar 2016</td>\n",
       "      <td>4.3 out of 5 stars</td>\n",
       "      <td>15 customer reviews</td>\n",
       "      <td>Who killed Hansie Cronje and Bob Woolmer? Have...</td>\n",
       "      <td>Cricket (Books)</td>\n",
       "      <td>sport</td>\n",
       "      <td>4.3</td>\n",
       "      <td>15</td>\n",
       "      <td>...</td>\n",
       "      <td>0.0</td>\n",
       "      <td>0.0</td>\n",
       "      <td>0.0</td>\n",
       "      <td>0.0</td>\n",
       "      <td>0.0</td>\n",
       "      <td>0.0</td>\n",
       "      <td>1.0</td>\n",
       "      <td>0.0</td>\n",
       "      <td>0.0</td>\n",
       "      <td>0.0</td>\n",
       "    </tr>\n",
       "    <tr>\n",
       "      <th>27</th>\n",
       "      <td>The Buddha Box Set</td>\n",
       "      <td>Osamu Tezuka</td>\n",
       "      <td>Paperback,– Box set, 15 Jun 2014</td>\n",
       "      <td>4.3 out of 5 stars</td>\n",
       "      <td>34 customer reviews</td>\n",
       "      <td>The classic eight volume graphic novel series ...</td>\n",
       "      <td>Comics &amp; Graphic Novels (Books)</td>\n",
       "      <td>comic mangas</td>\n",
       "      <td>4.3</td>\n",
       "      <td>34</td>\n",
       "      <td>...</td>\n",
       "      <td>1.0</td>\n",
       "      <td>0.0</td>\n",
       "      <td>0.0</td>\n",
       "      <td>0.0</td>\n",
       "      <td>0.0</td>\n",
       "      <td>0.0</td>\n",
       "      <td>0.0</td>\n",
       "      <td>0.0</td>\n",
       "      <td>0.0</td>\n",
       "      <td>0.0</td>\n",
       "    </tr>\n",
       "    <tr>\n",
       "      <th>28</th>\n",
       "      <td>30 Years of WrestleMania (Wwe)</td>\n",
       "      <td>Brian Shields</td>\n",
       "      <td>Hardcover,– 15 Sep 2014</td>\n",
       "      <td>5.0 out of 5 stars</td>\n",
       "      <td>17 customer reviews</td>\n",
       "      <td>From the creators of WWE 50 and the official W...</td>\n",
       "      <td>PC &amp; Video Games (Books)</td>\n",
       "      <td>sport</td>\n",
       "      <td>5.0</td>\n",
       "      <td>17</td>\n",
       "      <td>...</td>\n",
       "      <td>0.0</td>\n",
       "      <td>0.0</td>\n",
       "      <td>0.0</td>\n",
       "      <td>0.0</td>\n",
       "      <td>0.0</td>\n",
       "      <td>0.0</td>\n",
       "      <td>1.0</td>\n",
       "      <td>0.0</td>\n",
       "      <td>0.0</td>\n",
       "      <td>0.0</td>\n",
       "    </tr>\n",
       "    <tr>\n",
       "      <th>29</th>\n",
       "      <td>Memories, Dreams, Reflections (Vintage)</td>\n",
       "      <td>C. G. Jung, Aniela Jaffe, Clara Winston, Richa...</td>\n",
       "      <td>Paperback,– 23 Apr 1989</td>\n",
       "      <td>5.0 out of 5 stars</td>\n",
       "      <td>9 customer reviews</td>\n",
       "      <td>An eye-opening biography of one of the most in...</td>\n",
       "      <td>Biographies &amp; Autobiographies (Books)</td>\n",
       "      <td>biography diary true account</td>\n",
       "      <td>5.0</td>\n",
       "      <td>9</td>\n",
       "      <td>...</td>\n",
       "      <td>0.0</td>\n",
       "      <td>0.0</td>\n",
       "      <td>0.0</td>\n",
       "      <td>0.0</td>\n",
       "      <td>0.0</td>\n",
       "      <td>0.0</td>\n",
       "      <td>0.0</td>\n",
       "      <td>0.0</td>\n",
       "      <td>1.0</td>\n",
       "      <td>0.0</td>\n",
       "    </tr>\n",
       "    <tr>\n",
       "      <th>...</th>\n",
       "      <td>...</td>\n",
       "      <td>...</td>\n",
       "      <td>...</td>\n",
       "      <td>...</td>\n",
       "      <td>...</td>\n",
       "      <td>...</td>\n",
       "      <td>...</td>\n",
       "      <td>...</td>\n",
       "      <td>...</td>\n",
       "      <td>...</td>\n",
       "      <td>...</td>\n",
       "      <td>...</td>\n",
       "      <td>...</td>\n",
       "      <td>...</td>\n",
       "      <td>...</td>\n",
       "      <td>...</td>\n",
       "      <td>...</td>\n",
       "      <td>...</td>\n",
       "      <td>...</td>\n",
       "      <td>...</td>\n",
       "      <td>...</td>\n",
       "    </tr>\n",
       "    <tr>\n",
       "      <th>7767</th>\n",
       "      <td>Trinity College London Rock &amp; Pop 2018 Drums G...</td>\n",
       "      <td>Trinity College Lond</td>\n",
       "      <td>Sheet music,– 14 Sep 2017</td>\n",
       "      <td>3.0 out of 5 stars</td>\n",
       "      <td>1 customer review</td>\n",
       "      <td>Trinity College London's Rock and Pop graded s...</td>\n",
       "      <td>Music Books</td>\n",
       "      <td>art film photography</td>\n",
       "      <td>3.0</td>\n",
       "      <td>1</td>\n",
       "      <td>...</td>\n",
       "      <td>0.0</td>\n",
       "      <td>0.0</td>\n",
       "      <td>0.0</td>\n",
       "      <td>1.0</td>\n",
       "      <td>0.0</td>\n",
       "      <td>0.0</td>\n",
       "      <td>0.0</td>\n",
       "      <td>0.0</td>\n",
       "      <td>0.0</td>\n",
       "      <td>0.0</td>\n",
       "    </tr>\n",
       "    <tr>\n",
       "      <th>7768</th>\n",
       "      <td>In Praise Of Shadows (Vintage Classics)</td>\n",
       "      <td>Junichiro Tanizaki</td>\n",
       "      <td>Paperback,– 3 May 2001</td>\n",
       "      <td>5.0 out of 5 stars</td>\n",
       "      <td>4 customer reviews</td>\n",
       "      <td>This is an enchanting essay on aesthetics by o...</td>\n",
       "      <td>Asian Literature</td>\n",
       "      <td>art film photography</td>\n",
       "      <td>5.0</td>\n",
       "      <td>4</td>\n",
       "      <td>...</td>\n",
       "      <td>0.0</td>\n",
       "      <td>0.0</td>\n",
       "      <td>0.0</td>\n",
       "      <td>1.0</td>\n",
       "      <td>0.0</td>\n",
       "      <td>0.0</td>\n",
       "      <td>0.0</td>\n",
       "      <td>0.0</td>\n",
       "      <td>0.0</td>\n",
       "      <td>0.0</td>\n",
       "    </tr>\n",
       "    <tr>\n",
       "      <th>7769</th>\n",
       "      <td>The Quintessential Quintuplets 1</td>\n",
       "      <td>Negi Haruba</td>\n",
       "      <td>Paperback,– 31 Dec 2018</td>\n",
       "      <td>5.0 out of 5 stars</td>\n",
       "      <td>1 customer review</td>\n",
       "      <td>A high school romantic comedy with five times ...</td>\n",
       "      <td>Mangas</td>\n",
       "      <td>comic mangas</td>\n",
       "      <td>5.0</td>\n",
       "      <td>1</td>\n",
       "      <td>...</td>\n",
       "      <td>1.0</td>\n",
       "      <td>0.0</td>\n",
       "      <td>0.0</td>\n",
       "      <td>0.0</td>\n",
       "      <td>0.0</td>\n",
       "      <td>0.0</td>\n",
       "      <td>0.0</td>\n",
       "      <td>0.0</td>\n",
       "      <td>0.0</td>\n",
       "      <td>0.0</td>\n",
       "    </tr>\n",
       "    <tr>\n",
       "      <th>7770</th>\n",
       "      <td>Legal Confidential: Adventures of an Indian La...</td>\n",
       "      <td>Ranjeev C Dubey</td>\n",
       "      <td>Hardcover,– 27 Nov 2015</td>\n",
       "      <td>4.0 out of 5 stars</td>\n",
       "      <td>36 customer reviews</td>\n",
       "      <td>Rookie lawyer Ranjeev C. Dubey slogs his way t...</td>\n",
       "      <td>Biographies &amp; Autobiographies (Books)</td>\n",
       "      <td>biography diary true account</td>\n",
       "      <td>4.0</td>\n",
       "      <td>36</td>\n",
       "      <td>...</td>\n",
       "      <td>0.0</td>\n",
       "      <td>0.0</td>\n",
       "      <td>0.0</td>\n",
       "      <td>0.0</td>\n",
       "      <td>0.0</td>\n",
       "      <td>0.0</td>\n",
       "      <td>0.0</td>\n",
       "      <td>0.0</td>\n",
       "      <td>1.0</td>\n",
       "      <td>0.0</td>\n",
       "    </tr>\n",
       "    <tr>\n",
       "      <th>7771</th>\n",
       "      <td>Tractatus Logico-Philosophicus (Chiron Academi...</td>\n",
       "      <td>Ludwig Wittgenstein</td>\n",
       "      <td>Paperback,– 11 Jan 2016</td>\n",
       "      <td>4.0 out of 5 stars</td>\n",
       "      <td>3 customer reviews</td>\n",
       "      <td>THE TRACTATUS LOGICO-PHILOSOPHICUS is the only...</td>\n",
       "      <td>Linguistics (Books)</td>\n",
       "      <td>language linguistics writing</td>\n",
       "      <td>4.0</td>\n",
       "      <td>3</td>\n",
       "      <td>...</td>\n",
       "      <td>0.0</td>\n",
       "      <td>0.0</td>\n",
       "      <td>0.0</td>\n",
       "      <td>0.0</td>\n",
       "      <td>0.0</td>\n",
       "      <td>0.0</td>\n",
       "      <td>0.0</td>\n",
       "      <td>0.0</td>\n",
       "      <td>0.0</td>\n",
       "      <td>1.0</td>\n",
       "    </tr>\n",
       "    <tr>\n",
       "      <th>7772</th>\n",
       "      <td>Data Analytics for Beginners: A Beginner's Gui...</td>\n",
       "      <td>Robert J. Woz</td>\n",
       "      <td>Paperback,– Import, 1 Oct 2017</td>\n",
       "      <td>4.1 out of 5 stars</td>\n",
       "      <td>6 customer reviews</td>\n",
       "      <td>If you are convinced that the world today is p...</td>\n",
       "      <td>Computer Science Books</td>\n",
       "      <td>computing internet digital medium</td>\n",
       "      <td>4.1</td>\n",
       "      <td>6</td>\n",
       "      <td>...</td>\n",
       "      <td>0.0</td>\n",
       "      <td>1.0</td>\n",
       "      <td>0.0</td>\n",
       "      <td>0.0</td>\n",
       "      <td>0.0</td>\n",
       "      <td>0.0</td>\n",
       "      <td>0.0</td>\n",
       "      <td>0.0</td>\n",
       "      <td>0.0</td>\n",
       "      <td>0.0</td>\n",
       "    </tr>\n",
       "    <tr>\n",
       "      <th>7773</th>\n",
       "      <td>Murder Games (Instinct Series)</td>\n",
       "      <td>James Patterson</td>\n",
       "      <td>Paperback,– Import, 30 Nov 2017</td>\n",
       "      <td>3.5 out of 5 stars</td>\n",
       "      <td>3 customer reviews</td>\n",
       "      <td>Now a hit TV series, Instinct\\n_______________...</td>\n",
       "      <td>Crime, Thriller &amp; Mystery (Books)</td>\n",
       "      <td>crime thriller mystery</td>\n",
       "      <td>3.5</td>\n",
       "      <td>3</td>\n",
       "      <td>...</td>\n",
       "      <td>0.0</td>\n",
       "      <td>0.0</td>\n",
       "      <td>1.0</td>\n",
       "      <td>0.0</td>\n",
       "      <td>0.0</td>\n",
       "      <td>0.0</td>\n",
       "      <td>0.0</td>\n",
       "      <td>1.0</td>\n",
       "      <td>0.0</td>\n",
       "      <td>0.0</td>\n",
       "    </tr>\n",
       "    <tr>\n",
       "      <th>7774</th>\n",
       "      <td>Feeling Good Together: The Secret to Making Tr...</td>\n",
       "      <td>David D. Burns M.D.</td>\n",
       "      <td>Paperback,– 26 Jan 2010</td>\n",
       "      <td>5.0 out of 5 stars</td>\n",
       "      <td>2 customer reviews</td>\n",
       "      <td>Based on twenty-five years of clinical experie...</td>\n",
       "      <td>Action &amp; Adventure (Books)</td>\n",
       "      <td>action adventure</td>\n",
       "      <td>5.0</td>\n",
       "      <td>2</td>\n",
       "      <td>...</td>\n",
       "      <td>0.0</td>\n",
       "      <td>0.0</td>\n",
       "      <td>0.0</td>\n",
       "      <td>0.0</td>\n",
       "      <td>0.0</td>\n",
       "      <td>0.0</td>\n",
       "      <td>0.0</td>\n",
       "      <td>0.0</td>\n",
       "      <td>0.0</td>\n",
       "      <td>0.0</td>\n",
       "    </tr>\n",
       "    <tr>\n",
       "      <th>7775</th>\n",
       "      <td>Chinese Gung Fu: The Philosophical Art of Self...</td>\n",
       "      <td>Bruce Lee</td>\n",
       "      <td>Paperback,– 1 Feb 1987</td>\n",
       "      <td>3.0 out of 5 stars</td>\n",
       "      <td>2 customer reviews</td>\n",
       "      <td>Originally published in 1963, this book includ...</td>\n",
       "      <td>Martial Arts (Books)</td>\n",
       "      <td>sport</td>\n",
       "      <td>3.0</td>\n",
       "      <td>2</td>\n",
       "      <td>...</td>\n",
       "      <td>0.0</td>\n",
       "      <td>0.0</td>\n",
       "      <td>0.0</td>\n",
       "      <td>0.0</td>\n",
       "      <td>0.0</td>\n",
       "      <td>0.0</td>\n",
       "      <td>1.0</td>\n",
       "      <td>0.0</td>\n",
       "      <td>0.0</td>\n",
       "      <td>0.0</td>\n",
       "    </tr>\n",
       "    <tr>\n",
       "      <th>7776</th>\n",
       "      <td>Learning Japanese Kanji Practice Book Volume 1...</td>\n",
       "      <td>Eriko Sato Ph.D.</td>\n",
       "      <td>Paperback,– 27 Oct 2015</td>\n",
       "      <td>5.0 out of 5 stars</td>\n",
       "      <td>1 customer review</td>\n",
       "      <td>The quick and easy way to learn the basic Japa...</td>\n",
       "      <td>Alphabet Reference</td>\n",
       "      <td>computing internet digital medium</td>\n",
       "      <td>5.0</td>\n",
       "      <td>1</td>\n",
       "      <td>...</td>\n",
       "      <td>0.0</td>\n",
       "      <td>1.0</td>\n",
       "      <td>0.0</td>\n",
       "      <td>0.0</td>\n",
       "      <td>0.0</td>\n",
       "      <td>0.0</td>\n",
       "      <td>0.0</td>\n",
       "      <td>0.0</td>\n",
       "      <td>0.0</td>\n",
       "      <td>0.0</td>\n",
       "    </tr>\n",
       "    <tr>\n",
       "      <th>7777</th>\n",
       "      <td>Deadpool Killustrated</td>\n",
       "      <td>Cullen Bunn</td>\n",
       "      <td>Paperback,– 2 Jul 2013</td>\n",
       "      <td>5.0 out of 5 stars</td>\n",
       "      <td>2 customer reviews</td>\n",
       "      <td>Dadpool has already killed every hero in the M...</td>\n",
       "      <td>Humour (Books)</td>\n",
       "      <td>humour</td>\n",
       "      <td>5.0</td>\n",
       "      <td>2</td>\n",
       "      <td>...</td>\n",
       "      <td>0.0</td>\n",
       "      <td>0.0</td>\n",
       "      <td>0.0</td>\n",
       "      <td>0.0</td>\n",
       "      <td>0.0</td>\n",
       "      <td>0.0</td>\n",
       "      <td>0.0</td>\n",
       "      <td>0.0</td>\n",
       "      <td>0.0</td>\n",
       "      <td>0.0</td>\n",
       "    </tr>\n",
       "    <tr>\n",
       "      <th>7778</th>\n",
       "      <td>Cartooning, The Professional Step-by-Step Guid...</td>\n",
       "      <td>Ivan Hissey, Curtis Tappenden</td>\n",
       "      <td>Paperback,– Illustrated, Import</td>\n",
       "      <td>3.0 out of 5 stars</td>\n",
       "      <td>1 customer review</td>\n",
       "      <td>A comprehensive and practical guide to drawing...</td>\n",
       "      <td>Handicrafts, Decorative Arts &amp; Crafts (Books)</td>\n",
       "      <td>computing internet digital medium</td>\n",
       "      <td>3.0</td>\n",
       "      <td>1</td>\n",
       "      <td>...</td>\n",
       "      <td>0.0</td>\n",
       "      <td>1.0</td>\n",
       "      <td>0.0</td>\n",
       "      <td>0.0</td>\n",
       "      <td>0.0</td>\n",
       "      <td>0.0</td>\n",
       "      <td>0.0</td>\n",
       "      <td>0.0</td>\n",
       "      <td>0.0</td>\n",
       "      <td>0.0</td>\n",
       "    </tr>\n",
       "    <tr>\n",
       "      <th>7779</th>\n",
       "      <td>The Anatomy of a Sting</td>\n",
       "      <td>Bhupen Patel</td>\n",
       "      <td>Paperback,– 17 Dec 2018</td>\n",
       "      <td>4.6 out of 5 stars</td>\n",
       "      <td>16 customer reviews</td>\n",
       "      <td>Bhupen Patel has conducted many undercover ope...</td>\n",
       "      <td>True Accounts (Books)</td>\n",
       "      <td>language linguistics writing</td>\n",
       "      <td>4.6</td>\n",
       "      <td>16</td>\n",
       "      <td>...</td>\n",
       "      <td>0.0</td>\n",
       "      <td>0.0</td>\n",
       "      <td>0.0</td>\n",
       "      <td>0.0</td>\n",
       "      <td>0.0</td>\n",
       "      <td>0.0</td>\n",
       "      <td>0.0</td>\n",
       "      <td>0.0</td>\n",
       "      <td>0.0</td>\n",
       "      <td>1.0</td>\n",
       "    </tr>\n",
       "    <tr>\n",
       "      <th>7780</th>\n",
       "      <td>The Nationalist: How A.M. Naik Overcame Great ...</td>\n",
       "      <td>Minhaz Merchant</td>\n",
       "      <td>Hardcover,– 18 Nov 2017</td>\n",
       "      <td>3.9 out of 5 stars</td>\n",
       "      <td>27 customer reviews</td>\n",
       "      <td>This is the story of an extraordinary business...</td>\n",
       "      <td>Biographies &amp; Autobiographies (Books)</td>\n",
       "      <td>biography diary true account</td>\n",
       "      <td>3.9</td>\n",
       "      <td>27</td>\n",
       "      <td>...</td>\n",
       "      <td>0.0</td>\n",
       "      <td>0.0</td>\n",
       "      <td>0.0</td>\n",
       "      <td>0.0</td>\n",
       "      <td>0.0</td>\n",
       "      <td>0.0</td>\n",
       "      <td>0.0</td>\n",
       "      <td>0.0</td>\n",
       "      <td>1.0</td>\n",
       "      <td>0.0</td>\n",
       "    </tr>\n",
       "    <tr>\n",
       "      <th>7781</th>\n",
       "      <td>Amphigorey: Fifteen Books</td>\n",
       "      <td>Edward Gorey</td>\n",
       "      <td>Paperback,– 28 Jan 1980</td>\n",
       "      <td>3.8 out of 5 stars</td>\n",
       "      <td>2 customer reviews</td>\n",
       "      <td>An illustrated collection of 15 macabre short ...</td>\n",
       "      <td>Anthologies (Books)</td>\n",
       "      <td>comic mangas</td>\n",
       "      <td>3.8</td>\n",
       "      <td>2</td>\n",
       "      <td>...</td>\n",
       "      <td>1.0</td>\n",
       "      <td>0.0</td>\n",
       "      <td>0.0</td>\n",
       "      <td>0.0</td>\n",
       "      <td>0.0</td>\n",
       "      <td>0.0</td>\n",
       "      <td>0.0</td>\n",
       "      <td>0.0</td>\n",
       "      <td>0.0</td>\n",
       "      <td>0.0</td>\n",
       "    </tr>\n",
       "    <tr>\n",
       "      <th>7782</th>\n",
       "      <td>The Messy Middle</td>\n",
       "      <td>Scott Belsky</td>\n",
       "      <td>Paperback,– 5 Nov 2018</td>\n",
       "      <td>4.2 out of 5 stars</td>\n",
       "      <td>6 customer reviews</td>\n",
       "      <td>Silicon Valley is full of start-up success sto...</td>\n",
       "      <td>Computer Science Books</td>\n",
       "      <td>computing internet digital medium</td>\n",
       "      <td>4.2</td>\n",
       "      <td>6</td>\n",
       "      <td>...</td>\n",
       "      <td>0.0</td>\n",
       "      <td>1.0</td>\n",
       "      <td>0.0</td>\n",
       "      <td>0.0</td>\n",
       "      <td>0.0</td>\n",
       "      <td>0.0</td>\n",
       "      <td>0.0</td>\n",
       "      <td>0.0</td>\n",
       "      <td>0.0</td>\n",
       "      <td>0.0</td>\n",
       "    </tr>\n",
       "    <tr>\n",
       "      <th>7783</th>\n",
       "      <td>The Secrets We Keep</td>\n",
       "      <td>Sudeep Nagarkar</td>\n",
       "      <td>Paperback,– Import, 15 Apr 2019</td>\n",
       "      <td>4.6 out of 5 stars</td>\n",
       "      <td>172 customer reviews</td>\n",
       "      <td>If your past could be erased, would you erase ...</td>\n",
       "      <td>Romance (Books)</td>\n",
       "      <td>romance</td>\n",
       "      <td>4.6</td>\n",
       "      <td>172</td>\n",
       "      <td>...</td>\n",
       "      <td>0.0</td>\n",
       "      <td>0.0</td>\n",
       "      <td>0.0</td>\n",
       "      <td>0.0</td>\n",
       "      <td>0.0</td>\n",
       "      <td>1.0</td>\n",
       "      <td>0.0</td>\n",
       "      <td>0.0</td>\n",
       "      <td>0.0</td>\n",
       "      <td>0.0</td>\n",
       "    </tr>\n",
       "    <tr>\n",
       "      <th>7784</th>\n",
       "      <td>You Don't Know JS: Up &amp; Going</td>\n",
       "      <td>Kyle Simpson</td>\n",
       "      <td>Paperback,– 2015</td>\n",
       "      <td>4.1 out of 5 stars</td>\n",
       "      <td>7 customer reviews</td>\n",
       "      <td>Itís easy to learn parts of JavaScript, but mu...</td>\n",
       "      <td>Programming &amp; Software Development (Books)</td>\n",
       "      <td>computing internet digital medium</td>\n",
       "      <td>4.1</td>\n",
       "      <td>7</td>\n",
       "      <td>...</td>\n",
       "      <td>0.0</td>\n",
       "      <td>1.0</td>\n",
       "      <td>0.0</td>\n",
       "      <td>0.0</td>\n",
       "      <td>0.0</td>\n",
       "      <td>0.0</td>\n",
       "      <td>0.0</td>\n",
       "      <td>0.0</td>\n",
       "      <td>0.0</td>\n",
       "      <td>0.0</td>\n",
       "    </tr>\n",
       "    <tr>\n",
       "      <th>7785</th>\n",
       "      <td>Kari The Elephant &amp; Hari, The Jungle Lad</td>\n",
       "      <td>Dhan Gopal Mukerji</td>\n",
       "      <td>Paperback,– 15 Jan 2016</td>\n",
       "      <td>5.0 out of 5 stars</td>\n",
       "      <td>1 customer review</td>\n",
       "      <td>Kari, the loyal elephant, Kopee, the monkey kn...</td>\n",
       "      <td>Action &amp; Adventure (Books)</td>\n",
       "      <td>action adventure</td>\n",
       "      <td>5.0</td>\n",
       "      <td>1</td>\n",
       "      <td>...</td>\n",
       "      <td>0.0</td>\n",
       "      <td>0.0</td>\n",
       "      <td>0.0</td>\n",
       "      <td>0.0</td>\n",
       "      <td>0.0</td>\n",
       "      <td>0.0</td>\n",
       "      <td>0.0</td>\n",
       "      <td>0.0</td>\n",
       "      <td>0.0</td>\n",
       "      <td>0.0</td>\n",
       "    </tr>\n",
       "    <tr>\n",
       "      <th>7786</th>\n",
       "      <td>How to Teach Your Baby to Read: The Gentle Rev...</td>\n",
       "      <td>Janet Doman</td>\n",
       "      <td>Paperback,– 27 Oct 2005</td>\n",
       "      <td>3.3 out of 5 stars</td>\n",
       "      <td>5 customer reviews</td>\n",
       "      <td>\"As the founder of The Institutes for the Achi...</td>\n",
       "      <td>Language, Linguistics &amp; Writing (Books)</td>\n",
       "      <td>language linguistics writing</td>\n",
       "      <td>3.3</td>\n",
       "      <td>5</td>\n",
       "      <td>...</td>\n",
       "      <td>0.0</td>\n",
       "      <td>0.0</td>\n",
       "      <td>0.0</td>\n",
       "      <td>0.0</td>\n",
       "      <td>0.0</td>\n",
       "      <td>0.0</td>\n",
       "      <td>0.0</td>\n",
       "      <td>0.0</td>\n",
       "      <td>0.0</td>\n",
       "      <td>1.0</td>\n",
       "    </tr>\n",
       "    <tr>\n",
       "      <th>7787</th>\n",
       "      <td>A Song of Ice and Fire - A Game of Thrones: Th...</td>\n",
       "      <td>George R R Martin</td>\n",
       "      <td>Paperback,– 5 Jan 2016</td>\n",
       "      <td>4.5 out of 5 stars</td>\n",
       "      <td>296 customer reviews</td>\n",
       "      <td>HBO’s hit series A Game of Thrones is based on...</td>\n",
       "      <td>Action &amp; Adventure (Books)</td>\n",
       "      <td>action adventure</td>\n",
       "      <td>4.5</td>\n",
       "      <td>296</td>\n",
       "      <td>...</td>\n",
       "      <td>0.0</td>\n",
       "      <td>0.0</td>\n",
       "      <td>0.0</td>\n",
       "      <td>0.0</td>\n",
       "      <td>0.0</td>\n",
       "      <td>0.0</td>\n",
       "      <td>0.0</td>\n",
       "      <td>0.0</td>\n",
       "      <td>0.0</td>\n",
       "      <td>0.0</td>\n",
       "    </tr>\n",
       "    <tr>\n",
       "      <th>7788</th>\n",
       "      <td>Goodbye, Things – The New Japanese Minimalism</td>\n",
       "      <td>Fumio Sasaki</td>\n",
       "      <td>Hardcover,– 11 Apr 2017</td>\n",
       "      <td>4.8 out of 5 stars</td>\n",
       "      <td>13 customer reviews</td>\n",
       "      <td>The best-selling phenomenon from Japan that sh...</td>\n",
       "      <td>Home &amp; House Maintenance (Books)</td>\n",
       "      <td>sport</td>\n",
       "      <td>4.8</td>\n",
       "      <td>13</td>\n",
       "      <td>...</td>\n",
       "      <td>0.0</td>\n",
       "      <td>0.0</td>\n",
       "      <td>0.0</td>\n",
       "      <td>0.0</td>\n",
       "      <td>0.0</td>\n",
       "      <td>0.0</td>\n",
       "      <td>1.0</td>\n",
       "      <td>0.0</td>\n",
       "      <td>0.0</td>\n",
       "      <td>0.0</td>\n",
       "    </tr>\n",
       "    <tr>\n",
       "      <th>7789</th>\n",
       "      <td>Five Comic One-Act Plays (Dover Thrift Editions)</td>\n",
       "      <td>Anton Pavlovich Chekhov</td>\n",
       "      <td>Paperback,– 2 Jul 1999</td>\n",
       "      <td>5.0 out of 5 stars</td>\n",
       "      <td>1 customer review</td>\n",
       "      <td>One of the foremost dramatists of the 19th cen...</td>\n",
       "      <td>Plays (Books)</td>\n",
       "      <td>humour</td>\n",
       "      <td>5.0</td>\n",
       "      <td>1</td>\n",
       "      <td>...</td>\n",
       "      <td>0.0</td>\n",
       "      <td>0.0</td>\n",
       "      <td>0.0</td>\n",
       "      <td>0.0</td>\n",
       "      <td>0.0</td>\n",
       "      <td>0.0</td>\n",
       "      <td>0.0</td>\n",
       "      <td>0.0</td>\n",
       "      <td>0.0</td>\n",
       "      <td>0.0</td>\n",
       "    </tr>\n",
       "    <tr>\n",
       "      <th>7790</th>\n",
       "      <td>Left Politics in Bengal</td>\n",
       "      <td>Monobina Gupta</td>\n",
       "      <td>Paperback,– 2010</td>\n",
       "      <td>4.0 out of 5 stars</td>\n",
       "      <td>1 customer review</td>\n",
       "      <td>This remarkable book traces the Left Front gov...</td>\n",
       "      <td>Government (Books)</td>\n",
       "      <td>politics</td>\n",
       "      <td>4.0</td>\n",
       "      <td>1</td>\n",
       "      <td>...</td>\n",
       "      <td>0.0</td>\n",
       "      <td>0.0</td>\n",
       "      <td>0.0</td>\n",
       "      <td>0.0</td>\n",
       "      <td>1.0</td>\n",
       "      <td>0.0</td>\n",
       "      <td>0.0</td>\n",
       "      <td>0.0</td>\n",
       "      <td>0.0</td>\n",
       "      <td>0.0</td>\n",
       "    </tr>\n",
       "    <tr>\n",
       "      <th>7791</th>\n",
       "      <td>Guardians of Being</td>\n",
       "      <td>Eckhart Tolle</td>\n",
       "      <td>Paperback,– 15 Nov 2011</td>\n",
       "      <td>3.6 out of 5 stars</td>\n",
       "      <td>6 customer reviews</td>\n",
       "      <td>A noted author and the creator of the \"Mutts\" ...</td>\n",
       "      <td>Mental &amp; Spiritual Healing</td>\n",
       "      <td>humour</td>\n",
       "      <td>3.6</td>\n",
       "      <td>6</td>\n",
       "      <td>...</td>\n",
       "      <td>0.0</td>\n",
       "      <td>0.0</td>\n",
       "      <td>0.0</td>\n",
       "      <td>0.0</td>\n",
       "      <td>0.0</td>\n",
       "      <td>0.0</td>\n",
       "      <td>0.0</td>\n",
       "      <td>0.0</td>\n",
       "      <td>0.0</td>\n",
       "      <td>0.0</td>\n",
       "    </tr>\n",
       "    <tr>\n",
       "      <th>7792</th>\n",
       "      <td>100 Things Every Designer Needs to Know About ...</td>\n",
       "      <td>Susan Weinschenk</td>\n",
       "      <td>Paperback,– 14 Apr 2011</td>\n",
       "      <td>5.0 out of 5 stars</td>\n",
       "      <td>4 customer reviews</td>\n",
       "      <td>We design to elicit responses from people. We ...</td>\n",
       "      <td>Design</td>\n",
       "      <td>computing internet digital medium</td>\n",
       "      <td>5.0</td>\n",
       "      <td>4</td>\n",
       "      <td>...</td>\n",
       "      <td>0.0</td>\n",
       "      <td>1.0</td>\n",
       "      <td>0.0</td>\n",
       "      <td>0.0</td>\n",
       "      <td>0.0</td>\n",
       "      <td>0.0</td>\n",
       "      <td>0.0</td>\n",
       "      <td>0.0</td>\n",
       "      <td>0.0</td>\n",
       "      <td>0.0</td>\n",
       "    </tr>\n",
       "    <tr>\n",
       "      <th>7793</th>\n",
       "      <td>Modern Letter Writing Course: Personal, Busine...</td>\n",
       "      <td>ARUN SAGAR</td>\n",
       "      <td>Paperback,– 8 May 2013</td>\n",
       "      <td>3.6 out of 5 stars</td>\n",
       "      <td>13 customer reviews</td>\n",
       "      <td>A 30-day course to write simple, sharp and att...</td>\n",
       "      <td>Children's Reference (Books)</td>\n",
       "      <td>biography diary true account</td>\n",
       "      <td>3.6</td>\n",
       "      <td>13</td>\n",
       "      <td>...</td>\n",
       "      <td>0.0</td>\n",
       "      <td>0.0</td>\n",
       "      <td>0.0</td>\n",
       "      <td>0.0</td>\n",
       "      <td>0.0</td>\n",
       "      <td>0.0</td>\n",
       "      <td>0.0</td>\n",
       "      <td>0.0</td>\n",
       "      <td>1.0</td>\n",
       "      <td>0.0</td>\n",
       "    </tr>\n",
       "    <tr>\n",
       "      <th>7794</th>\n",
       "      <td>The Kite Runner Graphic Novel</td>\n",
       "      <td>Khaled Hosseini</td>\n",
       "      <td>Paperback,– 6 Sep 2011</td>\n",
       "      <td>4.0 out of 5 stars</td>\n",
       "      <td>5 customer reviews</td>\n",
       "      <td>The perennial bestseller-now available as a se...</td>\n",
       "      <td>Humour (Books)</td>\n",
       "      <td>humour</td>\n",
       "      <td>4.0</td>\n",
       "      <td>5</td>\n",
       "      <td>...</td>\n",
       "      <td>0.0</td>\n",
       "      <td>0.0</td>\n",
       "      <td>0.0</td>\n",
       "      <td>0.0</td>\n",
       "      <td>0.0</td>\n",
       "      <td>0.0</td>\n",
       "      <td>0.0</td>\n",
       "      <td>0.0</td>\n",
       "      <td>0.0</td>\n",
       "      <td>0.0</td>\n",
       "    </tr>\n",
       "    <tr>\n",
       "      <th>7795</th>\n",
       "      <td>Panzer Leader (Penguin World War II Collection)</td>\n",
       "      <td>Heinz Guderian</td>\n",
       "      <td>Paperback,– 22 Sep 2009</td>\n",
       "      <td>3.5 out of 5 stars</td>\n",
       "      <td>3 customer reviews</td>\n",
       "      <td>Heinz Guderian - master of the Blitzkrieg and ...</td>\n",
       "      <td>United States History</td>\n",
       "      <td>biography diary true account</td>\n",
       "      <td>3.5</td>\n",
       "      <td>3</td>\n",
       "      <td>...</td>\n",
       "      <td>0.0</td>\n",
       "      <td>0.0</td>\n",
       "      <td>0.0</td>\n",
       "      <td>0.0</td>\n",
       "      <td>0.0</td>\n",
       "      <td>0.0</td>\n",
       "      <td>0.0</td>\n",
       "      <td>0.0</td>\n",
       "      <td>1.0</td>\n",
       "      <td>0.0</td>\n",
       "    </tr>\n",
       "    <tr>\n",
       "      <th>7796</th>\n",
       "      <td>Complete Spanish Step-by-Step</td>\n",
       "      <td>Barbara Bregstein</td>\n",
       "      <td>Paperback,– 16 Sep 2016</td>\n",
       "      <td>4.5 out of 5 stars</td>\n",
       "      <td>2 customer reviews</td>\n",
       "      <td>Learn Spanish with the most convenient and eff...</td>\n",
       "      <td>Dictionaries</td>\n",
       "      <td>language linguistics writing</td>\n",
       "      <td>4.5</td>\n",
       "      <td>2</td>\n",
       "      <td>...</td>\n",
       "      <td>0.0</td>\n",
       "      <td>0.0</td>\n",
       "      <td>0.0</td>\n",
       "      <td>0.0</td>\n",
       "      <td>0.0</td>\n",
       "      <td>0.0</td>\n",
       "      <td>0.0</td>\n",
       "      <td>0.0</td>\n",
       "      <td>0.0</td>\n",
       "      <td>1.0</td>\n",
       "    </tr>\n",
       "  </tbody>\n",
       "</table>\n",
       "<p>7797 rows × 35 columns</p>\n",
       "</div>"
      ],
      "text/plain": [
       "                                                  Title  \\\n",
       "0                   The Prisoner's Gold (The Hunters 3)   \n",
       "1                    Guru Dutt: A Tragedy in Three Acts   \n",
       "2                          Leviathan (Penguin Classics)   \n",
       "3                    A Pocket Full of Rye (Miss Marple)   \n",
       "4            LIFE 70 Years of Extraordinary Photography   \n",
       "5     ChiRunning: A Revolutionary Approach to Effort...   \n",
       "6                            Death on the Nile (Poirot)   \n",
       "7     Yoga Your Home Practice Companion: A Complete ...   \n",
       "8               Karmayogi: A Biography of E. Sreedharan   \n",
       "9            The Iron King (The Accursed Kings, Book 1)   \n",
       "10    Battle for Sanskrit: Is Sanskrit Political or ...   \n",
       "11    Blockchain Revolution: How the Technology Behi...   \n",
       "12          Tai-Pan: The Second Novel of the Asian Saga   \n",
       "13    The Art of Shaolin Kung Fu: The Secrets of Kun...   \n",
       "14                                         Anil's Ghost   \n",
       "15    Superman: An Origin Story (DC Comics Super Her...   \n",
       "16                              My First Book of London   \n",
       "17             Naruto: Itachi's Story, Vol. 1: Daylight   \n",
       "18                              The Story of Philosophy   \n",
       "19    Introducing Data Science: Big Data, Machine Le...   \n",
       "20                        The Travelling Cat Chronicles   \n",
       "21                 Messi: Updated Edition (Luca Caioli)   \n",
       "22                                       The Dark Arena   \n",
       "23    Sap Fico Beginner's Handbook: Step By Step Acr...   \n",
       "24    German Grammar You Really Need To Know: Teach ...   \n",
       "25    Stealth of Nations: The Global Rise of the Inf...   \n",
       "26               Fixed!: Cash and Corruption in Cricket   \n",
       "27                                   The Buddha Box Set   \n",
       "28                       30 Years of WrestleMania (Wwe)   \n",
       "29              Memories, Dreams, Reflections (Vintage)   \n",
       "...                                                 ...   \n",
       "7767  Trinity College London Rock & Pop 2018 Drums G...   \n",
       "7768            In Praise Of Shadows (Vintage Classics)   \n",
       "7769                   The Quintessential Quintuplets 1   \n",
       "7770  Legal Confidential: Adventures of an Indian La...   \n",
       "7771  Tractatus Logico-Philosophicus (Chiron Academi...   \n",
       "7772  Data Analytics for Beginners: A Beginner's Gui...   \n",
       "7773                     Murder Games (Instinct Series)   \n",
       "7774  Feeling Good Together: The Secret to Making Tr...   \n",
       "7775  Chinese Gung Fu: The Philosophical Art of Self...   \n",
       "7776  Learning Japanese Kanji Practice Book Volume 1...   \n",
       "7777                              Deadpool Killustrated   \n",
       "7778  Cartooning, The Professional Step-by-Step Guid...   \n",
       "7779                             The Anatomy of a Sting   \n",
       "7780  The Nationalist: How A.M. Naik Overcame Great ...   \n",
       "7781                          Amphigorey: Fifteen Books   \n",
       "7782                                   The Messy Middle   \n",
       "7783                                The Secrets We Keep   \n",
       "7784                      You Don't Know JS: Up & Going   \n",
       "7785           Kari The Elephant & Hari, The Jungle Lad   \n",
       "7786  How to Teach Your Baby to Read: The Gentle Rev...   \n",
       "7787  A Song of Ice and Fire - A Game of Thrones: Th...   \n",
       "7788      Goodbye, Things – The New Japanese Minimalism   \n",
       "7789   Five Comic One-Act Plays (Dover Thrift Editions)   \n",
       "7790                            Left Politics in Bengal   \n",
       "7791                                 Guardians of Being   \n",
       "7792  100 Things Every Designer Needs to Know About ...   \n",
       "7793  Modern Letter Writing Course: Personal, Busine...   \n",
       "7794                      The Kite Runner Graphic Novel   \n",
       "7795    Panzer Leader (Penguin World War II Collection)   \n",
       "7796                      Complete Spanish Step-by-Step   \n",
       "\n",
       "                                                 Author  \\\n",
       "0                                        Chris Kuzneski   \n",
       "1                                          Arun Khopkar   \n",
       "2                                         Thomas Hobbes   \n",
       "3                                       Agatha Christie   \n",
       "4                                       Editors of Life   \n",
       "5                                          Danny Dreyer   \n",
       "6                                       Agatha Christie   \n",
       "7                         Sivananda Yoga Vedanta Centre   \n",
       "8                                           M S Ashokan   \n",
       "9                                         Maurice Druon   \n",
       "10                                       Rajiv Malhotra   \n",
       "11                          Don Tapscott, Alex Tapscott   \n",
       "12                                        James Clavell   \n",
       "13                                        Wong Kiew Kit   \n",
       "14                                     Michael Ondaatje   \n",
       "15                                    Matthew K Manning   \n",
       "16                       Charlotte Guillain, Roland Dry   \n",
       "17                                         Takashi Yano   \n",
       "18                                          Will Durant   \n",
       "19          Davy Cielen, Arno D.B. Meysman, Mohamed Ali   \n",
       "20                                         Hiro Arikawa   \n",
       "21                                          Luca Caioli   \n",
       "22                                           Mario Puzo   \n",
       "23                                  Murugesan Ramaswamy   \n",
       "24                                           Jenny Russ   \n",
       "25                                      Robert Neuwirth   \n",
       "26                                    Shantanu Guha Ray   \n",
       "27                                         Osamu Tezuka   \n",
       "28                                        Brian Shields   \n",
       "29    C. G. Jung, Aniela Jaffe, Clara Winston, Richa...   \n",
       "...                                                 ...   \n",
       "7767                               Trinity College Lond   \n",
       "7768                                 Junichiro Tanizaki   \n",
       "7769                                        Negi Haruba   \n",
       "7770                                    Ranjeev C Dubey   \n",
       "7771                                Ludwig Wittgenstein   \n",
       "7772                                      Robert J. Woz   \n",
       "7773                                    James Patterson   \n",
       "7774                                David D. Burns M.D.   \n",
       "7775                                          Bruce Lee   \n",
       "7776                                   Eriko Sato Ph.D.   \n",
       "7777                                        Cullen Bunn   \n",
       "7778                      Ivan Hissey, Curtis Tappenden   \n",
       "7779                                       Bhupen Patel   \n",
       "7780                                    Minhaz Merchant   \n",
       "7781                                       Edward Gorey   \n",
       "7782                                       Scott Belsky   \n",
       "7783                                    Sudeep Nagarkar   \n",
       "7784                                       Kyle Simpson   \n",
       "7785                                 Dhan Gopal Mukerji   \n",
       "7786                                        Janet Doman   \n",
       "7787                                  George R R Martin   \n",
       "7788                                       Fumio Sasaki   \n",
       "7789                            Anton Pavlovich Chekhov   \n",
       "7790                                     Monobina Gupta   \n",
       "7791                                      Eckhart Tolle   \n",
       "7792                                   Susan Weinschenk   \n",
       "7793                                         ARUN SAGAR   \n",
       "7794                                    Khaled Hosseini   \n",
       "7795                                     Heinz Guderian   \n",
       "7796                                  Barbara Bregstein   \n",
       "\n",
       "                                   Edition             Ratings  \\\n",
       "0                  Paperback,– 10 Mar 2016  4.0 out of 5 stars   \n",
       "1                   Paperback,– 7 Nov 2012  3.9 out of 5 stars   \n",
       "2                  Paperback,– 25 Feb 1982  4.8 out of 5 stars   \n",
       "3                   Paperback,– 5 Oct 2017  4.1 out of 5 stars   \n",
       "4                  Hardcover,– 10 Oct 2006  5.0 out of 5 stars   \n",
       "5                   Paperback,– 5 May 2009  4.5 out of 5 stars   \n",
       "6                   Paperback,– 5 Oct 2017  4.4 out of 5 stars   \n",
       "7           Hardcover,– Import, 1 Mar 2018  4.7 out of 5 stars   \n",
       "8                  Paperback,– 15 Dec 2015  4.2 out of 5 stars   \n",
       "9                  Paperback,– 26 Mar 2013  4.0 out of 5 stars   \n",
       "10                 Paperback,– 20 Jan 2017  4.9 out of 5 stars   \n",
       "11         Paperback,– Import, 14 Jun 2018  3.5 out of 5 stars   \n",
       "12                  Paperback,– 1 Jul 1999  4.1 out of 5 stars   \n",
       "13                 Paperback,– 15 Nov 2002  5.0 out of 5 stars   \n",
       "14                  Paperback,– 1 Sep 2011  3.8 out of 5 stars   \n",
       "15                 Paperback,– 26 Feb 2015  5.0 out of 5 stars   \n",
       "16                  Hardcover,– 8 Mar 2018  5.0 out of 5 stars   \n",
       "17                  Paperback,– 1 Nov 2016  4.9 out of 5 stars   \n",
       "18      Mass Market Paperback,– 1 Jan 1991  4.5 out of 5 stars   \n",
       "19                        Paperback,– 2016  4.3 out of 5 stars   \n",
       "20                 Hardcover,– 24 Nov 2018  4.9 out of 5 stars   \n",
       "21          Paperback,– Import, 4 Oct 2018  5.0 out of 5 stars   \n",
       "22                  Paperback,– 5 Jul 2012  3.1 out of 5 stars   \n",
       "23                  Paperback,– 1 Nov 2014  3.1 out of 5 stars   \n",
       "24                 Paperback,– 31 Aug 2012  4.8 out of 5 stars   \n",
       "25    Hardcover,– Deckle Edge, 18 Oct 2011  4.0 out of 5 stars   \n",
       "26                  Paperback,– 1 Mar 2016  4.3 out of 5 stars   \n",
       "27        Paperback,– Box set, 15 Jun 2014  4.3 out of 5 stars   \n",
       "28                 Hardcover,– 15 Sep 2014  5.0 out of 5 stars   \n",
       "29                 Paperback,– 23 Apr 1989  5.0 out of 5 stars   \n",
       "...                                    ...                 ...   \n",
       "7767             Sheet music,– 14 Sep 2017  3.0 out of 5 stars   \n",
       "7768                Paperback,– 3 May 2001  5.0 out of 5 stars   \n",
       "7769               Paperback,– 31 Dec 2018  5.0 out of 5 stars   \n",
       "7770               Hardcover,– 27 Nov 2015  4.0 out of 5 stars   \n",
       "7771               Paperback,– 11 Jan 2016  4.0 out of 5 stars   \n",
       "7772        Paperback,– Import, 1 Oct 2017  4.1 out of 5 stars   \n",
       "7773       Paperback,– Import, 30 Nov 2017  3.5 out of 5 stars   \n",
       "7774               Paperback,– 26 Jan 2010  5.0 out of 5 stars   \n",
       "7775                Paperback,– 1 Feb 1987  3.0 out of 5 stars   \n",
       "7776               Paperback,– 27 Oct 2015  5.0 out of 5 stars   \n",
       "7777                Paperback,– 2 Jul 2013  5.0 out of 5 stars   \n",
       "7778       Paperback,– Illustrated, Import  3.0 out of 5 stars   \n",
       "7779               Paperback,– 17 Dec 2018  4.6 out of 5 stars   \n",
       "7780               Hardcover,– 18 Nov 2017  3.9 out of 5 stars   \n",
       "7781               Paperback,– 28 Jan 1980  3.8 out of 5 stars   \n",
       "7782                Paperback,– 5 Nov 2018  4.2 out of 5 stars   \n",
       "7783       Paperback,– Import, 15 Apr 2019  4.6 out of 5 stars   \n",
       "7784                      Paperback,– 2015  4.1 out of 5 stars   \n",
       "7785               Paperback,– 15 Jan 2016  5.0 out of 5 stars   \n",
       "7786               Paperback,– 27 Oct 2005  3.3 out of 5 stars   \n",
       "7787                Paperback,– 5 Jan 2016  4.5 out of 5 stars   \n",
       "7788               Hardcover,– 11 Apr 2017  4.8 out of 5 stars   \n",
       "7789                Paperback,– 2 Jul 1999  5.0 out of 5 stars   \n",
       "7790                      Paperback,– 2010  4.0 out of 5 stars   \n",
       "7791               Paperback,– 15 Nov 2011  3.6 out of 5 stars   \n",
       "7792               Paperback,– 14 Apr 2011  5.0 out of 5 stars   \n",
       "7793                Paperback,– 8 May 2013  3.6 out of 5 stars   \n",
       "7794                Paperback,– 6 Sep 2011  4.0 out of 5 stars   \n",
       "7795               Paperback,– 22 Sep 2009  3.5 out of 5 stars   \n",
       "7796               Paperback,– 16 Sep 2016  4.5 out of 5 stars   \n",
       "\n",
       "                   Reviews                                           Synopsis  \\\n",
       "0       8 customer reviews  THE HUNTERS return in their third brilliant no...   \n",
       "1      14 customer reviews  A layered portrait of a troubled genius for wh...   \n",
       "2       6 customer reviews  \"During the time men live without a common Pow...   \n",
       "3      13 customer reviews  A handful of grain is found in the pocket of a...   \n",
       "4        1 customer review  For seven decades, \"Life\" has been thrilling t...   \n",
       "5       8 customer reviews  The revised edition of the bestselling ChiRunn...   \n",
       "6      72 customer reviews  Agatha Christie’s most exotic murder mystery\\n...   \n",
       "7      16 customer reviews  Achieve a healthy body, mental alertness, and ...   \n",
       "8     111 customer reviews  Karmayogi is the dramatic and inspiring story ...   \n",
       "9        1 customer review  ‘This is the original game of thrones’ George ...   \n",
       "10    132 customer reviews  There is a new awakening in India that is chal...   \n",
       "11     17 customer reviews  THE DEFINITIVE BOOK ON HOW THE TECHNOLOGY BEHI...   \n",
       "12      4 customer reviews  Set in the turbulent days of the founding of H...   \n",
       "13      3 customer reviews  The Art of Shaolin Kung Fu is the ultimate gui...   \n",
       "14      5 customer reviews  Anil's Ghost transports us to Sri Lanka, a cou...   \n",
       "15      2 customer reviews  One day, an alien orphan crash-lands on Earth ...   \n",
       "16       1 customer review  London is one of the most exciting cities in t...   \n",
       "17     23 customer reviews  A new series of prose novels, straight from th...   \n",
       "18     76 customer reviews  A brilliant and concise account of the lives a...   \n",
       "19      5 customer reviews  Introducing Data Science explains vital data s...   \n",
       "20     10 customer reviews  A stunning hardback edition of this surprise h...   \n",
       "21      2 customer reviews  FROM THE BESTSELLING AUTHOR OF RONALDO AND NEY...   \n",
       "22      2 customer reviews  MARIO PUZO'S FIRST ACCLAIMED NOVEL, BEFORE HIS...   \n",
       "23     10 customer reviews  Step by Step Screenshots Guided Handholding Ap...   \n",
       "24      9 customer reviews  Comprehensive and clear explanations of key gr...   \n",
       "25       1 customer review  • Thousands of Africans head to China each yea...   \n",
       "26     15 customer reviews  Who killed Hansie Cronje and Bob Woolmer? Have...   \n",
       "27     34 customer reviews  The classic eight volume graphic novel series ...   \n",
       "28     17 customer reviews  From the creators of WWE 50 and the official W...   \n",
       "29      9 customer reviews  An eye-opening biography of one of the most in...   \n",
       "...                    ...                                                ...   \n",
       "7767     1 customer review  Trinity College London's Rock and Pop graded s...   \n",
       "7768    4 customer reviews  This is an enchanting essay on aesthetics by o...   \n",
       "7769     1 customer review  A high school romantic comedy with five times ...   \n",
       "7770   36 customer reviews  Rookie lawyer Ranjeev C. Dubey slogs his way t...   \n",
       "7771    3 customer reviews  THE TRACTATUS LOGICO-PHILOSOPHICUS is the only...   \n",
       "7772    6 customer reviews  If you are convinced that the world today is p...   \n",
       "7773    3 customer reviews  Now a hit TV series, Instinct\\n_______________...   \n",
       "7774    2 customer reviews  Based on twenty-five years of clinical experie...   \n",
       "7775    2 customer reviews  Originally published in 1963, this book includ...   \n",
       "7776     1 customer review  The quick and easy way to learn the basic Japa...   \n",
       "7777    2 customer reviews  Dadpool has already killed every hero in the M...   \n",
       "7778     1 customer review  A comprehensive and practical guide to drawing...   \n",
       "7779   16 customer reviews  Bhupen Patel has conducted many undercover ope...   \n",
       "7780   27 customer reviews  This is the story of an extraordinary business...   \n",
       "7781    2 customer reviews  An illustrated collection of 15 macabre short ...   \n",
       "7782    6 customer reviews  Silicon Valley is full of start-up success sto...   \n",
       "7783  172 customer reviews  If your past could be erased, would you erase ...   \n",
       "7784    7 customer reviews  Itís easy to learn parts of JavaScript, but mu...   \n",
       "7785     1 customer review  Kari, the loyal elephant, Kopee, the monkey kn...   \n",
       "7786    5 customer reviews  \"As the founder of The Institutes for the Achi...   \n",
       "7787  296 customer reviews  HBO’s hit series A Game of Thrones is based on...   \n",
       "7788   13 customer reviews  The best-selling phenomenon from Japan that sh...   \n",
       "7789     1 customer review  One of the foremost dramatists of the 19th cen...   \n",
       "7790     1 customer review  This remarkable book traces the Left Front gov...   \n",
       "7791    6 customer reviews  A noted author and the creator of the \"Mutts\" ...   \n",
       "7792    4 customer reviews  We design to elicit responses from people. We ...   \n",
       "7793   13 customer reviews  A 30-day course to write simple, sharp and att...   \n",
       "7794    5 customer reviews  The perennial bestseller-now available as a se...   \n",
       "7795    3 customer reviews  Heinz Guderian - master of the Blitzkrieg and ...   \n",
       "7796    2 customer reviews  Learn Spanish with the most convenient and eff...   \n",
       "\n",
       "                                              Genre  \\\n",
       "0                        Action & Adventure (Books)   \n",
       "1                        Cinema & Broadcast (Books)   \n",
       "2                           International Relations   \n",
       "3                      Contemporary Fiction (Books)   \n",
       "4                             Photography Textbooks   \n",
       "5                 Healthy Living & Wellness (Books)   \n",
       "6                 Crime, Thriller & Mystery (Books)   \n",
       "7                Sports Training & Coaching (Books)   \n",
       "8             Biographies & Autobiographies (Books)   \n",
       "9                        Action & Adventure (Books)   \n",
       "10                                    Asian History   \n",
       "11                                  Banks & Banking   \n",
       "12                       Action & Adventure (Books)   \n",
       "13                                    Asian History   \n",
       "14                       Action & Adventure (Books)   \n",
       "15                          Comics & Mangas (Books)   \n",
       "16       Children's Mysteries & Curiosities (Books)   \n",
       "17                                           Mangas   \n",
       "18            Biographies & Autobiographies (Books)   \n",
       "19                          Artificial Intelligence   \n",
       "20                       Action & Adventure (Books)   \n",
       "21            Biographies & Autobiographies (Books)   \n",
       "22                       Action & Adventure (Books)   \n",
       "23         Software & Business Applications (Books)   \n",
       "24                                           German   \n",
       "25                           International Business   \n",
       "26                                  Cricket (Books)   \n",
       "27                  Comics & Graphic Novels (Books)   \n",
       "28                         PC & Video Games (Books)   \n",
       "29            Biographies & Autobiographies (Books)   \n",
       "...                                             ...   \n",
       "7767                                    Music Books   \n",
       "7768                               Asian Literature   \n",
       "7769                                         Mangas   \n",
       "7770          Biographies & Autobiographies (Books)   \n",
       "7771                            Linguistics (Books)   \n",
       "7772                         Computer Science Books   \n",
       "7773              Crime, Thriller & Mystery (Books)   \n",
       "7774                     Action & Adventure (Books)   \n",
       "7775                           Martial Arts (Books)   \n",
       "7776                             Alphabet Reference   \n",
       "7777                                 Humour (Books)   \n",
       "7778  Handicrafts, Decorative Arts & Crafts (Books)   \n",
       "7779                          True Accounts (Books)   \n",
       "7780          Biographies & Autobiographies (Books)   \n",
       "7781                            Anthologies (Books)   \n",
       "7782                         Computer Science Books   \n",
       "7783                                Romance (Books)   \n",
       "7784     Programming & Software Development (Books)   \n",
       "7785                     Action & Adventure (Books)   \n",
       "7786        Language, Linguistics & Writing (Books)   \n",
       "7787                     Action & Adventure (Books)   \n",
       "7788               Home & House Maintenance (Books)   \n",
       "7789                                  Plays (Books)   \n",
       "7790                             Government (Books)   \n",
       "7791                     Mental & Spiritual Healing   \n",
       "7792                                         Design   \n",
       "7793                   Children's Reference (Books)   \n",
       "7794                                 Humour (Books)   \n",
       "7795                          United States History   \n",
       "7796                                   Dictionaries   \n",
       "\n",
       "                           BookCategory  Ratings_N  Reviews_N   ...     \\\n",
       "0                      action adventure        4.0          8   ...      \n",
       "1          biography diary true account        3.9         14   ...      \n",
       "2                                humour        4.8          6   ...      \n",
       "3                crime thriller mystery        4.1         13   ...      \n",
       "4                  art film photography        5.0          1   ...      \n",
       "5                                 sport        4.5          8   ...      \n",
       "6                crime thriller mystery        4.4         72   ...      \n",
       "7                                 sport        4.7         16   ...      \n",
       "8          biography diary true account        4.2        111   ...      \n",
       "9                      action adventure        4.0          1   ...      \n",
       "10         language linguistics writing        4.9        132   ...      \n",
       "11    computing internet digital medium        3.5         17   ...      \n",
       "12                     action adventure        4.1          4   ...      \n",
       "13                                sport        5.0          3   ...      \n",
       "14                              romance        3.8          5   ...      \n",
       "15                         comic mangas        5.0          2   ...      \n",
       "16               crime thriller mystery        5.0          1   ...      \n",
       "17                         comic mangas        4.9         23   ...      \n",
       "18         biography diary true account        4.5         76   ...      \n",
       "19    computing internet digital medium        4.3          5   ...      \n",
       "20                     action adventure        4.9         10   ...      \n",
       "21                                sport        5.0          2   ...      \n",
       "22                     action adventure        3.1          2   ...      \n",
       "23    computing internet digital medium        3.1         10   ...      \n",
       "24         language linguistics writing        4.8          9   ...      \n",
       "25                             politics        4.0          1   ...      \n",
       "26                                sport        4.3         15   ...      \n",
       "27                         comic mangas        4.3         34   ...      \n",
       "28                                sport        5.0         17   ...      \n",
       "29         biography diary true account        5.0          9   ...      \n",
       "...                                 ...        ...        ...   ...      \n",
       "7767               art film photography        3.0          1   ...      \n",
       "7768               art film photography        5.0          4   ...      \n",
       "7769                       comic mangas        5.0          1   ...      \n",
       "7770       biography diary true account        4.0         36   ...      \n",
       "7771       language linguistics writing        4.0          3   ...      \n",
       "7772  computing internet digital medium        4.1          6   ...      \n",
       "7773             crime thriller mystery        3.5          3   ...      \n",
       "7774                   action adventure        5.0          2   ...      \n",
       "7775                              sport        3.0          2   ...      \n",
       "7776  computing internet digital medium        5.0          1   ...      \n",
       "7777                             humour        5.0          2   ...      \n",
       "7778  computing internet digital medium        3.0          1   ...      \n",
       "7779       language linguistics writing        4.6         16   ...      \n",
       "7780       biography diary true account        3.9         27   ...      \n",
       "7781                       comic mangas        3.8          2   ...      \n",
       "7782  computing internet digital medium        4.2          6   ...      \n",
       "7783                            romance        4.6        172   ...      \n",
       "7784  computing internet digital medium        4.1          7   ...      \n",
       "7785                   action adventure        5.0          1   ...      \n",
       "7786       language linguistics writing        3.3          5   ...      \n",
       "7787                   action adventure        4.5        296   ...      \n",
       "7788                              sport        4.8         13   ...      \n",
       "7789                             humour        5.0          1   ...      \n",
       "7790                           politics        4.0          1   ...      \n",
       "7791                             humour        3.6          6   ...      \n",
       "7792  computing internet digital medium        5.0          4   ...      \n",
       "7793       biography diary true account        3.6         13   ...      \n",
       "7794                             humour        4.0          5   ...      \n",
       "7795       biography diary true account        3.5          3   ...      \n",
       "7796       language linguistics writing        4.5          2   ...      \n",
       "\n",
       "      mangas  medium  mystery  photography  politics  romance  sport  \\\n",
       "0        0.0     0.0      0.0          0.0       0.0      0.0    0.0   \n",
       "1        0.0     0.0      0.0          0.0       0.0      0.0    0.0   \n",
       "2        0.0     0.0      0.0          0.0       0.0      0.0    0.0   \n",
       "3        0.0     0.0      1.0          0.0       0.0      0.0    0.0   \n",
       "4        0.0     0.0      0.0          1.0       0.0      0.0    0.0   \n",
       "5        0.0     0.0      0.0          0.0       0.0      0.0    1.0   \n",
       "6        0.0     0.0      1.0          0.0       0.0      0.0    0.0   \n",
       "7        0.0     0.0      0.0          0.0       0.0      0.0    1.0   \n",
       "8        0.0     0.0      0.0          0.0       0.0      0.0    0.0   \n",
       "9        0.0     0.0      0.0          0.0       0.0      0.0    0.0   \n",
       "10       0.0     0.0      0.0          0.0       0.0      0.0    0.0   \n",
       "11       0.0     1.0      0.0          0.0       0.0      0.0    0.0   \n",
       "12       0.0     0.0      0.0          0.0       0.0      0.0    0.0   \n",
       "13       0.0     0.0      0.0          0.0       0.0      0.0    1.0   \n",
       "14       0.0     0.0      0.0          0.0       0.0      1.0    0.0   \n",
       "15       1.0     0.0      0.0          0.0       0.0      0.0    0.0   \n",
       "16       0.0     0.0      1.0          0.0       0.0      0.0    0.0   \n",
       "17       1.0     0.0      0.0          0.0       0.0      0.0    0.0   \n",
       "18       0.0     0.0      0.0          0.0       0.0      0.0    0.0   \n",
       "19       0.0     1.0      0.0          0.0       0.0      0.0    0.0   \n",
       "20       0.0     0.0      0.0          0.0       0.0      0.0    0.0   \n",
       "21       0.0     0.0      0.0          0.0       0.0      0.0    1.0   \n",
       "22       0.0     0.0      0.0          0.0       0.0      0.0    0.0   \n",
       "23       0.0     1.0      0.0          0.0       0.0      0.0    0.0   \n",
       "24       0.0     0.0      0.0          0.0       0.0      0.0    0.0   \n",
       "25       0.0     0.0      0.0          0.0       1.0      0.0    0.0   \n",
       "26       0.0     0.0      0.0          0.0       0.0      0.0    1.0   \n",
       "27       1.0     0.0      0.0          0.0       0.0      0.0    0.0   \n",
       "28       0.0     0.0      0.0          0.0       0.0      0.0    1.0   \n",
       "29       0.0     0.0      0.0          0.0       0.0      0.0    0.0   \n",
       "...      ...     ...      ...          ...       ...      ...    ...   \n",
       "7767     0.0     0.0      0.0          1.0       0.0      0.0    0.0   \n",
       "7768     0.0     0.0      0.0          1.0       0.0      0.0    0.0   \n",
       "7769     1.0     0.0      0.0          0.0       0.0      0.0    0.0   \n",
       "7770     0.0     0.0      0.0          0.0       0.0      0.0    0.0   \n",
       "7771     0.0     0.0      0.0          0.0       0.0      0.0    0.0   \n",
       "7772     0.0     1.0      0.0          0.0       0.0      0.0    0.0   \n",
       "7773     0.0     0.0      1.0          0.0       0.0      0.0    0.0   \n",
       "7774     0.0     0.0      0.0          0.0       0.0      0.0    0.0   \n",
       "7775     0.0     0.0      0.0          0.0       0.0      0.0    1.0   \n",
       "7776     0.0     1.0      0.0          0.0       0.0      0.0    0.0   \n",
       "7777     0.0     0.0      0.0          0.0       0.0      0.0    0.0   \n",
       "7778     0.0     1.0      0.0          0.0       0.0      0.0    0.0   \n",
       "7779     0.0     0.0      0.0          0.0       0.0      0.0    0.0   \n",
       "7780     0.0     0.0      0.0          0.0       0.0      0.0    0.0   \n",
       "7781     1.0     0.0      0.0          0.0       0.0      0.0    0.0   \n",
       "7782     0.0     1.0      0.0          0.0       0.0      0.0    0.0   \n",
       "7783     0.0     0.0      0.0          0.0       0.0      1.0    0.0   \n",
       "7784     0.0     1.0      0.0          0.0       0.0      0.0    0.0   \n",
       "7785     0.0     0.0      0.0          0.0       0.0      0.0    0.0   \n",
       "7786     0.0     0.0      0.0          0.0       0.0      0.0    0.0   \n",
       "7787     0.0     0.0      0.0          0.0       0.0      0.0    0.0   \n",
       "7788     0.0     0.0      0.0          0.0       0.0      0.0    1.0   \n",
       "7789     0.0     0.0      0.0          0.0       0.0      0.0    0.0   \n",
       "7790     0.0     0.0      0.0          0.0       1.0      0.0    0.0   \n",
       "7791     0.0     0.0      0.0          0.0       0.0      0.0    0.0   \n",
       "7792     0.0     1.0      0.0          0.0       0.0      0.0    0.0   \n",
       "7793     0.0     0.0      0.0          0.0       0.0      0.0    0.0   \n",
       "7794     0.0     0.0      0.0          0.0       0.0      0.0    0.0   \n",
       "7795     0.0     0.0      0.0          0.0       0.0      0.0    0.0   \n",
       "7796     0.0     0.0      0.0          0.0       0.0      0.0    0.0   \n",
       "\n",
       "      thriller  true  writing  \n",
       "0          0.0   0.0      0.0  \n",
       "1          0.0   1.0      0.0  \n",
       "2          0.0   0.0      0.0  \n",
       "3          1.0   0.0      0.0  \n",
       "4          0.0   0.0      0.0  \n",
       "5          0.0   0.0      0.0  \n",
       "6          1.0   0.0      0.0  \n",
       "7          0.0   0.0      0.0  \n",
       "8          0.0   1.0      0.0  \n",
       "9          0.0   0.0      0.0  \n",
       "10         0.0   0.0      1.0  \n",
       "11         0.0   0.0      0.0  \n",
       "12         0.0   0.0      0.0  \n",
       "13         0.0   0.0      0.0  \n",
       "14         0.0   0.0      0.0  \n",
       "15         0.0   0.0      0.0  \n",
       "16         1.0   0.0      0.0  \n",
       "17         0.0   0.0      0.0  \n",
       "18         0.0   1.0      0.0  \n",
       "19         0.0   0.0      0.0  \n",
       "20         0.0   0.0      0.0  \n",
       "21         0.0   0.0      0.0  \n",
       "22         0.0   0.0      0.0  \n",
       "23         0.0   0.0      0.0  \n",
       "24         0.0   0.0      1.0  \n",
       "25         0.0   0.0      0.0  \n",
       "26         0.0   0.0      0.0  \n",
       "27         0.0   0.0      0.0  \n",
       "28         0.0   0.0      0.0  \n",
       "29         0.0   1.0      0.0  \n",
       "...        ...   ...      ...  \n",
       "7767       0.0   0.0      0.0  \n",
       "7768       0.0   0.0      0.0  \n",
       "7769       0.0   0.0      0.0  \n",
       "7770       0.0   1.0      0.0  \n",
       "7771       0.0   0.0      1.0  \n",
       "7772       0.0   0.0      0.0  \n",
       "7773       1.0   0.0      0.0  \n",
       "7774       0.0   0.0      0.0  \n",
       "7775       0.0   0.0      0.0  \n",
       "7776       0.0   0.0      0.0  \n",
       "7777       0.0   0.0      0.0  \n",
       "7778       0.0   0.0      0.0  \n",
       "7779       0.0   0.0      1.0  \n",
       "7780       0.0   1.0      0.0  \n",
       "7781       0.0   0.0      0.0  \n",
       "7782       0.0   0.0      0.0  \n",
       "7783       0.0   0.0      0.0  \n",
       "7784       0.0   0.0      0.0  \n",
       "7785       0.0   0.0      0.0  \n",
       "7786       0.0   0.0      1.0  \n",
       "7787       0.0   0.0      0.0  \n",
       "7788       0.0   0.0      0.0  \n",
       "7789       0.0   0.0      0.0  \n",
       "7790       0.0   0.0      0.0  \n",
       "7791       0.0   0.0      0.0  \n",
       "7792       0.0   0.0      0.0  \n",
       "7793       0.0   1.0      0.0  \n",
       "7794       0.0   0.0      0.0  \n",
       "7795       0.0   1.0      0.0  \n",
       "7796       0.0   0.0      1.0  \n",
       "\n",
       "[7797 rows x 35 columns]"
      ]
     },
     "execution_count": 116,
     "metadata": {},
     "output_type": "execute_result"
    }
   ],
   "source": [
    "combined_set"
   ]
  },
  {
   "cell_type": "code",
   "execution_count": 117,
   "metadata": {
    "colab": {},
    "colab_type": "code",
    "id": "4m785xRv2Jf4",
    "outputId": "18cdca9f-7884-44ac-f29e-ae04150d3402"
   },
   "outputs": [],
   "source": [
    "combined_set = combined_set.drop(['Title','Author','Edition','Reviews','Ratings','Synopsis','Genre','BookCategory'],axis=1)"
   ]
  },
  {
   "cell_type": "code",
   "execution_count": 118,
   "metadata": {
    "scrolled": true
   },
   "outputs": [
    {
     "data": {
      "text/html": [
       "<div>\n",
       "<style scoped>\n",
       "    .dataframe tbody tr th:only-of-type {\n",
       "        vertical-align: middle;\n",
       "    }\n",
       "\n",
       "    .dataframe tbody tr th {\n",
       "        vertical-align: top;\n",
       "    }\n",
       "\n",
       "    .dataframe thead th {\n",
       "        text-align: right;\n",
       "    }\n",
       "</style>\n",
       "<table border=\"1\" class=\"dataframe\">\n",
       "  <thead>\n",
       "    <tr style=\"text-align: right;\">\n",
       "      <th></th>\n",
       "      <th>Ratings_N</th>\n",
       "      <th>Reviews_N</th>\n",
       "      <th>account</th>\n",
       "      <th>action</th>\n",
       "      <th>adventure</th>\n",
       "      <th>art</th>\n",
       "      <th>biography</th>\n",
       "      <th>comic</th>\n",
       "      <th>computing</th>\n",
       "      <th>crime</th>\n",
       "      <th>...</th>\n",
       "      <th>mangas</th>\n",
       "      <th>medium</th>\n",
       "      <th>mystery</th>\n",
       "      <th>photography</th>\n",
       "      <th>politics</th>\n",
       "      <th>romance</th>\n",
       "      <th>sport</th>\n",
       "      <th>thriller</th>\n",
       "      <th>true</th>\n",
       "      <th>writing</th>\n",
       "    </tr>\n",
       "  </thead>\n",
       "  <tbody>\n",
       "    <tr>\n",
       "      <th>0</th>\n",
       "      <td>4.0</td>\n",
       "      <td>8</td>\n",
       "      <td>0.0</td>\n",
       "      <td>1.0</td>\n",
       "      <td>1.0</td>\n",
       "      <td>0.0</td>\n",
       "      <td>0.0</td>\n",
       "      <td>0.0</td>\n",
       "      <td>0.0</td>\n",
       "      <td>0.0</td>\n",
       "      <td>...</td>\n",
       "      <td>0.0</td>\n",
       "      <td>0.0</td>\n",
       "      <td>0.0</td>\n",
       "      <td>0.0</td>\n",
       "      <td>0.0</td>\n",
       "      <td>0.0</td>\n",
       "      <td>0.0</td>\n",
       "      <td>0.0</td>\n",
       "      <td>0.0</td>\n",
       "      <td>0.0</td>\n",
       "    </tr>\n",
       "    <tr>\n",
       "      <th>1</th>\n",
       "      <td>3.9</td>\n",
       "      <td>14</td>\n",
       "      <td>1.0</td>\n",
       "      <td>0.0</td>\n",
       "      <td>0.0</td>\n",
       "      <td>0.0</td>\n",
       "      <td>1.0</td>\n",
       "      <td>0.0</td>\n",
       "      <td>0.0</td>\n",
       "      <td>0.0</td>\n",
       "      <td>...</td>\n",
       "      <td>0.0</td>\n",
       "      <td>0.0</td>\n",
       "      <td>0.0</td>\n",
       "      <td>0.0</td>\n",
       "      <td>0.0</td>\n",
       "      <td>0.0</td>\n",
       "      <td>0.0</td>\n",
       "      <td>0.0</td>\n",
       "      <td>1.0</td>\n",
       "      <td>0.0</td>\n",
       "    </tr>\n",
       "    <tr>\n",
       "      <th>2</th>\n",
       "      <td>4.8</td>\n",
       "      <td>6</td>\n",
       "      <td>0.0</td>\n",
       "      <td>0.0</td>\n",
       "      <td>0.0</td>\n",
       "      <td>0.0</td>\n",
       "      <td>0.0</td>\n",
       "      <td>0.0</td>\n",
       "      <td>0.0</td>\n",
       "      <td>0.0</td>\n",
       "      <td>...</td>\n",
       "      <td>0.0</td>\n",
       "      <td>0.0</td>\n",
       "      <td>0.0</td>\n",
       "      <td>0.0</td>\n",
       "      <td>0.0</td>\n",
       "      <td>0.0</td>\n",
       "      <td>0.0</td>\n",
       "      <td>0.0</td>\n",
       "      <td>0.0</td>\n",
       "      <td>0.0</td>\n",
       "    </tr>\n",
       "    <tr>\n",
       "      <th>3</th>\n",
       "      <td>4.1</td>\n",
       "      <td>13</td>\n",
       "      <td>0.0</td>\n",
       "      <td>0.0</td>\n",
       "      <td>0.0</td>\n",
       "      <td>0.0</td>\n",
       "      <td>0.0</td>\n",
       "      <td>0.0</td>\n",
       "      <td>0.0</td>\n",
       "      <td>1.0</td>\n",
       "      <td>...</td>\n",
       "      <td>0.0</td>\n",
       "      <td>0.0</td>\n",
       "      <td>1.0</td>\n",
       "      <td>0.0</td>\n",
       "      <td>0.0</td>\n",
       "      <td>0.0</td>\n",
       "      <td>0.0</td>\n",
       "      <td>1.0</td>\n",
       "      <td>0.0</td>\n",
       "      <td>0.0</td>\n",
       "    </tr>\n",
       "    <tr>\n",
       "      <th>4</th>\n",
       "      <td>5.0</td>\n",
       "      <td>1</td>\n",
       "      <td>0.0</td>\n",
       "      <td>0.0</td>\n",
       "      <td>0.0</td>\n",
       "      <td>1.0</td>\n",
       "      <td>0.0</td>\n",
       "      <td>0.0</td>\n",
       "      <td>0.0</td>\n",
       "      <td>0.0</td>\n",
       "      <td>...</td>\n",
       "      <td>0.0</td>\n",
       "      <td>0.0</td>\n",
       "      <td>0.0</td>\n",
       "      <td>1.0</td>\n",
       "      <td>0.0</td>\n",
       "      <td>0.0</td>\n",
       "      <td>0.0</td>\n",
       "      <td>0.0</td>\n",
       "      <td>0.0</td>\n",
       "      <td>0.0</td>\n",
       "    </tr>\n",
       "  </tbody>\n",
       "</table>\n",
       "<p>5 rows × 27 columns</p>\n",
       "</div>"
      ],
      "text/plain": [
       "   Ratings_N  Reviews_N  account  action  adventure  art  biography  comic  \\\n",
       "0        4.0          8      0.0     1.0        1.0  0.0        0.0    0.0   \n",
       "1        3.9         14      1.0     0.0        0.0  0.0        1.0    0.0   \n",
       "2        4.8          6      0.0     0.0        0.0  0.0        0.0    0.0   \n",
       "3        4.1         13      0.0     0.0        0.0  0.0        0.0    0.0   \n",
       "4        5.0          1      0.0     0.0        0.0  1.0        0.0    0.0   \n",
       "\n",
       "   computing  crime   ...     mangas  medium  mystery  photography  politics  \\\n",
       "0        0.0    0.0   ...        0.0     0.0      0.0          0.0       0.0   \n",
       "1        0.0    0.0   ...        0.0     0.0      0.0          0.0       0.0   \n",
       "2        0.0    0.0   ...        0.0     0.0      0.0          0.0       0.0   \n",
       "3        0.0    1.0   ...        0.0     0.0      1.0          0.0       0.0   \n",
       "4        0.0    0.0   ...        0.0     0.0      0.0          1.0       0.0   \n",
       "\n",
       "   romance  sport  thriller  true  writing  \n",
       "0      0.0    0.0       0.0   0.0      0.0  \n",
       "1      0.0    0.0       0.0   1.0      0.0  \n",
       "2      0.0    0.0       0.0   0.0      0.0  \n",
       "3      0.0    0.0       1.0   0.0      0.0  \n",
       "4      0.0    0.0       0.0   0.0      0.0  \n",
       "\n",
       "[5 rows x 27 columns]"
      ]
     },
     "execution_count": 118,
     "metadata": {},
     "output_type": "execute_result"
    }
   ],
   "source": [
    "combined_set.head()"
   ]
  },
  {
   "cell_type": "markdown",
   "metadata": {
    "colab_type": "text",
    "id": "gYToxz3a2Jf4"
   },
   "source": [
    "### Feature selection for removing collnearity   <a id='pcalr'>"
   ]
  },
  {
   "cell_type": "markdown",
   "metadata": {
    "colab_type": "text",
    "id": "gYToxz3a2Jf4"
   },
   "source": [
    "### Scaling dataset   <a id='pcalr'>"
   ]
  },
  {
   "cell_type": "code",
   "execution_count": 119,
   "metadata": {
    "colab": {},
    "colab_type": "code",
    "id": "4m785xRv2Jf4",
    "outputId": "18cdca9f-7884-44ac-f29e-ae04150d3402"
   },
   "outputs": [],
   "source": [
    "df_train = combined_set[:train_nomissing.shape[0]] # Up to the last initial training set row\n",
    "df_test = combined_set[train_nomissing.shape[0]:] # Past the last initial training set row"
   ]
  },
  {
   "cell_type": "code",
   "execution_count": 120,
   "metadata": {
    "colab": {},
    "colab_type": "code",
    "id": "4m785xRv2Jf4",
    "outputId": "18cdca9f-7884-44ac-f29e-ae04150d3402"
   },
   "outputs": [
    {
     "name": "stderr",
     "output_type": "stream",
     "text": [
      "C:\\Users\\Richa Tripathi\\Anaconda3\\lib\\site-packages\\sklearn\\preprocessing\\data.py:625: DataConversionWarning: Data with input dtype int32, float64 were all converted to float64 by StandardScaler.\n",
      "  return self.partial_fit(X, y)\n",
      "C:\\Users\\Richa Tripathi\\Anaconda3\\lib\\site-packages\\sklearn\\base.py:462: DataConversionWarning: Data with input dtype int32, float64 were all converted to float64 by StandardScaler.\n",
      "  return self.fit(X, **fit_params).transform(X)\n",
      "C:\\Users\\Richa Tripathi\\Anaconda3\\lib\\site-packages\\ipykernel_launcher.py:5: DataConversionWarning: Data with input dtype int32, float64 were all converted to float64 by StandardScaler.\n",
      "  \"\"\"\n"
     ]
    }
   ],
   "source": [
    "from sklearn.preprocessing import StandardScaler\n",
    "sc = StandardScaler()\n",
    "df_train_arr_scld = sc.fit_transform(df_train)\n",
    "df_train_scld=pd.DataFrame(df_train_arr_scld,columns=df_train.columns)\n",
    "df_test_arr_scld = sc.transform(df_test)\n",
    "df_test_scld=pd.DataFrame(df_test_arr_scld,columns=df_test.columns)"
   ]
  },
  {
   "cell_type": "code",
   "execution_count": 121,
   "metadata": {
    "colab": {},
    "colab_type": "code",
    "id": "4m785xRv2Jf4",
    "outputId": "18cdca9f-7884-44ac-f29e-ae04150d3402"
   },
   "outputs": [],
   "source": [
    "# Spitting the data into Test and Train from combined_set_scld\n",
    "\n",
    "train = df_train_scld # Up to the last initial training set row\n",
    "test = df_test_scld # Past the last initial training set row\n",
    "labels = y_train\n"
   ]
  },
  {
   "cell_type": "code",
   "execution_count": 122,
   "metadata": {
    "colab": {},
    "colab_type": "code",
    "id": "4m785xRv2Jf4",
    "outputId": "18cdca9f-7884-44ac-f29e-ae04150d3402",
    "scrolled": true
   },
   "outputs": [
    {
     "data": {
      "text/plain": [
       "(6237, 27)"
      ]
     },
     "execution_count": 122,
     "metadata": {},
     "output_type": "execute_result"
    }
   ],
   "source": [
    "train.shape"
   ]
  },
  {
   "cell_type": "code",
   "execution_count": 123,
   "metadata": {
    "colab": {},
    "colab_type": "code",
    "id": "4m785xRv2Jf4",
    "outputId": "18cdca9f-7884-44ac-f29e-ae04150d3402"
   },
   "outputs": [
    {
     "data": {
      "text/plain": [
       "(1560, 27)"
      ]
     },
     "execution_count": 123,
     "metadata": {},
     "output_type": "execute_result"
    }
   ],
   "source": [
    "test.shape"
   ]
  },
  {
   "cell_type": "code",
   "execution_count": 124,
   "metadata": {
    "colab": {},
    "colab_type": "code",
    "id": "4m785xRv2Jf4",
    "outputId": "18cdca9f-7884-44ac-f29e-ae04150d3402"
   },
   "outputs": [],
   "source": [
    "# Keep one set of train data for further use\n",
    "train1=train.copy()\n",
    "test1=test.copy()\n",
    "y_train1=y_train.copy()"
   ]
  },
  {
   "cell_type": "code",
   "execution_count": 125,
   "metadata": {
    "colab": {},
    "colab_type": "code",
    "id": "4m785xRv2Jf4",
    "outputId": "18cdca9f-7884-44ac-f29e-ae04150d3402"
   },
   "outputs": [],
   "source": [
    "#train=train1\n",
    "#test=test1\n",
    "#y_train=y_train1"
   ]
  },
  {
   "cell_type": "markdown",
   "metadata": {},
   "source": [
    "### Let's start building models"
   ]
  },
  {
   "cell_type": "code",
   "execution_count": 127,
   "metadata": {},
   "outputs": [],
   "source": [
    "from sklearn.linear_model import ElasticNet, Lasso,  BayesianRidge, LassoLarsIC\n",
    "from sklearn.ensemble import RandomForestRegressor,  GradientBoostingRegressor\n",
    "from sklearn.kernel_ridge import KernelRidge\n",
    "from sklearn.pipeline import make_pipeline\n",
    "from sklearn.preprocessing import RobustScaler\n",
    "from sklearn.base import BaseEstimator, TransformerMixin, RegressorMixin, clone\n",
    "from sklearn.model_selection import KFold, cross_val_score, train_test_split\n",
    "from sklearn.metrics import mean_squared_error\n",
    "import xgboost as xgb\n"
   ]
  },
  {
   "cell_type": "markdown",
   "metadata": {
    "scrolled": false
   },
   "source": [
    "# Define a cross validation strategy"
   ]
  },
  {
   "cell_type": "code",
   "execution_count": 128,
   "metadata": {},
   "outputs": [],
   "source": [
    "#Validation function\n",
    "n_folds = 5\n",
    "\n",
    "def rmsle_cv(model):\n",
    "    kf = KFold(n_folds, shuffle=True, random_state=42).get_n_splits(train.values)\n",
    "    rmse= np.sqrt(-cross_val_score(model, train.values, y_train, scoring=\"neg_mean_squared_error\", cv = kf))\n",
    "    return(rmse)"
   ]
  },
  {
   "cell_type": "code",
   "execution_count": 129,
   "metadata": {},
   "outputs": [],
   "source": [
    "def rmsle(y, y_pred):\n",
    "    return np.sqrt(mean_squared_error(y, y_pred))"
   ]
  },
  {
   "cell_type": "markdown",
   "metadata": {
    "scrolled": false
   },
   "source": [
    "# Base models\n",
    "LASSO Regression :\n",
    "This model may be very sensitive to outliers. So we need to made it more robust on them. For that we use the sklearn's Robustscaler() method on pipeline"
   ]
  },
  {
   "cell_type": "markdown",
   "metadata": {
    "scrolled": false
   },
   "source": [
    "# LASSO Regression  :"
   ]
  },
  {
   "cell_type": "code",
   "execution_count": 130,
   "metadata": {},
   "outputs": [],
   "source": [
    "lasso = make_pipeline(RobustScaler(), Lasso(alpha =0.05, random_state=1))"
   ]
  },
  {
   "cell_type": "code",
   "execution_count": 131,
   "metadata": {
    "scrolled": true
   },
   "outputs": [
    {
     "name": "stderr",
     "output_type": "stream",
     "text": [
      "C:\\Users\\Richa Tripathi\\Anaconda3\\lib\\site-packages\\sklearn\\linear_model\\coordinate_descent.py:492: ConvergenceWarning: Objective did not converge. You might want to increase the number of iterations. Fitting data with very small alpha may cause precision problems.\n",
      "  ConvergenceWarning)\n"
     ]
    },
    {
     "name": "stdout",
     "output_type": "stream",
     "text": [
      "\n",
      "Lasso score: 654.9897 (31.7574)\n",
      "\n"
     ]
    }
   ],
   "source": [
    "score = rmsle_cv(lasso)\n",
    "print(\"\\nLasso score: {:.4f} ({:.4f})\\n\".format(score.mean(), score.std()))"
   ]
  },
  {
   "cell_type": "markdown",
   "metadata": {
    "scrolled": false
   },
   "source": [
    "# Elastic Net Regression :"
   ]
  },
  {
   "cell_type": "code",
   "execution_count": 132,
   "metadata": {},
   "outputs": [],
   "source": [
    "ENet = make_pipeline(RobustScaler(), ElasticNet(alpha=0.05, l1_ratio=.9, random_state=3))"
   ]
  },
  {
   "cell_type": "code",
   "execution_count": 133,
   "metadata": {},
   "outputs": [
    {
     "name": "stderr",
     "output_type": "stream",
     "text": [
      "C:\\Users\\Richa Tripathi\\Anaconda3\\lib\\site-packages\\sklearn\\linear_model\\coordinate_descent.py:492: ConvergenceWarning: Objective did not converge. You might want to increase the number of iterations. Fitting data with very small alpha may cause precision problems.\n",
      "  ConvergenceWarning)\n",
      "C:\\Users\\Richa Tripathi\\Anaconda3\\lib\\site-packages\\sklearn\\linear_model\\coordinate_descent.py:492: ConvergenceWarning: Objective did not converge. You might want to increase the number of iterations. Fitting data with very small alpha may cause precision problems.\n",
      "  ConvergenceWarning)\n",
      "C:\\Users\\Richa Tripathi\\Anaconda3\\lib\\site-packages\\sklearn\\linear_model\\coordinate_descent.py:492: ConvergenceWarning: Objective did not converge. You might want to increase the number of iterations. Fitting data with very small alpha may cause precision problems.\n",
      "  ConvergenceWarning)\n",
      "C:\\Users\\Richa Tripathi\\Anaconda3\\lib\\site-packages\\sklearn\\linear_model\\coordinate_descent.py:492: ConvergenceWarning: Objective did not converge. You might want to increase the number of iterations. Fitting data with very small alpha may cause precision problems.\n",
      "  ConvergenceWarning)\n"
     ]
    },
    {
     "name": "stdout",
     "output_type": "stream",
     "text": [
      "ElasticNet score: 654.9868 (31.7640)\n",
      "\n"
     ]
    },
    {
     "name": "stderr",
     "output_type": "stream",
     "text": [
      "C:\\Users\\Richa Tripathi\\Anaconda3\\lib\\site-packages\\sklearn\\linear_model\\coordinate_descent.py:492: ConvergenceWarning: Objective did not converge. You might want to increase the number of iterations. Fitting data with very small alpha may cause precision problems.\n",
      "  ConvergenceWarning)\n"
     ]
    }
   ],
   "source": [
    "score = rmsle_cv(ENet)\n",
    "print(\"ElasticNet score: {:.4f} ({:.4f})\\n\".format(score.mean(), score.std()))"
   ]
  },
  {
   "cell_type": "markdown",
   "metadata": {
    "scrolled": false
   },
   "source": [
    "# Kernel Ridge Regression :"
   ]
  },
  {
   "cell_type": "code",
   "execution_count": 141,
   "metadata": {},
   "outputs": [],
   "source": [
    "KRR = KernelRidge(alpha=0.6, kernel='polynomial', degree=2, coef0=2.5)"
   ]
  },
  {
   "cell_type": "code",
   "execution_count": 142,
   "metadata": {
    "scrolled": true
   },
   "outputs": [
    {
     "name": "stdout",
     "output_type": "stream",
     "text": [
      "Kernel Ridge score: 653.9672 (31.9418)\n",
      "\n"
     ]
    }
   ],
   "source": [
    "score = rmsle_cv(KRR)\n",
    "print(\"Kernel Ridge score: {:.4f} ({:.4f})\\n\".format(score.mean(), score.std()))"
   ]
  },
  {
   "cell_type": "code",
   "execution_count": 143,
   "metadata": {},
   "outputs": [
    {
     "name": "stdout",
     "output_type": "stream",
     "text": [
      "648.6271154261277\n"
     ]
    }
   ],
   "source": [
    "KRR.fit(train, y_train)\n",
    "KRR_train_pred = KRR.predict(train)\n",
    "KRR_pred = np.round(KRR.predict(test))\n",
    "print(rmsle(y_train, KRR_train_pred))"
   ]
  },
  {
   "cell_type": "code",
   "execution_count": 145,
   "metadata": {
    "colab": {},
    "colab_type": "code",
    "id": "WCs9o0xt3Zfi",
    "scrolled": true
   },
   "outputs": [
    {
     "data": {
      "text/html": [
       "<div>\n",
       "<style scoped>\n",
       "    .dataframe tbody tr th:only-of-type {\n",
       "        vertical-align: middle;\n",
       "    }\n",
       "\n",
       "    .dataframe tbody tr th {\n",
       "        vertical-align: top;\n",
       "    }\n",
       "\n",
       "    .dataframe thead th {\n",
       "        text-align: right;\n",
       "    }\n",
       "</style>\n",
       "<table border=\"1\" class=\"dataframe\">\n",
       "  <thead>\n",
       "    <tr style=\"text-align: right;\">\n",
       "      <th></th>\n",
       "      <th>0</th>\n",
       "    </tr>\n",
       "  </thead>\n",
       "  <tbody>\n",
       "    <tr>\n",
       "      <th>0</th>\n",
       "      <td>288.0</td>\n",
       "    </tr>\n",
       "    <tr>\n",
       "      <th>1</th>\n",
       "      <td>1184.0</td>\n",
       "    </tr>\n",
       "    <tr>\n",
       "      <th>2</th>\n",
       "      <td>502.0</td>\n",
       "    </tr>\n",
       "    <tr>\n",
       "      <th>3</th>\n",
       "      <td>920.0</td>\n",
       "    </tr>\n",
       "    <tr>\n",
       "      <th>4</th>\n",
       "      <td>484.0</td>\n",
       "    </tr>\n",
       "    <tr>\n",
       "      <th>5</th>\n",
       "      <td>989.0</td>\n",
       "    </tr>\n",
       "    <tr>\n",
       "      <th>6</th>\n",
       "      <td>1184.0</td>\n",
       "    </tr>\n",
       "    <tr>\n",
       "      <th>7</th>\n",
       "      <td>316.0</td>\n",
       "    </tr>\n",
       "    <tr>\n",
       "      <th>8</th>\n",
       "      <td>255.0</td>\n",
       "    </tr>\n",
       "    <tr>\n",
       "      <th>9</th>\n",
       "      <td>408.0</td>\n",
       "    </tr>\n",
       "    <tr>\n",
       "      <th>10</th>\n",
       "      <td>267.0</td>\n",
       "    </tr>\n",
       "    <tr>\n",
       "      <th>11</th>\n",
       "      <td>503.0</td>\n",
       "    </tr>\n",
       "    <tr>\n",
       "      <th>12</th>\n",
       "      <td>374.0</td>\n",
       "    </tr>\n",
       "    <tr>\n",
       "      <th>13</th>\n",
       "      <td>746.0</td>\n",
       "    </tr>\n",
       "    <tr>\n",
       "      <th>14</th>\n",
       "      <td>660.0</td>\n",
       "    </tr>\n",
       "    <tr>\n",
       "      <th>15</th>\n",
       "      <td>980.0</td>\n",
       "    </tr>\n",
       "    <tr>\n",
       "      <th>16</th>\n",
       "      <td>282.0</td>\n",
       "    </tr>\n",
       "    <tr>\n",
       "      <th>17</th>\n",
       "      <td>991.0</td>\n",
       "    </tr>\n",
       "    <tr>\n",
       "      <th>18</th>\n",
       "      <td>543.0</td>\n",
       "    </tr>\n",
       "    <tr>\n",
       "      <th>19</th>\n",
       "      <td>417.0</td>\n",
       "    </tr>\n",
       "    <tr>\n",
       "      <th>20</th>\n",
       "      <td>440.0</td>\n",
       "    </tr>\n",
       "    <tr>\n",
       "      <th>21</th>\n",
       "      <td>505.0</td>\n",
       "    </tr>\n",
       "    <tr>\n",
       "      <th>22</th>\n",
       "      <td>545.0</td>\n",
       "    </tr>\n",
       "    <tr>\n",
       "      <th>23</th>\n",
       "      <td>731.0</td>\n",
       "    </tr>\n",
       "    <tr>\n",
       "      <th>24</th>\n",
       "      <td>647.0</td>\n",
       "    </tr>\n",
       "    <tr>\n",
       "      <th>25</th>\n",
       "      <td>509.0</td>\n",
       "    </tr>\n",
       "    <tr>\n",
       "      <th>26</th>\n",
       "      <td>753.0</td>\n",
       "    </tr>\n",
       "    <tr>\n",
       "      <th>27</th>\n",
       "      <td>460.0</td>\n",
       "    </tr>\n",
       "    <tr>\n",
       "      <th>28</th>\n",
       "      <td>497.0</td>\n",
       "    </tr>\n",
       "    <tr>\n",
       "      <th>29</th>\n",
       "      <td>613.0</td>\n",
       "    </tr>\n",
       "    <tr>\n",
       "      <th>...</th>\n",
       "      <td>...</td>\n",
       "    </tr>\n",
       "    <tr>\n",
       "      <th>1530</th>\n",
       "      <td>665.0</td>\n",
       "    </tr>\n",
       "    <tr>\n",
       "      <th>1531</th>\n",
       "      <td>984.0</td>\n",
       "    </tr>\n",
       "    <tr>\n",
       "      <th>1532</th>\n",
       "      <td>907.0</td>\n",
       "    </tr>\n",
       "    <tr>\n",
       "      <th>1533</th>\n",
       "      <td>319.0</td>\n",
       "    </tr>\n",
       "    <tr>\n",
       "      <th>1534</th>\n",
       "      <td>416.0</td>\n",
       "    </tr>\n",
       "    <tr>\n",
       "      <th>1535</th>\n",
       "      <td>933.0</td>\n",
       "    </tr>\n",
       "    <tr>\n",
       "      <th>1536</th>\n",
       "      <td>280.0</td>\n",
       "    </tr>\n",
       "    <tr>\n",
       "      <th>1537</th>\n",
       "      <td>525.0</td>\n",
       "    </tr>\n",
       "    <tr>\n",
       "      <th>1538</th>\n",
       "      <td>660.0</td>\n",
       "    </tr>\n",
       "    <tr>\n",
       "      <th>1539</th>\n",
       "      <td>1184.0</td>\n",
       "    </tr>\n",
       "    <tr>\n",
       "      <th>1540</th>\n",
       "      <td>745.0</td>\n",
       "    </tr>\n",
       "    <tr>\n",
       "      <th>1541</th>\n",
       "      <td>797.0</td>\n",
       "    </tr>\n",
       "    <tr>\n",
       "      <th>1542</th>\n",
       "      <td>523.0</td>\n",
       "    </tr>\n",
       "    <tr>\n",
       "      <th>1543</th>\n",
       "      <td>318.0</td>\n",
       "    </tr>\n",
       "    <tr>\n",
       "      <th>1544</th>\n",
       "      <td>585.0</td>\n",
       "    </tr>\n",
       "    <tr>\n",
       "      <th>1545</th>\n",
       "      <td>955.0</td>\n",
       "    </tr>\n",
       "    <tr>\n",
       "      <th>1546</th>\n",
       "      <td>353.0</td>\n",
       "    </tr>\n",
       "    <tr>\n",
       "      <th>1547</th>\n",
       "      <td>931.0</td>\n",
       "    </tr>\n",
       "    <tr>\n",
       "      <th>1548</th>\n",
       "      <td>525.0</td>\n",
       "    </tr>\n",
       "    <tr>\n",
       "      <th>1549</th>\n",
       "      <td>338.0</td>\n",
       "    </tr>\n",
       "    <tr>\n",
       "      <th>1550</th>\n",
       "      <td>402.0</td>\n",
       "    </tr>\n",
       "    <tr>\n",
       "      <th>1551</th>\n",
       "      <td>772.0</td>\n",
       "    </tr>\n",
       "    <tr>\n",
       "      <th>1552</th>\n",
       "      <td>746.0</td>\n",
       "    </tr>\n",
       "    <tr>\n",
       "      <th>1553</th>\n",
       "      <td>501.0</td>\n",
       "    </tr>\n",
       "    <tr>\n",
       "      <th>1554</th>\n",
       "      <td>548.0</td>\n",
       "    </tr>\n",
       "    <tr>\n",
       "      <th>1555</th>\n",
       "      <td>1176.0</td>\n",
       "    </tr>\n",
       "    <tr>\n",
       "      <th>1556</th>\n",
       "      <td>318.0</td>\n",
       "    </tr>\n",
       "    <tr>\n",
       "      <th>1557</th>\n",
       "      <td>579.0</td>\n",
       "    </tr>\n",
       "    <tr>\n",
       "      <th>1558</th>\n",
       "      <td>323.0</td>\n",
       "    </tr>\n",
       "    <tr>\n",
       "      <th>1559</th>\n",
       "      <td>509.0</td>\n",
       "    </tr>\n",
       "  </tbody>\n",
       "</table>\n",
       "<p>1560 rows × 1 columns</p>\n",
       "</div>"
      ],
      "text/plain": [
       "           0\n",
       "0      288.0\n",
       "1     1184.0\n",
       "2      502.0\n",
       "3      920.0\n",
       "4      484.0\n",
       "5      989.0\n",
       "6     1184.0\n",
       "7      316.0\n",
       "8      255.0\n",
       "9      408.0\n",
       "10     267.0\n",
       "11     503.0\n",
       "12     374.0\n",
       "13     746.0\n",
       "14     660.0\n",
       "15     980.0\n",
       "16     282.0\n",
       "17     991.0\n",
       "18     543.0\n",
       "19     417.0\n",
       "20     440.0\n",
       "21     505.0\n",
       "22     545.0\n",
       "23     731.0\n",
       "24     647.0\n",
       "25     509.0\n",
       "26     753.0\n",
       "27     460.0\n",
       "28     497.0\n",
       "29     613.0\n",
       "...      ...\n",
       "1530   665.0\n",
       "1531   984.0\n",
       "1532   907.0\n",
       "1533   319.0\n",
       "1534   416.0\n",
       "1535   933.0\n",
       "1536   280.0\n",
       "1537   525.0\n",
       "1538   660.0\n",
       "1539  1184.0\n",
       "1540   745.0\n",
       "1541   797.0\n",
       "1542   523.0\n",
       "1543   318.0\n",
       "1544   585.0\n",
       "1545   955.0\n",
       "1546   353.0\n",
       "1547   931.0\n",
       "1548   525.0\n",
       "1549   338.0\n",
       "1550   402.0\n",
       "1551   772.0\n",
       "1552   746.0\n",
       "1553   501.0\n",
       "1554   548.0\n",
       "1555  1176.0\n",
       "1556   318.0\n",
       "1557   579.0\n",
       "1558   323.0\n",
       "1559   509.0\n",
       "\n",
       "[1560 rows x 1 columns]"
      ]
     },
     "execution_count": 145,
     "metadata": {},
     "output_type": "execute_result"
    }
   ],
   "source": [
    "fee_pred_KRR = pd.DataFrame(KRR_pred)\n",
    "fee_pred_KRR"
   ]
  },
  {
   "cell_type": "code",
   "execution_count": 140,
   "metadata": {
    "colab": {},
    "colab_type": "code",
    "id": "WCs9o0xt3Zfi"
   },
   "outputs": [
    {
     "ename": "KeyError",
     "evalue": "'Price'",
     "output_type": "error",
     "traceback": [
      "\u001b[1;31m---------------------------------------------------------------------------\u001b[0m",
      "\u001b[1;31mKeyError\u001b[0m                                  Traceback (most recent call last)",
      "\u001b[1;32m~\\Anaconda3\\lib\\site-packages\\pandas\\core\\indexes\\base.py\u001b[0m in \u001b[0;36mget_loc\u001b[1;34m(self, key, method, tolerance)\u001b[0m\n\u001b[0;32m   3077\u001b[0m             \u001b[1;32mtry\u001b[0m\u001b[1;33m:\u001b[0m\u001b[1;33m\u001b[0m\u001b[1;33m\u001b[0m\u001b[0m\n\u001b[1;32m-> 3078\u001b[1;33m                 \u001b[1;32mreturn\u001b[0m \u001b[0mself\u001b[0m\u001b[1;33m.\u001b[0m\u001b[0m_engine\u001b[0m\u001b[1;33m.\u001b[0m\u001b[0mget_loc\u001b[0m\u001b[1;33m(\u001b[0m\u001b[0mkey\u001b[0m\u001b[1;33m)\u001b[0m\u001b[1;33m\u001b[0m\u001b[1;33m\u001b[0m\u001b[0m\n\u001b[0m\u001b[0;32m   3079\u001b[0m             \u001b[1;32mexcept\u001b[0m \u001b[0mKeyError\u001b[0m\u001b[1;33m:\u001b[0m\u001b[1;33m\u001b[0m\u001b[1;33m\u001b[0m\u001b[0m\n",
      "\u001b[1;32mpandas\\_libs\\index.pyx\u001b[0m in \u001b[0;36mpandas._libs.index.IndexEngine.get_loc\u001b[1;34m()\u001b[0m\n",
      "\u001b[1;32mpandas\\_libs\\index.pyx\u001b[0m in \u001b[0;36mpandas._libs.index.IndexEngine.get_loc\u001b[1;34m()\u001b[0m\n",
      "\u001b[1;32mpandas\\_libs\\hashtable_class_helper.pxi\u001b[0m in \u001b[0;36mpandas._libs.hashtable.PyObjectHashTable.get_item\u001b[1;34m()\u001b[0m\n",
      "\u001b[1;32mpandas\\_libs\\hashtable_class_helper.pxi\u001b[0m in \u001b[0;36mpandas._libs.hashtable.PyObjectHashTable.get_item\u001b[1;34m()\u001b[0m\n",
      "\u001b[1;31mKeyError\u001b[0m: 'Price'",
      "\nDuring handling of the above exception, another exception occurred:\n",
      "\u001b[1;31mKeyError\u001b[0m                                  Traceback (most recent call last)",
      "\u001b[1;32m<ipython-input-140-27d212eec09f>\u001b[0m in \u001b[0;36m<module>\u001b[1;34m\u001b[0m\n\u001b[0;32m      1\u001b[0m \u001b[1;31m#spliting misc for fees\u001b[0m\u001b[1;33m\u001b[0m\u001b[1;33m\u001b[0m\u001b[1;33m\u001b[0m\u001b[0m\n\u001b[1;32m----> 2\u001b[1;33m \u001b[0mi\u001b[0m\u001b[1;33m=\u001b[0m\u001b[0mdst_input\u001b[0m\u001b[1;33m[\u001b[0m\u001b[0mdst_input\u001b[0m\u001b[1;33m[\u001b[0m\u001b[1;34m\"Price\"\u001b[0m\u001b[1;33m]\u001b[0m\u001b[1;33m>\u001b[0m\u001b[1;36m0\u001b[0m\u001b[1;33m]\u001b[0m\u001b[1;33m.\u001b[0m\u001b[0mindex\u001b[0m\u001b[1;33m.\u001b[0m\u001b[0mtolist\u001b[0m\u001b[1;33m(\u001b[0m\u001b[1;33m)\u001b[0m\u001b[1;33m\u001b[0m\u001b[1;33m\u001b[0m\u001b[0m\n\u001b[0m\u001b[0;32m      3\u001b[0m \u001b[0mfee_pred_KRR\u001b[0m\u001b[1;33m[\u001b[0m\u001b[1;36m0\u001b[0m\u001b[1;33m]\u001b[0m\u001b[1;33m.\u001b[0m\u001b[0miloc\u001b[0m\u001b[1;33m[\u001b[0m\u001b[0mi\u001b[0m\u001b[1;33m]\u001b[0m\u001b[1;33m=\u001b[0m\u001b[0mdst_input\u001b[0m\u001b[1;33m[\u001b[0m\u001b[1;34m'Price'\u001b[0m\u001b[1;33m]\u001b[0m\u001b[1;33m.\u001b[0m\u001b[0miloc\u001b[0m\u001b[1;33m[\u001b[0m\u001b[0mi\u001b[0m\u001b[1;33m]\u001b[0m\u001b[1;33m\u001b[0m\u001b[1;33m\u001b[0m\u001b[0m\n",
      "\u001b[1;32m~\\Anaconda3\\lib\\site-packages\\pandas\\core\\frame.py\u001b[0m in \u001b[0;36m__getitem__\u001b[1;34m(self, key)\u001b[0m\n\u001b[0;32m   2686\u001b[0m             \u001b[1;32mreturn\u001b[0m \u001b[0mself\u001b[0m\u001b[1;33m.\u001b[0m\u001b[0m_getitem_multilevel\u001b[0m\u001b[1;33m(\u001b[0m\u001b[0mkey\u001b[0m\u001b[1;33m)\u001b[0m\u001b[1;33m\u001b[0m\u001b[1;33m\u001b[0m\u001b[0m\n\u001b[0;32m   2687\u001b[0m         \u001b[1;32melse\u001b[0m\u001b[1;33m:\u001b[0m\u001b[1;33m\u001b[0m\u001b[1;33m\u001b[0m\u001b[0m\n\u001b[1;32m-> 2688\u001b[1;33m             \u001b[1;32mreturn\u001b[0m \u001b[0mself\u001b[0m\u001b[1;33m.\u001b[0m\u001b[0m_getitem_column\u001b[0m\u001b[1;33m(\u001b[0m\u001b[0mkey\u001b[0m\u001b[1;33m)\u001b[0m\u001b[1;33m\u001b[0m\u001b[1;33m\u001b[0m\u001b[0m\n\u001b[0m\u001b[0;32m   2689\u001b[0m \u001b[1;33m\u001b[0m\u001b[0m\n\u001b[0;32m   2690\u001b[0m     \u001b[1;32mdef\u001b[0m \u001b[0m_getitem_column\u001b[0m\u001b[1;33m(\u001b[0m\u001b[0mself\u001b[0m\u001b[1;33m,\u001b[0m \u001b[0mkey\u001b[0m\u001b[1;33m)\u001b[0m\u001b[1;33m:\u001b[0m\u001b[1;33m\u001b[0m\u001b[1;33m\u001b[0m\u001b[0m\n",
      "\u001b[1;32m~\\Anaconda3\\lib\\site-packages\\pandas\\core\\frame.py\u001b[0m in \u001b[0;36m_getitem_column\u001b[1;34m(self, key)\u001b[0m\n\u001b[0;32m   2693\u001b[0m         \u001b[1;31m# get column\u001b[0m\u001b[1;33m\u001b[0m\u001b[1;33m\u001b[0m\u001b[1;33m\u001b[0m\u001b[0m\n\u001b[0;32m   2694\u001b[0m         \u001b[1;32mif\u001b[0m \u001b[0mself\u001b[0m\u001b[1;33m.\u001b[0m\u001b[0mcolumns\u001b[0m\u001b[1;33m.\u001b[0m\u001b[0mis_unique\u001b[0m\u001b[1;33m:\u001b[0m\u001b[1;33m\u001b[0m\u001b[1;33m\u001b[0m\u001b[0m\n\u001b[1;32m-> 2695\u001b[1;33m             \u001b[1;32mreturn\u001b[0m \u001b[0mself\u001b[0m\u001b[1;33m.\u001b[0m\u001b[0m_get_item_cache\u001b[0m\u001b[1;33m(\u001b[0m\u001b[0mkey\u001b[0m\u001b[1;33m)\u001b[0m\u001b[1;33m\u001b[0m\u001b[1;33m\u001b[0m\u001b[0m\n\u001b[0m\u001b[0;32m   2696\u001b[0m \u001b[1;33m\u001b[0m\u001b[0m\n\u001b[0;32m   2697\u001b[0m         \u001b[1;31m# duplicate columns & possible reduce dimensionality\u001b[0m\u001b[1;33m\u001b[0m\u001b[1;33m\u001b[0m\u001b[1;33m\u001b[0m\u001b[0m\n",
      "\u001b[1;32m~\\Anaconda3\\lib\\site-packages\\pandas\\core\\generic.py\u001b[0m in \u001b[0;36m_get_item_cache\u001b[1;34m(self, item)\u001b[0m\n\u001b[0;32m   2487\u001b[0m         \u001b[0mres\u001b[0m \u001b[1;33m=\u001b[0m \u001b[0mcache\u001b[0m\u001b[1;33m.\u001b[0m\u001b[0mget\u001b[0m\u001b[1;33m(\u001b[0m\u001b[0mitem\u001b[0m\u001b[1;33m)\u001b[0m\u001b[1;33m\u001b[0m\u001b[1;33m\u001b[0m\u001b[0m\n\u001b[0;32m   2488\u001b[0m         \u001b[1;32mif\u001b[0m \u001b[0mres\u001b[0m \u001b[1;32mis\u001b[0m \u001b[1;32mNone\u001b[0m\u001b[1;33m:\u001b[0m\u001b[1;33m\u001b[0m\u001b[1;33m\u001b[0m\u001b[0m\n\u001b[1;32m-> 2489\u001b[1;33m             \u001b[0mvalues\u001b[0m \u001b[1;33m=\u001b[0m \u001b[0mself\u001b[0m\u001b[1;33m.\u001b[0m\u001b[0m_data\u001b[0m\u001b[1;33m.\u001b[0m\u001b[0mget\u001b[0m\u001b[1;33m(\u001b[0m\u001b[0mitem\u001b[0m\u001b[1;33m)\u001b[0m\u001b[1;33m\u001b[0m\u001b[1;33m\u001b[0m\u001b[0m\n\u001b[0m\u001b[0;32m   2490\u001b[0m             \u001b[0mres\u001b[0m \u001b[1;33m=\u001b[0m \u001b[0mself\u001b[0m\u001b[1;33m.\u001b[0m\u001b[0m_box_item_values\u001b[0m\u001b[1;33m(\u001b[0m\u001b[0mitem\u001b[0m\u001b[1;33m,\u001b[0m \u001b[0mvalues\u001b[0m\u001b[1;33m)\u001b[0m\u001b[1;33m\u001b[0m\u001b[1;33m\u001b[0m\u001b[0m\n\u001b[0;32m   2491\u001b[0m             \u001b[0mcache\u001b[0m\u001b[1;33m[\u001b[0m\u001b[0mitem\u001b[0m\u001b[1;33m]\u001b[0m \u001b[1;33m=\u001b[0m \u001b[0mres\u001b[0m\u001b[1;33m\u001b[0m\u001b[1;33m\u001b[0m\u001b[0m\n",
      "\u001b[1;32m~\\Anaconda3\\lib\\site-packages\\pandas\\core\\internals.py\u001b[0m in \u001b[0;36mget\u001b[1;34m(self, item, fastpath)\u001b[0m\n\u001b[0;32m   4113\u001b[0m \u001b[1;33m\u001b[0m\u001b[0m\n\u001b[0;32m   4114\u001b[0m             \u001b[1;32mif\u001b[0m \u001b[1;32mnot\u001b[0m \u001b[0misna\u001b[0m\u001b[1;33m(\u001b[0m\u001b[0mitem\u001b[0m\u001b[1;33m)\u001b[0m\u001b[1;33m:\u001b[0m\u001b[1;33m\u001b[0m\u001b[1;33m\u001b[0m\u001b[0m\n\u001b[1;32m-> 4115\u001b[1;33m                 \u001b[0mloc\u001b[0m \u001b[1;33m=\u001b[0m \u001b[0mself\u001b[0m\u001b[1;33m.\u001b[0m\u001b[0mitems\u001b[0m\u001b[1;33m.\u001b[0m\u001b[0mget_loc\u001b[0m\u001b[1;33m(\u001b[0m\u001b[0mitem\u001b[0m\u001b[1;33m)\u001b[0m\u001b[1;33m\u001b[0m\u001b[1;33m\u001b[0m\u001b[0m\n\u001b[0m\u001b[0;32m   4116\u001b[0m             \u001b[1;32melse\u001b[0m\u001b[1;33m:\u001b[0m\u001b[1;33m\u001b[0m\u001b[1;33m\u001b[0m\u001b[0m\n\u001b[0;32m   4117\u001b[0m                 \u001b[0mindexer\u001b[0m \u001b[1;33m=\u001b[0m \u001b[0mnp\u001b[0m\u001b[1;33m.\u001b[0m\u001b[0marange\u001b[0m\u001b[1;33m(\u001b[0m\u001b[0mlen\u001b[0m\u001b[1;33m(\u001b[0m\u001b[0mself\u001b[0m\u001b[1;33m.\u001b[0m\u001b[0mitems\u001b[0m\u001b[1;33m)\u001b[0m\u001b[1;33m)\u001b[0m\u001b[1;33m[\u001b[0m\u001b[0misna\u001b[0m\u001b[1;33m(\u001b[0m\u001b[0mself\u001b[0m\u001b[1;33m.\u001b[0m\u001b[0mitems\u001b[0m\u001b[1;33m)\u001b[0m\u001b[1;33m]\u001b[0m\u001b[1;33m\u001b[0m\u001b[1;33m\u001b[0m\u001b[0m\n",
      "\u001b[1;32m~\\Anaconda3\\lib\\site-packages\\pandas\\core\\indexes\\base.py\u001b[0m in \u001b[0;36mget_loc\u001b[1;34m(self, key, method, tolerance)\u001b[0m\n\u001b[0;32m   3078\u001b[0m                 \u001b[1;32mreturn\u001b[0m \u001b[0mself\u001b[0m\u001b[1;33m.\u001b[0m\u001b[0m_engine\u001b[0m\u001b[1;33m.\u001b[0m\u001b[0mget_loc\u001b[0m\u001b[1;33m(\u001b[0m\u001b[0mkey\u001b[0m\u001b[1;33m)\u001b[0m\u001b[1;33m\u001b[0m\u001b[1;33m\u001b[0m\u001b[0m\n\u001b[0;32m   3079\u001b[0m             \u001b[1;32mexcept\u001b[0m \u001b[0mKeyError\u001b[0m\u001b[1;33m:\u001b[0m\u001b[1;33m\u001b[0m\u001b[1;33m\u001b[0m\u001b[0m\n\u001b[1;32m-> 3080\u001b[1;33m                 \u001b[1;32mreturn\u001b[0m \u001b[0mself\u001b[0m\u001b[1;33m.\u001b[0m\u001b[0m_engine\u001b[0m\u001b[1;33m.\u001b[0m\u001b[0mget_loc\u001b[0m\u001b[1;33m(\u001b[0m\u001b[0mself\u001b[0m\u001b[1;33m.\u001b[0m\u001b[0m_maybe_cast_indexer\u001b[0m\u001b[1;33m(\u001b[0m\u001b[0mkey\u001b[0m\u001b[1;33m)\u001b[0m\u001b[1;33m)\u001b[0m\u001b[1;33m\u001b[0m\u001b[1;33m\u001b[0m\u001b[0m\n\u001b[0m\u001b[0;32m   3081\u001b[0m \u001b[1;33m\u001b[0m\u001b[0m\n\u001b[0;32m   3082\u001b[0m         \u001b[0mindexer\u001b[0m \u001b[1;33m=\u001b[0m \u001b[0mself\u001b[0m\u001b[1;33m.\u001b[0m\u001b[0mget_indexer\u001b[0m\u001b[1;33m(\u001b[0m\u001b[1;33m[\u001b[0m\u001b[0mkey\u001b[0m\u001b[1;33m]\u001b[0m\u001b[1;33m,\u001b[0m \u001b[0mmethod\u001b[0m\u001b[1;33m=\u001b[0m\u001b[0mmethod\u001b[0m\u001b[1;33m,\u001b[0m \u001b[0mtolerance\u001b[0m\u001b[1;33m=\u001b[0m\u001b[0mtolerance\u001b[0m\u001b[1;33m)\u001b[0m\u001b[1;33m\u001b[0m\u001b[1;33m\u001b[0m\u001b[0m\n",
      "\u001b[1;32mpandas\\_libs\\index.pyx\u001b[0m in \u001b[0;36mpandas._libs.index.IndexEngine.get_loc\u001b[1;34m()\u001b[0m\n",
      "\u001b[1;32mpandas\\_libs\\index.pyx\u001b[0m in \u001b[0;36mpandas._libs.index.IndexEngine.get_loc\u001b[1;34m()\u001b[0m\n",
      "\u001b[1;32mpandas\\_libs\\hashtable_class_helper.pxi\u001b[0m in \u001b[0;36mpandas._libs.hashtable.PyObjectHashTable.get_item\u001b[1;34m()\u001b[0m\n",
      "\u001b[1;32mpandas\\_libs\\hashtable_class_helper.pxi\u001b[0m in \u001b[0;36mpandas._libs.hashtable.PyObjectHashTable.get_item\u001b[1;34m()\u001b[0m\n",
      "\u001b[1;31mKeyError\u001b[0m: 'Price'"
     ]
    }
   ],
   "source": [
    "#spliting misc for fees\n",
    "i=dst_input[dst_input[\"Price\"]>0].index.tolist()\n",
    "fee_pred_KRR[0].iloc[i]=dst_input['Price'].iloc[i]"
   ]
  },
  {
   "cell_type": "code",
   "execution_count": 146,
   "metadata": {
    "colab": {},
    "colab_type": "code",
    "id": "WCs9o0xt3Zfi"
   },
   "outputs": [],
   "source": [
    "fee_pred_KRR.to_excel('fee_test_reslt_KRR1.xlsx')"
   ]
  },
  {
   "cell_type": "code",
   "execution_count": null,
   "metadata": {},
   "outputs": [],
   "source": []
  },
  {
   "cell_type": "markdown",
   "metadata": {
    "scrolled": false
   },
   "source": [
    "# Random Forest"
   ]
  },
  {
   "cell_type": "code",
   "execution_count": 1019,
   "metadata": {},
   "outputs": [],
   "source": [
    "rf = RandomForestRegressor(n_estimators = 3000, \n",
    "                                   max_depth=9, max_features='sqrt',\n",
    "                                   min_samples_leaf=15, min_samples_split=10, \n",
    "                                   n_jobs=-1, random_state =5)"
   ]
  },
  {
   "cell_type": "code",
   "execution_count": 371,
   "metadata": {},
   "outputs": [
    {
     "name": "stdout",
     "output_type": "stream",
     "text": [
      "Gradient Boosting score: 168.8813 (3.3907)\n",
      "\n"
     ]
    }
   ],
   "source": [
    "score = rmsle_cv(rf)\n",
    "print(\"Random forest score: {:.4f} ({:.4f})\\n\".format(score.mean(), score.std()))"
   ]
  },
  {
   "cell_type": "code",
   "execution_count": 866,
   "metadata": {},
   "outputs": [],
   "source": [
    "rf.fit(train.values, y_train)\n",
    "rf_train_pred = rf.predict(train.values)"
   ]
  },
  {
   "cell_type": "code",
   "execution_count": 867,
   "metadata": {},
   "outputs": [],
   "source": [
    "rf_pred = (rf.predict(test.values))"
   ]
  },
  {
   "cell_type": "code",
   "execution_count": 868,
   "metadata": {},
   "outputs": [
    {
     "name": "stdout",
     "output_type": "stream",
     "text": [
      "167.5868582013809\n"
     ]
    }
   ],
   "source": [
    "print(rmsle(y_train, rf_train_pred))"
   ]
  },
  {
   "cell_type": "code",
   "execution_count": null,
   "metadata": {},
   "outputs": [],
   "source": []
  },
  {
   "cell_type": "markdown",
   "metadata": {
    "scrolled": false
   },
   "source": [
    "# Gradient Boosting Regression :\n",
    "With huber loss that makes it robust to outliers"
   ]
  },
  {
   "cell_type": "code",
   "execution_count": 1020,
   "metadata": {},
   "outputs": [],
   "source": [
    "GBoost = GradientBoostingRegressor(n_estimators=3000, learning_rate=0.05,\n",
    "                                   max_depth=4, max_features='sqrt',\n",
    "                                   min_samples_leaf=15, min_samples_split=10, \n",
    "                                   loss='huber', random_state =5)"
   ]
  },
  {
   "cell_type": "code",
   "execution_count": 336,
   "metadata": {},
   "outputs": [
    {
     "name": "stdout",
     "output_type": "stream",
     "text": [
      "Gradient Boosting score: 156.9447 (1.3861)\n",
      "\n"
     ]
    }
   ],
   "source": [
    "score = rmsle_cv(GBoost)\n",
    "print(\"Gradient Boosting score: {:.4f} ({:.4f})\\n\".format(score.mean(), score.std()))"
   ]
  },
  {
   "cell_type": "markdown",
   "metadata": {
    "scrolled": false
   },
   "source": [
    "# XGBoost : :"
   ]
  },
  {
   "cell_type": "code",
   "execution_count": 1021,
   "metadata": {},
   "outputs": [],
   "source": [
    "model_xgb = xgb.XGBRegressor(colsample_bytree=0.4603, gamma=0.0468, \n",
    "                             learning_rate=0.05, max_depth=6, \n",
    "                             min_child_weight=1.7817, n_estimators=2200,\n",
    "                             reg_alpha=0, reg_lambda=1,\n",
    "                             subsample=0.5213, silent=1,\n",
    "                             random_state =7, nthread = -1)"
   ]
  },
  {
   "cell_type": "code",
   "execution_count": 338,
   "metadata": {
    "scrolled": true
   },
   "outputs": [
    {
     "name": "stdout",
     "output_type": "stream",
     "text": [
      "Xgboost score: 156.1243 (1.8131)\n",
      "\n"
     ]
    }
   ],
   "source": [
    "score= rmsle_cv(model_xgb)\n",
    "print(\"Xgboost score: {:.4f} ({:.4f})\\n\".format(score.mean(), score.std()))"
   ]
  },
  {
   "cell_type": "code",
   "execution_count": 1342,
   "metadata": {
    "scrolled": true
   },
   "outputs": [
    {
     "name": "stdout",
     "output_type": "stream",
     "text": [
      "89.69693754864863\n"
     ]
    }
   ],
   "source": [
    "model_xgb.fit(train, y_train)\n",
    "xgb_train_pred = model_xgb.predict(train)\n",
    "xgb_pred = np.round(model_xgb.predict(test))\n",
    "print(rmsle(y_train, xgb_train_pred))"
   ]
  },
  {
   "cell_type": "code",
   "execution_count": 1196,
   "metadata": {
    "colab": {},
    "colab_type": "code",
    "id": "WCs9o0xt3Zfi"
   },
   "outputs": [],
   "source": [
    "fee_XG_pred = pd.DataFrame(xgb_pred)"
   ]
  },
  {
   "cell_type": "markdown",
   "metadata": {
    "colab": {},
    "colab_type": "code",
    "id": "WCs9o0xt3Zfi"
   },
   "source": [
    "#spliting misc for fees\n",
    "i=dst_input[dst_input[\"misc_fees\"]>0].index.tolist()\n",
    "fee_XG_pred[0].iloc[i]=dst_input['misc_fees'].iloc[i]"
   ]
  },
  {
   "cell_type": "code",
   "execution_count": 1132,
   "metadata": {
    "colab": {},
    "colab_type": "code",
    "id": "WCs9o0xt3Zfi"
   },
   "outputs": [],
   "source": [
    "fee_XG_pred.to_excel('fee_test_reslt_xgb1.xlsx')"
   ]
  },
  {
   "cell_type": "markdown",
   "metadata": {},
   "source": [
    "xgb_gs_reg = xgb.XGBRegressor(random_state =7, nthread = -1,\n",
    "                             eval_metric=\"mlogloss\")                         \n",
    "                        \n",
    "param_grid = {\"max_depth\": [15,20,30],\n",
    "              \"n_estimators\": [1500,2000] , \n",
    "              \"gamma\": [0.03,0.05], \n",
    "              \"learning_rate\": [0.08,0.09],\n",
    "              \"min_child_weight\": [5,10], \n",
    "              \"colsample_bytree\": [0.4,0.8], \n",
    "              \"subsample\": [0.50,0.85]} \n",
    "\n",
    "grid_search = GridSearchCV(xgb_gs_reg, \n",
    "                           param_grid=param_grid,\n",
    "                           cv = 2,\n",
    "                           n_jobs=-1,\n",
    "                           scoring='neg_log_loss',\n",
    "                           verbose=2)\n",
    "grid_search.fit(train,y_train)"
   ]
  },
  {
   "cell_type": "code",
   "execution_count": 449,
   "metadata": {
    "scrolled": true
   },
   "outputs": [
    {
     "ename": "NameError",
     "evalue": "name 'grid_search' is not defined",
     "output_type": "error",
     "traceback": [
      "\u001b[1;31m---------------------------------------------------------------------------\u001b[0m",
      "\u001b[1;31mNameError\u001b[0m                                 Traceback (most recent call last)",
      "\u001b[1;32m<ipython-input-449-edcb691dead4>\u001b[0m in \u001b[0;36m<module>\u001b[1;34m()\u001b[0m\n\u001b[1;32m----> 1\u001b[1;33m \u001b[0mprint\u001b[0m\u001b[1;33m(\u001b[0m\u001b[0mgrid_search\u001b[0m\u001b[1;33m.\u001b[0m\u001b[0mbest_params_\u001b[0m\u001b[1;33m)\u001b[0m\u001b[1;33m\u001b[0m\u001b[0m\n\u001b[0m",
      "\u001b[1;31mNameError\u001b[0m: name 'grid_search' is not defined"
     ]
    }
   ],
   "source": [
    "print(grid_search.best_params_)"
   ]
  },
  {
   "cell_type": "code",
   "execution_count": null,
   "metadata": {},
   "outputs": [],
   "source": [
    "xgb_gs_train_pred = grid_search.predict(train)\n",
    "xgb_gs_pred = np.round(grid_search.predict(test))\n",
    "print(rmsle(y_train, xgb_gs_train_pred))"
   ]
  },
  {
   "cell_type": "code",
   "execution_count": null,
   "metadata": {
    "colab": {},
    "colab_type": "code",
    "id": "WCs9o0xt3Zfi"
   },
   "outputs": [],
   "source": [
    "fee_pred_xg_gs = pd.DataFrame(xgb_gs_pred)"
   ]
  },
  {
   "cell_type": "markdown",
   "metadata": {
    "colab": {},
    "colab_type": "code",
    "id": "WCs9o0xt3Zfi"
   },
   "source": [
    "#spliting misc for fees\n",
    "i=dst_input[dst_input[\"misc_fees\"]>0].index.tolist()\n",
    "fee_pred[0].iloc[i]=dst_input['misc_fees'].iloc[i]"
   ]
  },
  {
   "cell_type": "code",
   "execution_count": null,
   "metadata": {
    "colab": {},
    "colab_type": "code",
    "id": "WCs9o0xt3Zfi"
   },
   "outputs": [],
   "source": [
    "fee_pred_xg_gs.to_excel('fee_test_reslt_xgb1_gs.xlsx')"
   ]
  },
  {
   "cell_type": "markdown",
   "metadata": {
    "scrolled": false
   },
   "source": [
    "# Stacking models\n",
    "Simplest Stacking approach : Averaging base models\n",
    "We begin with this simple approach of averaging base models. We build a new class to extend scikit-learn with our model and also to laverage encapsulation and code reuse (inheritance)\n",
    "\n",
    "Averaged base models class"
   ]
  },
  {
   "cell_type": "code",
   "execution_count": 343,
   "metadata": {},
   "outputs": [],
   "source": [
    "class AveragingModels(BaseEstimator, RegressorMixin, TransformerMixin):\n",
    "    def __init__(self, models):\n",
    "        self.models = models\n",
    "        \n",
    "    # we define clones of the original models to fit the data in\n",
    "    def fit(self, X, y):\n",
    "        self.models_ = [clone(x) for x in self.models]\n",
    "        \n",
    "        # Train cloned base models\n",
    "        for model in self.models_:\n",
    "            model.fit(X, y)\n",
    "\n",
    "        return self\n",
    "    \n",
    "    #Now we do the predictions for cloned models and average them\n",
    "    def predict(self, X):\n",
    "        predictions = np.column_stack([\n",
    "            model.predict(X) for model in self.models_\n",
    "        ])\n",
    "        return np.mean(predictions, axis=1)"
   ]
  },
  {
   "cell_type": "markdown",
   "metadata": {},
   "source": [
    "# Averaged base models score\n",
    "\n",
    "We just average four models here ENet, GBoost, KRR and lasso. Of course we could easily add more models in the mix."
   ]
  },
  {
   "cell_type": "code",
   "execution_count": 1026,
   "metadata": {},
   "outputs": [],
   "source": [
    "averaged_models = AveragingModels(models = ( GBoost, KRR, model_xgb))"
   ]
  },
  {
   "cell_type": "code",
   "execution_count": null,
   "metadata": {},
   "outputs": [],
   "source": [
    "score = rmsle_cv(averaged_models)\n",
    "print(\" Averaged base models score: {:.4f} ({:.4f})\\n\".format(score.mean(), score.std()))# Averaged base models score"
   ]
  },
  {
   "cell_type": "code",
   "execution_count": 863,
   "metadata": {},
   "outputs": [],
   "source": [
    "averaged_models.fit(train.values, y_train)\n",
    "averaged_train_pred = averaged_models.predict(train.values)"
   ]
  },
  {
   "cell_type": "code",
   "execution_count": 864,
   "metadata": {},
   "outputs": [],
   "source": [
    "averaged_pred = (averaged_models.predict(test.values))"
   ]
  },
  {
   "cell_type": "code",
   "execution_count": 865,
   "metadata": {
    "scrolled": true
   },
   "outputs": [
    {
     "name": "stdout",
     "output_type": "stream",
     "text": [
      "106.81458562162042\n"
     ]
    }
   ],
   "source": [
    "print(rmsle(y_train, averaged_train_pred))"
   ]
  },
  {
   "cell_type": "code",
   "execution_count": 1197,
   "metadata": {
    "colab": {},
    "colab_type": "code",
    "id": "WCs9o0xt3Zfi"
   },
   "outputs": [],
   "source": [
    "fee_averaged_pred = pd.DataFrame(averaged_pred)"
   ]
  },
  {
   "cell_type": "code",
   "execution_count": 874,
   "metadata": {
    "colab": {},
    "colab_type": "code",
    "id": "WCs9o0xt3Zfi"
   },
   "outputs": [
    {
     "data": {
      "text/plain": [
       "array([[312.42900838],\n",
       "       [329.68624618],\n",
       "       [286.60119871],\n",
       "       ...,\n",
       "       [221.49623688],\n",
       "       [202.56899136],\n",
       "       [500.        ]])"
      ]
     },
     "execution_count": 874,
     "metadata": {},
     "output_type": "execute_result"
    }
   ],
   "source": [
    "fee_averaged_pred.values"
   ]
  },
  {
   "cell_type": "code",
   "execution_count": 870,
   "metadata": {
    "colab": {},
    "colab_type": "code",
    "id": "WCs9o0xt3Zfi"
   },
   "outputs": [],
   "source": [
    "#spliting misc for fees\n",
    "i=dst_input[dst_input[\"misc_fees\"]>0].index.tolist()\n",
    "fee_averaged_pred[0].iloc[i]=dst_input['misc_fees'].iloc[i]"
   ]
  },
  {
   "cell_type": "code",
   "execution_count": 871,
   "metadata": {
    "colab": {},
    "colab_type": "code",
    "id": "WCs9o0xt3Zfi"
   },
   "outputs": [],
   "source": [
    "fee_averaged_pred.to_excel('fee_test_reslt_averaged.xlsx')"
   ]
  },
  {
   "cell_type": "markdown",
   "metadata": {},
   "source": [
    "# Stacking averaged Models Class"
   ]
  },
  {
   "cell_type": "code",
   "execution_count": 344,
   "metadata": {},
   "outputs": [],
   "source": [
    "class StackingAveragedModels(BaseEstimator, RegressorMixin, TransformerMixin):\n",
    "    def __init__(self, base_models, meta_model, n_folds=5):\n",
    "        self.base_models = base_models\n",
    "        self.meta_model = meta_model\n",
    "        self.n_folds = n_folds\n",
    "   \n",
    "    # We again fit the data on clones of the original models\n",
    "    def fit(self, X, y):\n",
    "        self.base_models_ = [list() for x in self.base_models]\n",
    "        self.meta_model_ = clone(self.meta_model)\n",
    "        kfold = KFold(n_splits=self.n_folds, shuffle=True, random_state=156)\n",
    "        \n",
    "        # Train cloned base models then create out-of-fold predictions\n",
    "        # that are needed to train the cloned meta-model\n",
    "        out_of_fold_predictions = np.zeros((X.shape[0], len(self.base_models)))\n",
    "        for i, model in enumerate(self.base_models):\n",
    "            for train_index, holdout_index in kfold.split(X, y):\n",
    "                instance = clone(model)\n",
    "                self.base_models_[i].append(instance)\n",
    "                instance.fit(X[train_index], y[train_index])\n",
    "                y_pred = instance.predict(X[holdout_index])\n",
    "                out_of_fold_predictions[holdout_index, i] = y_pred\n",
    "                \n",
    "        # Now train the cloned  meta-model using the out-of-fold predictions as new feature\n",
    "        self.meta_model_.fit(out_of_fold_predictions, y)\n",
    "        return self\n",
    "   \n",
    "    #Do the predictions of all base models on the test data and use the averaged predictions as \n",
    "    #meta-features for the final prediction which is done by the meta-model\n",
    "    def predict(self, X):\n",
    "        meta_features = np.column_stack([\n",
    "            np.column_stack([model.predict(X) for model in base_models]).mean(axis=1)\n",
    "            for base_models in self.base_models_ ])\n",
    "        return self.meta_model_.predict(meta_features)"
   ]
  },
  {
   "cell_type": "markdown",
   "metadata": {},
   "source": [
    "To make the two approaches comparable (by using the same number of models) , we just average Enet KRR and Gboost, then we add lasso as meta-model."
   ]
  },
  {
   "cell_type": "code",
   "execution_count": 1133,
   "metadata": {},
   "outputs": [],
   "source": [
    "stacked_averaged_models = StackingAveragedModels(base_models = ( ENet,KRR),\n",
    "                                                 meta_model = rf)"
   ]
  },
  {
   "cell_type": "code",
   "execution_count": 346,
   "metadata": {},
   "outputs": [
    {
     "ename": "ValueError",
     "evalue": "Input contains NaN, infinity or a value too large for dtype('float64').",
     "output_type": "error",
     "traceback": [
      "\u001b[1;31m---------------------------------------------------------------------------\u001b[0m",
      "\u001b[1;31mValueError\u001b[0m                                Traceback (most recent call last)",
      "\u001b[1;32m<ipython-input-346-e14438174dbe>\u001b[0m in \u001b[0;36m<module>\u001b[1;34m()\u001b[0m\n\u001b[1;32m----> 1\u001b[1;33m \u001b[0mscore\u001b[0m \u001b[1;33m=\u001b[0m \u001b[0mrmsle_cv\u001b[0m\u001b[1;33m(\u001b[0m\u001b[0mstacked_averaged_models\u001b[0m\u001b[1;33m)\u001b[0m\u001b[1;33m\u001b[0m\u001b[0m\n\u001b[0m\u001b[0;32m      2\u001b[0m \u001b[0mprint\u001b[0m\u001b[1;33m(\u001b[0m\u001b[1;34m\"Stacking Averaged models score: {:.4f} ({:.4f})\"\u001b[0m\u001b[1;33m.\u001b[0m\u001b[0mformat\u001b[0m\u001b[1;33m(\u001b[0m\u001b[0mscore\u001b[0m\u001b[1;33m.\u001b[0m\u001b[0mmean\u001b[0m\u001b[1;33m(\u001b[0m\u001b[1;33m)\u001b[0m\u001b[1;33m,\u001b[0m \u001b[0mscore\u001b[0m\u001b[1;33m.\u001b[0m\u001b[0mstd\u001b[0m\u001b[1;33m(\u001b[0m\u001b[1;33m)\u001b[0m\u001b[1;33m)\u001b[0m\u001b[1;33m)\u001b[0m\u001b[1;33m\u001b[0m\u001b[0m\n",
      "\u001b[1;32m<ipython-input-322-b097c7dbfa0b>\u001b[0m in \u001b[0;36mrmsle_cv\u001b[1;34m(model)\u001b[0m\n\u001b[0;32m      4\u001b[0m \u001b[1;32mdef\u001b[0m \u001b[0mrmsle_cv\u001b[0m\u001b[1;33m(\u001b[0m\u001b[0mmodel\u001b[0m\u001b[1;33m)\u001b[0m\u001b[1;33m:\u001b[0m\u001b[1;33m\u001b[0m\u001b[0m\n\u001b[0;32m      5\u001b[0m     \u001b[0mkf\u001b[0m \u001b[1;33m=\u001b[0m \u001b[0mKFold\u001b[0m\u001b[1;33m(\u001b[0m\u001b[0mn_folds\u001b[0m\u001b[1;33m,\u001b[0m \u001b[0mshuffle\u001b[0m\u001b[1;33m=\u001b[0m\u001b[1;32mTrue\u001b[0m\u001b[1;33m,\u001b[0m \u001b[0mrandom_state\u001b[0m\u001b[1;33m=\u001b[0m\u001b[1;36m42\u001b[0m\u001b[1;33m)\u001b[0m\u001b[1;33m.\u001b[0m\u001b[0mget_n_splits\u001b[0m\u001b[1;33m(\u001b[0m\u001b[0mtrain\u001b[0m\u001b[1;33m.\u001b[0m\u001b[0mvalues\u001b[0m\u001b[1;33m)\u001b[0m\u001b[1;33m\u001b[0m\u001b[0m\n\u001b[1;32m----> 6\u001b[1;33m     \u001b[0mrmse\u001b[0m\u001b[1;33m=\u001b[0m \u001b[0mnp\u001b[0m\u001b[1;33m.\u001b[0m\u001b[0msqrt\u001b[0m\u001b[1;33m(\u001b[0m\u001b[1;33m-\u001b[0m\u001b[0mcross_val_score\u001b[0m\u001b[1;33m(\u001b[0m\u001b[0mmodel\u001b[0m\u001b[1;33m,\u001b[0m \u001b[0mtrain\u001b[0m\u001b[1;33m.\u001b[0m\u001b[0mvalues\u001b[0m\u001b[1;33m,\u001b[0m \u001b[0my_train\u001b[0m\u001b[1;33m,\u001b[0m \u001b[0mscoring\u001b[0m\u001b[1;33m=\u001b[0m\u001b[1;34m\"neg_mean_squared_error\"\u001b[0m\u001b[1;33m,\u001b[0m \u001b[0mcv\u001b[0m \u001b[1;33m=\u001b[0m \u001b[0mkf\u001b[0m\u001b[1;33m)\u001b[0m\u001b[1;33m)\u001b[0m\u001b[1;33m\u001b[0m\u001b[0m\n\u001b[0m\u001b[0;32m      7\u001b[0m     \u001b[1;32mreturn\u001b[0m\u001b[1;33m(\u001b[0m\u001b[0mrmse\u001b[0m\u001b[1;33m)\u001b[0m\u001b[1;33m\u001b[0m\u001b[0m\n",
      "\u001b[1;32m~\\AppData\\Local\\Continuum\\anaconda3\\lib\\site-packages\\sklearn\\model_selection\\_validation.py\u001b[0m in \u001b[0;36mcross_val_score\u001b[1;34m(estimator, X, y, groups, scoring, cv, n_jobs, verbose, fit_params, pre_dispatch)\u001b[0m\n\u001b[0;32m    340\u001b[0m                                 \u001b[0mn_jobs\u001b[0m\u001b[1;33m=\u001b[0m\u001b[0mn_jobs\u001b[0m\u001b[1;33m,\u001b[0m \u001b[0mverbose\u001b[0m\u001b[1;33m=\u001b[0m\u001b[0mverbose\u001b[0m\u001b[1;33m,\u001b[0m\u001b[1;33m\u001b[0m\u001b[0m\n\u001b[0;32m    341\u001b[0m                                 \u001b[0mfit_params\u001b[0m\u001b[1;33m=\u001b[0m\u001b[0mfit_params\u001b[0m\u001b[1;33m,\u001b[0m\u001b[1;33m\u001b[0m\u001b[0m\n\u001b[1;32m--> 342\u001b[1;33m                                 pre_dispatch=pre_dispatch)\n\u001b[0m\u001b[0;32m    343\u001b[0m     \u001b[1;32mreturn\u001b[0m \u001b[0mcv_results\u001b[0m\u001b[1;33m[\u001b[0m\u001b[1;34m'test_score'\u001b[0m\u001b[1;33m]\u001b[0m\u001b[1;33m\u001b[0m\u001b[0m\n\u001b[0;32m    344\u001b[0m \u001b[1;33m\u001b[0m\u001b[0m\n",
      "\u001b[1;32m~\\AppData\\Local\\Continuum\\anaconda3\\lib\\site-packages\\sklearn\\model_selection\\_validation.py\u001b[0m in \u001b[0;36mcross_validate\u001b[1;34m(estimator, X, y, groups, scoring, cv, n_jobs, verbose, fit_params, pre_dispatch, return_train_score)\u001b[0m\n\u001b[0;32m    204\u001b[0m             \u001b[0mfit_params\u001b[0m\u001b[1;33m,\u001b[0m \u001b[0mreturn_train_score\u001b[0m\u001b[1;33m=\u001b[0m\u001b[0mreturn_train_score\u001b[0m\u001b[1;33m,\u001b[0m\u001b[1;33m\u001b[0m\u001b[0m\n\u001b[0;32m    205\u001b[0m             return_times=True)\n\u001b[1;32m--> 206\u001b[1;33m         for train, test in cv.split(X, y, groups))\n\u001b[0m\u001b[0;32m    207\u001b[0m \u001b[1;33m\u001b[0m\u001b[0m\n\u001b[0;32m    208\u001b[0m     \u001b[1;32mif\u001b[0m \u001b[0mreturn_train_score\u001b[0m\u001b[1;33m:\u001b[0m\u001b[1;33m\u001b[0m\u001b[0m\n",
      "\u001b[1;32m~\\AppData\\Local\\Continuum\\anaconda3\\lib\\site-packages\\sklearn\\externals\\joblib\\parallel.py\u001b[0m in \u001b[0;36m__call__\u001b[1;34m(self, iterable)\u001b[0m\n\u001b[0;32m    777\u001b[0m             \u001b[1;31m# was dispatched. In particular this covers the edge\u001b[0m\u001b[1;33m\u001b[0m\u001b[1;33m\u001b[0m\u001b[0m\n\u001b[0;32m    778\u001b[0m             \u001b[1;31m# case of Parallel used with an exhausted iterator.\u001b[0m\u001b[1;33m\u001b[0m\u001b[1;33m\u001b[0m\u001b[0m\n\u001b[1;32m--> 779\u001b[1;33m             \u001b[1;32mwhile\u001b[0m \u001b[0mself\u001b[0m\u001b[1;33m.\u001b[0m\u001b[0mdispatch_one_batch\u001b[0m\u001b[1;33m(\u001b[0m\u001b[0miterator\u001b[0m\u001b[1;33m)\u001b[0m\u001b[1;33m:\u001b[0m\u001b[1;33m\u001b[0m\u001b[0m\n\u001b[0m\u001b[0;32m    780\u001b[0m                 \u001b[0mself\u001b[0m\u001b[1;33m.\u001b[0m\u001b[0m_iterating\u001b[0m \u001b[1;33m=\u001b[0m \u001b[1;32mTrue\u001b[0m\u001b[1;33m\u001b[0m\u001b[0m\n\u001b[0;32m    781\u001b[0m             \u001b[1;32melse\u001b[0m\u001b[1;33m:\u001b[0m\u001b[1;33m\u001b[0m\u001b[0m\n",
      "\u001b[1;32m~\\AppData\\Local\\Continuum\\anaconda3\\lib\\site-packages\\sklearn\\externals\\joblib\\parallel.py\u001b[0m in \u001b[0;36mdispatch_one_batch\u001b[1;34m(self, iterator)\u001b[0m\n\u001b[0;32m    623\u001b[0m                 \u001b[1;32mreturn\u001b[0m \u001b[1;32mFalse\u001b[0m\u001b[1;33m\u001b[0m\u001b[0m\n\u001b[0;32m    624\u001b[0m             \u001b[1;32melse\u001b[0m\u001b[1;33m:\u001b[0m\u001b[1;33m\u001b[0m\u001b[0m\n\u001b[1;32m--> 625\u001b[1;33m                 \u001b[0mself\u001b[0m\u001b[1;33m.\u001b[0m\u001b[0m_dispatch\u001b[0m\u001b[1;33m(\u001b[0m\u001b[0mtasks\u001b[0m\u001b[1;33m)\u001b[0m\u001b[1;33m\u001b[0m\u001b[0m\n\u001b[0m\u001b[0;32m    626\u001b[0m                 \u001b[1;32mreturn\u001b[0m \u001b[1;32mTrue\u001b[0m\u001b[1;33m\u001b[0m\u001b[0m\n\u001b[0;32m    627\u001b[0m \u001b[1;33m\u001b[0m\u001b[0m\n",
      "\u001b[1;32m~\\AppData\\Local\\Continuum\\anaconda3\\lib\\site-packages\\sklearn\\externals\\joblib\\parallel.py\u001b[0m in \u001b[0;36m_dispatch\u001b[1;34m(self, batch)\u001b[0m\n\u001b[0;32m    586\u001b[0m         \u001b[0mdispatch_timestamp\u001b[0m \u001b[1;33m=\u001b[0m \u001b[0mtime\u001b[0m\u001b[1;33m.\u001b[0m\u001b[0mtime\u001b[0m\u001b[1;33m(\u001b[0m\u001b[1;33m)\u001b[0m\u001b[1;33m\u001b[0m\u001b[0m\n\u001b[0;32m    587\u001b[0m         \u001b[0mcb\u001b[0m \u001b[1;33m=\u001b[0m \u001b[0mBatchCompletionCallBack\u001b[0m\u001b[1;33m(\u001b[0m\u001b[0mdispatch_timestamp\u001b[0m\u001b[1;33m,\u001b[0m \u001b[0mlen\u001b[0m\u001b[1;33m(\u001b[0m\u001b[0mbatch\u001b[0m\u001b[1;33m)\u001b[0m\u001b[1;33m,\u001b[0m \u001b[0mself\u001b[0m\u001b[1;33m)\u001b[0m\u001b[1;33m\u001b[0m\u001b[0m\n\u001b[1;32m--> 588\u001b[1;33m         \u001b[0mjob\u001b[0m \u001b[1;33m=\u001b[0m \u001b[0mself\u001b[0m\u001b[1;33m.\u001b[0m\u001b[0m_backend\u001b[0m\u001b[1;33m.\u001b[0m\u001b[0mapply_async\u001b[0m\u001b[1;33m(\u001b[0m\u001b[0mbatch\u001b[0m\u001b[1;33m,\u001b[0m \u001b[0mcallback\u001b[0m\u001b[1;33m=\u001b[0m\u001b[0mcb\u001b[0m\u001b[1;33m)\u001b[0m\u001b[1;33m\u001b[0m\u001b[0m\n\u001b[0m\u001b[0;32m    589\u001b[0m         \u001b[0mself\u001b[0m\u001b[1;33m.\u001b[0m\u001b[0m_jobs\u001b[0m\u001b[1;33m.\u001b[0m\u001b[0mappend\u001b[0m\u001b[1;33m(\u001b[0m\u001b[0mjob\u001b[0m\u001b[1;33m)\u001b[0m\u001b[1;33m\u001b[0m\u001b[0m\n\u001b[0;32m    590\u001b[0m \u001b[1;33m\u001b[0m\u001b[0m\n",
      "\u001b[1;32m~\\AppData\\Local\\Continuum\\anaconda3\\lib\\site-packages\\sklearn\\externals\\joblib\\_parallel_backends.py\u001b[0m in \u001b[0;36mapply_async\u001b[1;34m(self, func, callback)\u001b[0m\n\u001b[0;32m    109\u001b[0m     \u001b[1;32mdef\u001b[0m \u001b[0mapply_async\u001b[0m\u001b[1;33m(\u001b[0m\u001b[0mself\u001b[0m\u001b[1;33m,\u001b[0m \u001b[0mfunc\u001b[0m\u001b[1;33m,\u001b[0m \u001b[0mcallback\u001b[0m\u001b[1;33m=\u001b[0m\u001b[1;32mNone\u001b[0m\u001b[1;33m)\u001b[0m\u001b[1;33m:\u001b[0m\u001b[1;33m\u001b[0m\u001b[0m\n\u001b[0;32m    110\u001b[0m         \u001b[1;34m\"\"\"Schedule a func to be run\"\"\"\u001b[0m\u001b[1;33m\u001b[0m\u001b[0m\n\u001b[1;32m--> 111\u001b[1;33m         \u001b[0mresult\u001b[0m \u001b[1;33m=\u001b[0m \u001b[0mImmediateResult\u001b[0m\u001b[1;33m(\u001b[0m\u001b[0mfunc\u001b[0m\u001b[1;33m)\u001b[0m\u001b[1;33m\u001b[0m\u001b[0m\n\u001b[0m\u001b[0;32m    112\u001b[0m         \u001b[1;32mif\u001b[0m \u001b[0mcallback\u001b[0m\u001b[1;33m:\u001b[0m\u001b[1;33m\u001b[0m\u001b[0m\n\u001b[0;32m    113\u001b[0m             \u001b[0mcallback\u001b[0m\u001b[1;33m(\u001b[0m\u001b[0mresult\u001b[0m\u001b[1;33m)\u001b[0m\u001b[1;33m\u001b[0m\u001b[0m\n",
      "\u001b[1;32m~\\AppData\\Local\\Continuum\\anaconda3\\lib\\site-packages\\sklearn\\externals\\joblib\\_parallel_backends.py\u001b[0m in \u001b[0;36m__init__\u001b[1;34m(self, batch)\u001b[0m\n\u001b[0;32m    330\u001b[0m         \u001b[1;31m# Don't delay the application, to avoid keeping the input\u001b[0m\u001b[1;33m\u001b[0m\u001b[1;33m\u001b[0m\u001b[0m\n\u001b[0;32m    331\u001b[0m         \u001b[1;31m# arguments in memory\u001b[0m\u001b[1;33m\u001b[0m\u001b[1;33m\u001b[0m\u001b[0m\n\u001b[1;32m--> 332\u001b[1;33m         \u001b[0mself\u001b[0m\u001b[1;33m.\u001b[0m\u001b[0mresults\u001b[0m \u001b[1;33m=\u001b[0m \u001b[0mbatch\u001b[0m\u001b[1;33m(\u001b[0m\u001b[1;33m)\u001b[0m\u001b[1;33m\u001b[0m\u001b[0m\n\u001b[0m\u001b[0;32m    333\u001b[0m \u001b[1;33m\u001b[0m\u001b[0m\n\u001b[0;32m    334\u001b[0m     \u001b[1;32mdef\u001b[0m \u001b[0mget\u001b[0m\u001b[1;33m(\u001b[0m\u001b[0mself\u001b[0m\u001b[1;33m)\u001b[0m\u001b[1;33m:\u001b[0m\u001b[1;33m\u001b[0m\u001b[0m\n",
      "\u001b[1;32m~\\AppData\\Local\\Continuum\\anaconda3\\lib\\site-packages\\sklearn\\externals\\joblib\\parallel.py\u001b[0m in \u001b[0;36m__call__\u001b[1;34m(self)\u001b[0m\n\u001b[0;32m    129\u001b[0m \u001b[1;33m\u001b[0m\u001b[0m\n\u001b[0;32m    130\u001b[0m     \u001b[1;32mdef\u001b[0m \u001b[0m__call__\u001b[0m\u001b[1;33m(\u001b[0m\u001b[0mself\u001b[0m\u001b[1;33m)\u001b[0m\u001b[1;33m:\u001b[0m\u001b[1;33m\u001b[0m\u001b[0m\n\u001b[1;32m--> 131\u001b[1;33m         \u001b[1;32mreturn\u001b[0m \u001b[1;33m[\u001b[0m\u001b[0mfunc\u001b[0m\u001b[1;33m(\u001b[0m\u001b[1;33m*\u001b[0m\u001b[0margs\u001b[0m\u001b[1;33m,\u001b[0m \u001b[1;33m**\u001b[0m\u001b[0mkwargs\u001b[0m\u001b[1;33m)\u001b[0m \u001b[1;32mfor\u001b[0m \u001b[0mfunc\u001b[0m\u001b[1;33m,\u001b[0m \u001b[0margs\u001b[0m\u001b[1;33m,\u001b[0m \u001b[0mkwargs\u001b[0m \u001b[1;32min\u001b[0m \u001b[0mself\u001b[0m\u001b[1;33m.\u001b[0m\u001b[0mitems\u001b[0m\u001b[1;33m]\u001b[0m\u001b[1;33m\u001b[0m\u001b[0m\n\u001b[0m\u001b[0;32m    132\u001b[0m \u001b[1;33m\u001b[0m\u001b[0m\n\u001b[0;32m    133\u001b[0m     \u001b[1;32mdef\u001b[0m \u001b[0m__len__\u001b[0m\u001b[1;33m(\u001b[0m\u001b[0mself\u001b[0m\u001b[1;33m)\u001b[0m\u001b[1;33m:\u001b[0m\u001b[1;33m\u001b[0m\u001b[0m\n",
      "\u001b[1;32m~\\AppData\\Local\\Continuum\\anaconda3\\lib\\site-packages\\sklearn\\externals\\joblib\\parallel.py\u001b[0m in \u001b[0;36m<listcomp>\u001b[1;34m(.0)\u001b[0m\n\u001b[0;32m    129\u001b[0m \u001b[1;33m\u001b[0m\u001b[0m\n\u001b[0;32m    130\u001b[0m     \u001b[1;32mdef\u001b[0m \u001b[0m__call__\u001b[0m\u001b[1;33m(\u001b[0m\u001b[0mself\u001b[0m\u001b[1;33m)\u001b[0m\u001b[1;33m:\u001b[0m\u001b[1;33m\u001b[0m\u001b[0m\n\u001b[1;32m--> 131\u001b[1;33m         \u001b[1;32mreturn\u001b[0m \u001b[1;33m[\u001b[0m\u001b[0mfunc\u001b[0m\u001b[1;33m(\u001b[0m\u001b[1;33m*\u001b[0m\u001b[0margs\u001b[0m\u001b[1;33m,\u001b[0m \u001b[1;33m**\u001b[0m\u001b[0mkwargs\u001b[0m\u001b[1;33m)\u001b[0m \u001b[1;32mfor\u001b[0m \u001b[0mfunc\u001b[0m\u001b[1;33m,\u001b[0m \u001b[0margs\u001b[0m\u001b[1;33m,\u001b[0m \u001b[0mkwargs\u001b[0m \u001b[1;32min\u001b[0m \u001b[0mself\u001b[0m\u001b[1;33m.\u001b[0m\u001b[0mitems\u001b[0m\u001b[1;33m]\u001b[0m\u001b[1;33m\u001b[0m\u001b[0m\n\u001b[0m\u001b[0;32m    132\u001b[0m \u001b[1;33m\u001b[0m\u001b[0m\n\u001b[0;32m    133\u001b[0m     \u001b[1;32mdef\u001b[0m \u001b[0m__len__\u001b[0m\u001b[1;33m(\u001b[0m\u001b[0mself\u001b[0m\u001b[1;33m)\u001b[0m\u001b[1;33m:\u001b[0m\u001b[1;33m\u001b[0m\u001b[0m\n",
      "\u001b[1;32m~\\AppData\\Local\\Continuum\\anaconda3\\lib\\site-packages\\sklearn\\model_selection\\_validation.py\u001b[0m in \u001b[0;36m_fit_and_score\u001b[1;34m(estimator, X, y, scorer, train, test, verbose, parameters, fit_params, return_train_score, return_parameters, return_n_test_samples, return_times, error_score)\u001b[0m\n\u001b[0;32m    456\u001b[0m             \u001b[0mestimator\u001b[0m\u001b[1;33m.\u001b[0m\u001b[0mfit\u001b[0m\u001b[1;33m(\u001b[0m\u001b[0mX_train\u001b[0m\u001b[1;33m,\u001b[0m \u001b[1;33m**\u001b[0m\u001b[0mfit_params\u001b[0m\u001b[1;33m)\u001b[0m\u001b[1;33m\u001b[0m\u001b[0m\n\u001b[0;32m    457\u001b[0m         \u001b[1;32melse\u001b[0m\u001b[1;33m:\u001b[0m\u001b[1;33m\u001b[0m\u001b[0m\n\u001b[1;32m--> 458\u001b[1;33m             \u001b[0mestimator\u001b[0m\u001b[1;33m.\u001b[0m\u001b[0mfit\u001b[0m\u001b[1;33m(\u001b[0m\u001b[0mX_train\u001b[0m\u001b[1;33m,\u001b[0m \u001b[0my_train\u001b[0m\u001b[1;33m,\u001b[0m \u001b[1;33m**\u001b[0m\u001b[0mfit_params\u001b[0m\u001b[1;33m)\u001b[0m\u001b[1;33m\u001b[0m\u001b[0m\n\u001b[0m\u001b[0;32m    459\u001b[0m \u001b[1;33m\u001b[0m\u001b[0m\n\u001b[0;32m    460\u001b[0m     \u001b[1;32mexcept\u001b[0m \u001b[0mException\u001b[0m \u001b[1;32mas\u001b[0m \u001b[0me\u001b[0m\u001b[1;33m:\u001b[0m\u001b[1;33m\u001b[0m\u001b[0m\n",
      "\u001b[1;32m<ipython-input-344-dfca4af6e9d1>\u001b[0m in \u001b[0;36mfit\u001b[1;34m(self, X, y)\u001b[0m\n\u001b[0;32m     18\u001b[0m                 \u001b[0minstance\u001b[0m \u001b[1;33m=\u001b[0m \u001b[0mclone\u001b[0m\u001b[1;33m(\u001b[0m\u001b[0mmodel\u001b[0m\u001b[1;33m)\u001b[0m\u001b[1;33m\u001b[0m\u001b[0m\n\u001b[0;32m     19\u001b[0m                 \u001b[0mself\u001b[0m\u001b[1;33m.\u001b[0m\u001b[0mbase_models_\u001b[0m\u001b[1;33m[\u001b[0m\u001b[0mi\u001b[0m\u001b[1;33m]\u001b[0m\u001b[1;33m.\u001b[0m\u001b[0mappend\u001b[0m\u001b[1;33m(\u001b[0m\u001b[0minstance\u001b[0m\u001b[1;33m)\u001b[0m\u001b[1;33m\u001b[0m\u001b[0m\n\u001b[1;32m---> 20\u001b[1;33m                 \u001b[0minstance\u001b[0m\u001b[1;33m.\u001b[0m\u001b[0mfit\u001b[0m\u001b[1;33m(\u001b[0m\u001b[0mX\u001b[0m\u001b[1;33m[\u001b[0m\u001b[0mtrain_index\u001b[0m\u001b[1;33m]\u001b[0m\u001b[1;33m,\u001b[0m \u001b[0my\u001b[0m\u001b[1;33m[\u001b[0m\u001b[0mtrain_index\u001b[0m\u001b[1;33m]\u001b[0m\u001b[1;33m)\u001b[0m\u001b[1;33m\u001b[0m\u001b[0m\n\u001b[0m\u001b[0;32m     21\u001b[0m                 \u001b[0my_pred\u001b[0m \u001b[1;33m=\u001b[0m \u001b[0minstance\u001b[0m\u001b[1;33m.\u001b[0m\u001b[0mpredict\u001b[0m\u001b[1;33m(\u001b[0m\u001b[0mX\u001b[0m\u001b[1;33m[\u001b[0m\u001b[0mholdout_index\u001b[0m\u001b[1;33m]\u001b[0m\u001b[1;33m)\u001b[0m\u001b[1;33m\u001b[0m\u001b[0m\n\u001b[0;32m     22\u001b[0m                 \u001b[0mout_of_fold_predictions\u001b[0m\u001b[1;33m[\u001b[0m\u001b[0mholdout_index\u001b[0m\u001b[1;33m,\u001b[0m \u001b[0mi\u001b[0m\u001b[1;33m]\u001b[0m \u001b[1;33m=\u001b[0m \u001b[0my_pred\u001b[0m\u001b[1;33m\u001b[0m\u001b[0m\n",
      "\u001b[1;32m~\\AppData\\Local\\Continuum\\anaconda3\\lib\\site-packages\\sklearn\\pipeline.py\u001b[0m in \u001b[0;36mfit\u001b[1;34m(self, X, y, **fit_params)\u001b[0m\n\u001b[0;32m    248\u001b[0m         \u001b[0mXt\u001b[0m\u001b[1;33m,\u001b[0m \u001b[0mfit_params\u001b[0m \u001b[1;33m=\u001b[0m \u001b[0mself\u001b[0m\u001b[1;33m.\u001b[0m\u001b[0m_fit\u001b[0m\u001b[1;33m(\u001b[0m\u001b[0mX\u001b[0m\u001b[1;33m,\u001b[0m \u001b[0my\u001b[0m\u001b[1;33m,\u001b[0m \u001b[1;33m**\u001b[0m\u001b[0mfit_params\u001b[0m\u001b[1;33m)\u001b[0m\u001b[1;33m\u001b[0m\u001b[0m\n\u001b[0;32m    249\u001b[0m         \u001b[1;32mif\u001b[0m \u001b[0mself\u001b[0m\u001b[1;33m.\u001b[0m\u001b[0m_final_estimator\u001b[0m \u001b[1;32mis\u001b[0m \u001b[1;32mnot\u001b[0m \u001b[1;32mNone\u001b[0m\u001b[1;33m:\u001b[0m\u001b[1;33m\u001b[0m\u001b[0m\n\u001b[1;32m--> 250\u001b[1;33m             \u001b[0mself\u001b[0m\u001b[1;33m.\u001b[0m\u001b[0m_final_estimator\u001b[0m\u001b[1;33m.\u001b[0m\u001b[0mfit\u001b[0m\u001b[1;33m(\u001b[0m\u001b[0mXt\u001b[0m\u001b[1;33m,\u001b[0m \u001b[0my\u001b[0m\u001b[1;33m,\u001b[0m \u001b[1;33m**\u001b[0m\u001b[0mfit_params\u001b[0m\u001b[1;33m)\u001b[0m\u001b[1;33m\u001b[0m\u001b[0m\n\u001b[0m\u001b[0;32m    251\u001b[0m         \u001b[1;32mreturn\u001b[0m \u001b[0mself\u001b[0m\u001b[1;33m\u001b[0m\u001b[0m\n\u001b[0;32m    252\u001b[0m \u001b[1;33m\u001b[0m\u001b[0m\n",
      "\u001b[1;32m~\\AppData\\Local\\Continuum\\anaconda3\\lib\\site-packages\\sklearn\\linear_model\\coordinate_descent.py\u001b[0m in \u001b[0;36mfit\u001b[1;34m(self, X, y, check_input)\u001b[0m\n\u001b[0;32m    705\u001b[0m                              \u001b[0morder\u001b[0m\u001b[1;33m=\u001b[0m\u001b[1;34m'F'\u001b[0m\u001b[1;33m,\u001b[0m \u001b[0mdtype\u001b[0m\u001b[1;33m=\u001b[0m\u001b[1;33m[\u001b[0m\u001b[0mnp\u001b[0m\u001b[1;33m.\u001b[0m\u001b[0mfloat64\u001b[0m\u001b[1;33m,\u001b[0m \u001b[0mnp\u001b[0m\u001b[1;33m.\u001b[0m\u001b[0mfloat32\u001b[0m\u001b[1;33m]\u001b[0m\u001b[1;33m,\u001b[0m\u001b[1;33m\u001b[0m\u001b[0m\n\u001b[0;32m    706\u001b[0m                              \u001b[0mcopy\u001b[0m\u001b[1;33m=\u001b[0m\u001b[0mself\u001b[0m\u001b[1;33m.\u001b[0m\u001b[0mcopy_X\u001b[0m \u001b[1;32mand\u001b[0m \u001b[0mself\u001b[0m\u001b[1;33m.\u001b[0m\u001b[0mfit_intercept\u001b[0m\u001b[1;33m,\u001b[0m\u001b[1;33m\u001b[0m\u001b[0m\n\u001b[1;32m--> 707\u001b[1;33m                              multi_output=True, y_numeric=True)\n\u001b[0m\u001b[0;32m    708\u001b[0m             y = check_array(y, order='F', copy=False, dtype=X.dtype.type,\n\u001b[0;32m    709\u001b[0m                             ensure_2d=False)\n",
      "\u001b[1;32m~\\AppData\\Local\\Continuum\\anaconda3\\lib\\site-packages\\sklearn\\utils\\validation.py\u001b[0m in \u001b[0;36mcheck_X_y\u001b[1;34m(X, y, accept_sparse, dtype, order, copy, force_all_finite, ensure_2d, allow_nd, multi_output, ensure_min_samples, ensure_min_features, y_numeric, warn_on_dtype, estimator)\u001b[0m\n\u001b[0;32m    574\u001b[0m     \u001b[1;32mif\u001b[0m \u001b[0mmulti_output\u001b[0m\u001b[1;33m:\u001b[0m\u001b[1;33m\u001b[0m\u001b[0m\n\u001b[0;32m    575\u001b[0m         y = check_array(y, 'csr', force_all_finite=True, ensure_2d=False,\n\u001b[1;32m--> 576\u001b[1;33m                         dtype=None)\n\u001b[0m\u001b[0;32m    577\u001b[0m     \u001b[1;32melse\u001b[0m\u001b[1;33m:\u001b[0m\u001b[1;33m\u001b[0m\u001b[0m\n\u001b[0;32m    578\u001b[0m         \u001b[0my\u001b[0m \u001b[1;33m=\u001b[0m \u001b[0mcolumn_or_1d\u001b[0m\u001b[1;33m(\u001b[0m\u001b[0my\u001b[0m\u001b[1;33m,\u001b[0m \u001b[0mwarn\u001b[0m\u001b[1;33m=\u001b[0m\u001b[1;32mTrue\u001b[0m\u001b[1;33m)\u001b[0m\u001b[1;33m\u001b[0m\u001b[0m\n",
      "\u001b[1;32m~\\AppData\\Local\\Continuum\\anaconda3\\lib\\site-packages\\sklearn\\utils\\validation.py\u001b[0m in \u001b[0;36mcheck_array\u001b[1;34m(array, accept_sparse, dtype, order, copy, force_all_finite, ensure_2d, allow_nd, ensure_min_samples, ensure_min_features, warn_on_dtype, estimator)\u001b[0m\n\u001b[0;32m    451\u001b[0m                              % (array.ndim, estimator_name))\n\u001b[0;32m    452\u001b[0m         \u001b[1;32mif\u001b[0m \u001b[0mforce_all_finite\u001b[0m\u001b[1;33m:\u001b[0m\u001b[1;33m\u001b[0m\u001b[0m\n\u001b[1;32m--> 453\u001b[1;33m             \u001b[0m_assert_all_finite\u001b[0m\u001b[1;33m(\u001b[0m\u001b[0marray\u001b[0m\u001b[1;33m)\u001b[0m\u001b[1;33m\u001b[0m\u001b[0m\n\u001b[0m\u001b[0;32m    454\u001b[0m \u001b[1;33m\u001b[0m\u001b[0m\n\u001b[0;32m    455\u001b[0m     \u001b[0mshape_repr\u001b[0m \u001b[1;33m=\u001b[0m \u001b[0m_shape_repr\u001b[0m\u001b[1;33m(\u001b[0m\u001b[0marray\u001b[0m\u001b[1;33m.\u001b[0m\u001b[0mshape\u001b[0m\u001b[1;33m)\u001b[0m\u001b[1;33m\u001b[0m\u001b[0m\n",
      "\u001b[1;32m~\\AppData\\Local\\Continuum\\anaconda3\\lib\\site-packages\\sklearn\\utils\\validation.py\u001b[0m in \u001b[0;36m_assert_all_finite\u001b[1;34m(X)\u001b[0m\n\u001b[0;32m     42\u001b[0m             and not np.isfinite(X).all()):\n\u001b[0;32m     43\u001b[0m         raise ValueError(\"Input contains NaN, infinity\"\n\u001b[1;32m---> 44\u001b[1;33m                          \" or a value too large for %r.\" % X.dtype)\n\u001b[0m\u001b[0;32m     45\u001b[0m \u001b[1;33m\u001b[0m\u001b[0m\n\u001b[0;32m     46\u001b[0m \u001b[1;33m\u001b[0m\u001b[0m\n",
      "\u001b[1;31mValueError\u001b[0m: Input contains NaN, infinity or a value too large for dtype('float64')."
     ]
    }
   ],
   "source": [
    "score = rmsle_cv(stacked_averaged_models)\n",
    "print(\"Stacking Averaged models score: {:.4f} ({:.4f})\".format(score.mean(), score.std()))"
   ]
  },
  {
   "cell_type": "markdown",
   "metadata": {},
   "source": [
    "# Ensembling StackedRegressor, XGBoost and Gradient"
   ]
  },
  {
   "cell_type": "markdown",
   "metadata": {},
   "source": [
    "Final Training and Prediction"
   ]
  },
  {
   "cell_type": "markdown",
   "metadata": {},
   "source": [
    "# StackedRegressor:"
   ]
  },
  {
   "cell_type": "code",
   "execution_count": 1343,
   "metadata": {
    "scrolled": true
   },
   "outputs": [],
   "source": [
    "stacked_averaged_models.fit(train.values, y_train)\n",
    "stacked_train_pred = stacked_averaged_models.predict(train.values)"
   ]
  },
  {
   "cell_type": "code",
   "execution_count": 1344,
   "metadata": {},
   "outputs": [],
   "source": [
    "stacked_pred = (stacked_averaged_models.predict(test.values))"
   ]
  },
  {
   "cell_type": "code",
   "execution_count": 1345,
   "metadata": {
    "scrolled": true
   },
   "outputs": [
    {
     "name": "stdout",
     "output_type": "stream",
     "text": [
      "126.08221721756561\n"
     ]
    }
   ],
   "source": [
    "print(rmsle(y_train, stacked_train_pred))"
   ]
  },
  {
   "cell_type": "code",
   "execution_count": 1137,
   "metadata": {
    "colab": {},
    "colab_type": "code",
    "id": "WCs9o0xt3Zfi"
   },
   "outputs": [],
   "source": [
    "fee_stacked_pred = pd.DataFrame(stacked_pred)"
   ]
  },
  {
   "cell_type": "code",
   "execution_count": 1138,
   "metadata": {
    "colab": {},
    "colab_type": "code",
    "id": "WCs9o0xt3Zfi"
   },
   "outputs": [],
   "source": [
    "#spliting misc for fees\n",
    "i=dst_input[dst_input[\"misc_fees\"]>0].index.tolist()\n",
    "fee_stacked_pred[0].iloc[i]=dst_input['misc_fees'].iloc[i]"
   ]
  },
  {
   "cell_type": "code",
   "execution_count": 1139,
   "metadata": {
    "colab": {},
    "colab_type": "code",
    "id": "WCs9o0xt3Zfi"
   },
   "outputs": [],
   "source": [
    "fee_stacked_pred.to_excel('fee_test_reslt_stacked.xlsx')"
   ]
  },
  {
   "cell_type": "markdown",
   "metadata": {},
   "source": [
    "# GBoost:"
   ]
  },
  {
   "cell_type": "code",
   "execution_count": 1346,
   "metadata": {},
   "outputs": [],
   "source": [
    "GBoost.fit(train, y_train)\n",
    "gb_train_pred = GBoost.predict(train)"
   ]
  },
  {
   "cell_type": "code",
   "execution_count": 1347,
   "metadata": {},
   "outputs": [],
   "source": [
    "gb_pred = (GBoost.predict(test.values))"
   ]
  },
  {
   "cell_type": "code",
   "execution_count": 1348,
   "metadata": {},
   "outputs": [
    {
     "name": "stdout",
     "output_type": "stream",
     "text": [
      "138.60527363032222\n"
     ]
    }
   ],
   "source": [
    "print(rmsle(y_train, gb_train_pred))"
   ]
  },
  {
   "cell_type": "code",
   "execution_count": 1143,
   "metadata": {
    "colab": {},
    "colab_type": "code",
    "id": "WCs9o0xt3Zfi"
   },
   "outputs": [],
   "source": [
    "fee_gb_pred = pd.DataFrame(gb_pred)"
   ]
  },
  {
   "cell_type": "code",
   "execution_count": 1144,
   "metadata": {
    "colab": {},
    "colab_type": "code",
    "id": "WCs9o0xt3Zfi"
   },
   "outputs": [],
   "source": [
    "#spliting misc for fees\n",
    "i=dst_input[dst_input[\"misc_fees\"]>0].index.tolist()\n",
    "fee_gb_pred[0].iloc[i]=dst_input['misc_fees'].iloc[i]"
   ]
  },
  {
   "cell_type": "markdown",
   "metadata": {
    "colab": {},
    "colab_type": "code",
    "id": "WCs9o0xt3Zfi"
   },
   "source": [
    "#spliting misc for fees\n",
    "i=dst_input[dst_input[\"misc_fees\"]>0].index.tolist()\n",
    "fee_pred[0].iloc[i]=dst_input['misc_fees'].iloc[i]"
   ]
  },
  {
   "cell_type": "code",
   "execution_count": 1145,
   "metadata": {
    "colab": {},
    "colab_type": "code",
    "id": "WCs9o0xt3Zfi"
   },
   "outputs": [],
   "source": [
    "fee_gb_pred.to_excel('fee_test_reslt_Gboost.xlsx')"
   ]
  },
  {
   "cell_type": "code",
   "execution_count": 1146,
   "metadata": {
    "scrolled": true
   },
   "outputs": [
    {
     "name": "stdout",
     "output_type": "stream",
     "text": [
      "RMSLE score on train data:\n",
      "107.32887515739985\n"
     ]
    }
   ],
   "source": [
    "'''RMSE on the entire Train data when averaging'''\n",
    "\n",
    "print('RMSLE score on train data:')\n",
    "print(rmsle(y_train,stacked_train_pred*0.15 +\n",
    "               xgb_train_pred*0.5 +gb_train_pred*0.35 ))"
   ]
  },
  {
   "cell_type": "markdown",
   "metadata": {},
   "source": [
    "# Ensemble prediction:"
   ]
  },
  {
   "cell_type": "code",
   "execution_count": 1349,
   "metadata": {},
   "outputs": [],
   "source": [
    "ens_train = stacked_train_pred*0.15 + xgb_train_pred*0.50 + gb_train_pred*0.35"
   ]
  },
  {
   "cell_type": "code",
   "execution_count": 1350,
   "metadata": {
    "colab": {},
    "colab_type": "code",
    "id": "WCs9o0xt3Zfi"
   },
   "outputs": [],
   "source": [
    "ens_train_pd = pd.DataFrame(ens_train)"
   ]
  },
  {
   "cell_type": "code",
   "execution_count": 1351,
   "metadata": {
    "colab": {},
    "colab_type": "code",
    "id": "WCs9o0xt3Zfi"
   },
   "outputs": [],
   "source": [
    "ens_train_pd.to_excel('ens_train_pd.xlsx')"
   ]
  },
  {
   "cell_type": "code",
   "execution_count": 1356,
   "metadata": {},
   "outputs": [],
   "source": [
    "ensemble = stacked_pred*0.15 + xgb_pred*0.5 + gb_pred*0.35"
   ]
  },
  {
   "cell_type": "code",
   "execution_count": 1357,
   "metadata": {
    "scrolled": true
   },
   "outputs": [
    {
     "data": {
      "text/plain": [
       "array([304.06724421, 315.3448288 , 289.74863641, ..., 212.71952914,\n",
       "       221.45579583, 410.8411422 ])"
      ]
     },
     "execution_count": 1357,
     "metadata": {},
     "output_type": "execute_result"
    }
   ],
   "source": [
    "ensemble"
   ]
  },
  {
   "cell_type": "code",
   "execution_count": 1358,
   "metadata": {
    "colab": {},
    "colab_type": "code",
    "id": "WCs9o0xt3Zfi"
   },
   "outputs": [],
   "source": [
    "fee_pred_ensb = pd.DataFrame(ensemble)"
   ]
  },
  {
   "cell_type": "markdown",
   "metadata": {
    "colab": {},
    "colab_type": "code",
    "id": "WCs9o0xt3Zfi"
   },
   "source": [
    "# agegroup below 30 and above 59 as a categorical feature\n",
    "def round_output(pro):\n",
    "    if pro > 65:\n",
    "        fe=70\n",
    "        if pro>75:\n",
    "            fe=80\n",
    "            if pro>90:\n",
    "                fe=100\n",
    "                if pro>112:\n",
    "                    fe =125\n",
    "                    if pro>125:\n",
    "                        fe =130\n",
    "                        if pro>140:\n",
    "                            fe = 150\n",
    "                            if pro>165:\n",
    "                                fe = 180\n",
    "                                if pro>190:\n",
    "                                    fe =200\n",
    "                                    if pro>210:\n",
    "                                        fe =220\n",
    "                                        if pro>225:\n",
    "                                            fe =230\n",
    "                                            if pro>240:\n",
    "                                                fe =250\n",
    "                                                if pro>255:\n",
    "                                                    fe = 260\n",
    "                                                    if pro>270:\n",
    "                                                        fe =280\n",
    "                                                        if pro>290:\n",
    "                                                            fe=300\n",
    "                                                            if pro>325:\n",
    "                                                                fe =350\n",
    "                                                                if pro>365:\n",
    "                                                                    fe= 380\n",
    "                                                                    if pro>390:\n",
    "                                                                        fe = 400\n",
    "                                                                        if pro>415:\n",
    "                                                                            fe=430\n",
    "                                                                            if pro>440:\n",
    "                                                                                fe =450\n",
    "                                                                                if pro>475:\n",
    "                                                                                    fe=500\n",
    "                                                                                    if pro>525:\n",
    "                                                                                        fe=550\n",
    "                                                                                        if pro>575:\n",
    "                                                                                            fe=600\n",
    "                                                                                            if pro>615:\n",
    "                                                                                                fe=630\n",
    "                                                                                                if pro>640:\n",
    "                                                                                                    fe=650\n",
    "                                                                                                    if pro>675:\n",
    "                                                                                                        fe = 700\n",
    "                                                                                                        if pro>725:\n",
    "                                                                                                            fe = 750\n",
    "                                                                                                            if pro>775:\n",
    "                                                                                                                fe=800\n",
    "                                                                                                                if pro>825:\n",
    "                                                                                                                    fe=850\n",
    "                                                                                                                    if pro>875:\n",
    "                                                                                                                        fe= 900                                                                                                       \n",
    "    else:\n",
    "        fe=pro\n",
    "    return fe\n",
    "      \n",
    "fee_pred_ensb[0] = fee_pred_ensb[0].apply(round_output)"
   ]
  },
  {
   "cell_type": "code",
   "execution_count": 1361,
   "metadata": {
    "colab": {},
    "colab_type": "code",
    "id": "WCs9o0xt3Zfi"
   },
   "outputs": [],
   "source": [
    "#spliting misc for fees\n",
    "i=dst_input[dst_input[\"misc_fees\"]>0].index.tolist()\n",
    "fee_pred_ensb[0].iloc[i]=dst_input['misc_fees'].iloc[i]"
   ]
  },
  {
   "cell_type": "markdown",
   "metadata": {},
   "source": [
    "fee_pred_ensb.values[((fee_pred_ensb.values > 150) & (fee_pred_ensb.values < 175)) ] = 180\n",
    "fee_pred_ensb.values[((fee_pred_ensb.values > 175) & (fee_pred_ensb.values < 200)) ] = 200"
   ]
  },
  {
   "cell_type": "code",
   "execution_count": 1363,
   "metadata": {
    "colab": {},
    "colab_type": "code",
    "id": "WCs9o0xt3Zfi",
    "scrolled": true
   },
   "outputs": [],
   "source": [
    "fee_pred_ensb.to_excel('fee_test_reslt_ensb1.xlsx')"
   ]
  },
  {
   "cell_type": "raw",
   "metadata": {},
   "source": []
  },
  {
   "cell_type": "code",
   "execution_count": null,
   "metadata": {},
   "outputs": [],
   "source": []
  },
  {
   "cell_type": "code",
   "execution_count": null,
   "metadata": {},
   "outputs": [],
   "source": []
  },
  {
   "cell_type": "code",
   "execution_count": null,
   "metadata": {},
   "outputs": [],
   "source": []
  },
  {
   "cell_type": "code",
   "execution_count": null,
   "metadata": {},
   "outputs": [],
   "source": []
  },
  {
   "cell_type": "code",
   "execution_count": null,
   "metadata": {},
   "outputs": [],
   "source": []
  },
  {
   "cell_type": "code",
   "execution_count": null,
   "metadata": {},
   "outputs": [],
   "source": []
  },
  {
   "cell_type": "code",
   "execution_count": null,
   "metadata": {},
   "outputs": [],
   "source": []
  },
  {
   "cell_type": "code",
   "execution_count": null,
   "metadata": {},
   "outputs": [],
   "source": []
  }
 ],
 "metadata": {
  "kernelspec": {
   "display_name": "Python 3",
   "language": "python",
   "name": "python3"
  },
  "language_info": {
   "codemirror_mode": {
    "name": "ipython",
    "version": 3
   },
   "file_extension": ".py",
   "mimetype": "text/x-python",
   "name": "python",
   "nbconvert_exporter": "python",
   "pygments_lexer": "ipython3",
   "version": "3.7.1"
  }
 },
 "nbformat": 4,
 "nbformat_minor": 2
}
